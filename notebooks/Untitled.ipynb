{
 "cells": [
  {
   "cell_type": "markdown",
   "id": "4664ab20",
   "metadata": {},
   "source": [
    "This notebook is meant to walk through the process of mosaicing images to detect transient sources in TTE data. "
   ]
  },
  {
   "cell_type": "code",
   "execution_count": 1,
   "id": "2ee28c99",
   "metadata": {},
   "outputs": [],
   "source": [
    "import batanalysis as ba\n",
    "from swifttools.swift_too import GUANO \n",
    "\n",
    "import matplotlib.pyplot as plt\n",
    "import numpy as np\n",
    "import scipy as sp\n",
    "from pathlib import Path\n",
    "from astropy.io import fits\n",
    "from astropy.time import Time, TimeDelta\n",
    "import astropy.units as u\n",
    "from astropy.coordinates import SkyCoord\n",
    "import datetime\n",
    "import os"
   ]
  },
  {
   "cell_type": "code",
   "execution_count": 2,
   "id": "53b55d68",
   "metadata": {},
   "outputs": [
    {
     "name": "stdout",
     "output_type": "stream",
     "text": [
      "+--------------+----------------------------+------------+---------------------+----------------+\n",
      "| Trigger Type |               Trigger Time | Offset (s) | Window Duration (s) | Observation ID |\n",
      "+--------------+----------------------------+------------+---------------------+----------------+\n",
      "|      GBM GRB | 2021-06-26 23:46:24.000001 |         50 |                 200 |    00014135005 |\n",
      "|      GBM GRB |        2021-06-26 08:16:15 |         50 |                 200 |    00036799012 |\n",
      "|      GBM GRB |        2021-06-26 00:00:00 |         50 |                 200 |    00035785004 |\n",
      "+--------------+----------------------------+------------+---------------------+----------------+\n"
     ]
    }
   ],
   "source": [
    "guano = GUANO(begin=\"2021-06-26\", end=\"2021-06-27\", limit=100)\n",
    "print(guano)"
   ]
  },
  {
   "cell_type": "code",
   "execution_count": 3,
   "id": "ba18e2d0",
   "metadata": {},
   "outputs": [],
   "source": [
    "trigger=guano.entries[1]"
   ]
  },
  {
   "cell_type": "code",
   "execution_count": 4,
   "id": "dccfbf0b",
   "metadata": {
    "scrolled": true
   },
   "outputs": [
    {
     "data": {
      "application/vnd.jupyter.widget-view+json": {
       "model_id": "13758bb08b584331bc0122ae44f05462",
       "version_major": 2,
       "version_minor": 0
      },
      "text/plain": [
       "Downloading files:   0%|          | 0/33 [00:00<?, ?files/s]"
      ]
     },
     "metadata": {},
     "output_type": "display_data"
    },
    {
     "name": "stdout",
     "output_type": "stream",
     "text": [
      "{'00036799012': {'obsid': '00036799012', 'success': True, 'obsoutdir': PosixPath('/private/tmp/batdata/download_examples/00036799012'), 'quicklook': False, 'data': Swift_Data(username='anonymous',obsid='00036799012',quicklook='False',auxil='True',bat='True',xrt='False',uvot='False',log='False',tdrss='True')}}\n",
      "/private/tmp/batdata/download_examples\n"
     ]
    },
    {
     "name": "stderr",
     "output_type": "stream",
     "text": [
      "/Users/tparsota/opt/anaconda3/envs/py311/lib/python3.11/site-packages/swifttools/swift_too/swift_data.py:405: UserWarning: SWIFT_TLE_ARCHIVE.txt.21182.87130952.gz exists and not overwritten (set clobber=True to override this).\n",
      "/Users/tparsota/opt/anaconda3/envs/py311/lib/python3.11/site-packages/swifttools/swift_too/swift_data.py:405: UserWarning: sw00036799012pat.fits.gz exists and not overwritten (set clobber=True to override this).\n",
      "/Users/tparsota/opt/anaconda3/envs/py311/lib/python3.11/site-packages/swifttools/swift_too/swift_data.py:405: UserWarning: sw00036799012pjb.par.gz exists and not overwritten (set clobber=True to override this).\n",
      "/Users/tparsota/opt/anaconda3/envs/py311/lib/python3.11/site-packages/swifttools/swift_too/swift_data.py:405: UserWarning: sw00036799012pob.cat.gz exists and not overwritten (set clobber=True to override this).\n",
      "/Users/tparsota/opt/anaconda3/envs/py311/lib/python3.11/site-packages/swifttools/swift_too/swift_data.py:405: UserWarning: sw00036799012ppr.par.gz exists and not overwritten (set clobber=True to override this).\n",
      "/Users/tparsota/opt/anaconda3/envs/py311/lib/python3.11/site-packages/swifttools/swift_too/swift_data.py:405: UserWarning: sw00036799012s.mkf.gz exists and not overwritten (set clobber=True to override this).\n",
      "/Users/tparsota/opt/anaconda3/envs/py311/lib/python3.11/site-packages/swifttools/swift_too/swift_data.py:405: UserWarning: sw00036799012sao.fits.gz exists and not overwritten (set clobber=True to override this).\n",
      "/Users/tparsota/opt/anaconda3/envs/py311/lib/python3.11/site-packages/swifttools/swift_too/swift_data.py:405: UserWarning: sw00036799012sat.fits.gz exists and not overwritten (set clobber=True to override this).\n",
      "/Users/tparsota/opt/anaconda3/envs/py311/lib/python3.11/site-packages/swifttools/swift_too/swift_data.py:405: UserWarning: sw00036799012sen.hk.gz exists and not overwritten (set clobber=True to override this).\n",
      "/Users/tparsota/opt/anaconda3/envs/py311/lib/python3.11/site-packages/swifttools/swift_too/swift_data.py:405: UserWarning: sw00036799012sti.fits.gz exists and not overwritten (set clobber=True to override this).\n",
      "/Users/tparsota/opt/anaconda3/envs/py311/lib/python3.11/site-packages/swifttools/swift_too/swift_data.py:405: UserWarning: sw00036799012uat.fits.gz exists and not overwritten (set clobber=True to override this).\n",
      "/Users/tparsota/opt/anaconda3/envs/py311/lib/python3.11/site-packages/swifttools/swift_too/swift_data.py:405: UserWarning: sw00036799012x.mkf.gz exists and not overwritten (set clobber=True to override this).\n",
      "/Users/tparsota/opt/anaconda3/envs/py311/lib/python3.11/site-packages/swifttools/swift_too/swift_data.py:405: UserWarning: sw00036799012bevshpo_uf.evt.gz exists and not overwritten (set clobber=True to override this).\n",
      "/Users/tparsota/opt/anaconda3/envs/py311/lib/python3.11/site-packages/swifttools/swift_too/swift_data.py:405: UserWarning: sw00036799012bevshsl_uf.evt.gz exists and not overwritten (set clobber=True to override this).\n",
      "/Users/tparsota/opt/anaconda3/envs/py311/lib/python3.11/site-packages/swifttools/swift_too/swift_data.py:405: UserWarning: sw00036799012bdecb.hk.gz exists and not overwritten (set clobber=True to override this).\n",
      "/Users/tparsota/opt/anaconda3/envs/py311/lib/python3.11/site-packages/swifttools/swift_too/swift_data.py:405: UserWarning: sw00036799012bdp.hk.gz exists and not overwritten (set clobber=True to override this).\n",
      "/Users/tparsota/opt/anaconda3/envs/py311/lib/python3.11/site-packages/swifttools/swift_too/swift_data.py:405: UserWarning: sw00036799012bdqcb.hk.gz exists and not overwritten (set clobber=True to override this).\n",
      "/Users/tparsota/opt/anaconda3/envs/py311/lib/python3.11/site-packages/swifttools/swift_too/swift_data.py:405: UserWarning: sw00036799012ben.hk.gz exists and not overwritten (set clobber=True to override this).\n",
      "/Users/tparsota/opt/anaconda3/envs/py311/lib/python3.11/site-packages/swifttools/swift_too/swift_data.py:405: UserWarning: sw00036799012bevtlsp.hk.gz exists and not overwritten (set clobber=True to override this).\n",
      "/Users/tparsota/opt/anaconda3/envs/py311/lib/python3.11/site-packages/swifttools/swift_too/swift_data.py:405: UserWarning: sw00036799012bevtssp.hk.gz exists and not overwritten (set clobber=True to override this).\n",
      "/Users/tparsota/opt/anaconda3/envs/py311/lib/python3.11/site-packages/swifttools/swift_too/swift_data.py:405: UserWarning: sw00036799012bgocb.hk.gz exists and not overwritten (set clobber=True to override this).\n",
      "/Users/tparsota/opt/anaconda3/envs/py311/lib/python3.11/site-packages/swifttools/swift_too/swift_data.py:405: UserWarning: sw00036799012bhd.hk.gz exists and not overwritten (set clobber=True to override this).\n",
      "/Users/tparsota/opt/anaconda3/envs/py311/lib/python3.11/site-packages/swifttools/swift_too/swift_data.py:405: UserWarning: sw00036799012bmt00010003.lc.gz exists and not overwritten (set clobber=True to override this).\n",
      "/Users/tparsota/opt/anaconda3/envs/py311/lib/python3.11/site-packages/swifttools/swift_too/swift_data.py:405: UserWarning: sw00036799012bmt00010003_rw.lc.gz exists and not overwritten (set clobber=True to override this).\n",
      "/Users/tparsota/opt/anaconda3/envs/py311/lib/python3.11/site-packages/swifttools/swift_too/swift_data.py:405: UserWarning: sw00036799012bmt00010029.lc.gz exists and not overwritten (set clobber=True to override this).\n",
      "/Users/tparsota/opt/anaconda3/envs/py311/lib/python3.11/site-packages/swifttools/swift_too/swift_data.py:405: UserWarning: sw00036799012bmt00010029_rw.lc.gz exists and not overwritten (set clobber=True to override this).\n",
      "/Users/tparsota/opt/anaconda3/envs/py311/lib/python3.11/site-packages/swifttools/swift_too/swift_data.py:405: UserWarning: sw00036799012bmt00010051.lc.gz exists and not overwritten (set clobber=True to override this).\n",
      "/Users/tparsota/opt/anaconda3/envs/py311/lib/python3.11/site-packages/swifttools/swift_too/swift_data.py:405: UserWarning: sw00036799012bmt00010051_rw.lc.gz exists and not overwritten (set clobber=True to override this).\n",
      "/Users/tparsota/opt/anaconda3/envs/py311/lib/python3.11/site-packages/swifttools/swift_too/swift_data.py:405: UserWarning: sw00036799012brt1s.lc.gz exists and not overwritten (set clobber=True to override this).\n",
      "/Users/tparsota/opt/anaconda3/envs/py311/lib/python3.11/site-packages/swifttools/swift_too/swift_data.py:405: UserWarning: sw00036799012brtmc.lc.gz exists and not overwritten (set clobber=True to override this).\n",
      "/Users/tparsota/opt/anaconda3/envs/py311/lib/python3.11/site-packages/swifttools/swift_too/swift_data.py:405: UserWarning: sw00036799012brtms.lc.gz exists and not overwritten (set clobber=True to override this).\n",
      "/Users/tparsota/opt/anaconda3/envs/py311/lib/python3.11/site-packages/swifttools/swift_too/swift_data.py:405: UserWarning: sw00036799012brtqd.lc.gz exists and not overwritten (set clobber=True to override this).\n",
      "/Users/tparsota/opt/anaconda3/envs/py311/lib/python3.11/site-packages/swifttools/swift_too/swift_data.py:405: UserWarning: sw00036799012bsvpbo1252g03e9.dph.gz exists and not overwritten (set clobber=True to override this).\n"
     ]
    }
   ],
   "source": [
    "tmp_download_dir=\"/tmp/batdata/download_examples\"\n",
    "\n",
    "ba.datadir(tmp_download_dir, mkdir=True)\n",
    "\n",
    "download = ba.download_swiftdata(guano[1].obsid, quiet=False)\n",
    "\n",
    "datadir=ba.datadir().joinpath(guano[1].obsid)\n",
    "\n",
    "print(download)\n",
    "print(ba.datadir())"
   ]
  },
  {
   "cell_type": "code",
   "execution_count": 5,
   "id": "70c59802",
   "metadata": {},
   "outputs": [
    {
     "name": "stdout",
     "output_type": "stream",
     "text": [
      "A save file has been written to /private/tmp/batdata/download_examples/00036799012_eventresult/batevent.pickle.\n"
     ]
    }
   ],
   "source": [
    "event=ba.BatEvent(guano[1].obsid, is_guano=True)"
   ]
  },
  {
   "cell_type": "code",
   "execution_count": 7,
   "id": "66af3c06",
   "metadata": {},
   "outputs": [
    {
     "data": {
      "image/png": "[encoded data removed]",
      "text/plain": [
       "<Figure size 640x480 with 1 Axes>"
      ]
     },
     "metadata": {},
     "output_type": "display_data"
    }
   ],
   "source": [
    "event.attitude.plot()"
   ]
  },
  {
   "cell_type": "code",
   "execution_count": null,
   "id": "af01f196",
   "metadata": {},
   "outputs": [],
   "source": [
    "pointed_event=ba.TimeTaggedEvents.from_file(ba.datadir().joinpath(\"00036799012/bat/event/\"))"
   ]
  }
 ],
 "metadata": {
  "kernelspec": {
   "display_name": "Python 3 (ipykernel)",
   "language": "python",
   "name": "python3"
  },
  "language_info": {
   "codemirror_mode": {
    "name": "ipython",
    "version": 3
   },
   "file_extension": ".py",
   "mimetype": "text/x-python",
   "name": "python",
   "nbconvert_exporter": "python",
   "pygments_lexer": "ipython3",
   "version": "3.11.3"
  }
 },
 "nbformat": 4,
 "nbformat_minor": 5
}
