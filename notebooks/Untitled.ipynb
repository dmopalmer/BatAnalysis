{
 "cells": [
  {
   "cell_type": "markdown",
   "id": "00678891",
   "metadata": {},
   "source": [
    "This notebook is meant to walk through the process of mosaicing images to detect transient sources in TTE data. "
   ]
  },
  {
   "cell_type": "code",
   "execution_count": null,
   "id": "68ad31ba",
   "metadata": {},
   "outputs": [],
   "source": [
    "import batanalysis as ba\n",
    "from swifttools.swift_too import GUANO \n",
    "\n",
    "import matplotlib.pyplot as plt\n",
    "import numpy as np\n",
    "import scipy as sp\n",
    "from pathlib import Path\n",
    "from astropy.io import fits\n",
    "from astropy.time import Time, TimeDelta\n",
    "import astropy.units as u\n",
    "from astropy.coordinates import SkyCoord\n",
    "import datetime\n",
    "import os"
   ]
  },
  {
   "cell_type": "code",
   "execution_count": null,
   "id": "669754e9",
   "metadata": {},
   "outputs": [],
   "source": [
    "guano = GUANO(begin=\"2021-06-26\", end=\"2021-06-27\", limit=100)\n",
    "print(guano)"
   ]
  },
  {
   "cell_type": "code",
   "execution_count": null,
   "id": "66569225",
   "metadata": {},
   "outputs": [],
   "source": [
    "trigger=guano.entries[1]"
   ]
  },
  {
   "cell_type": "code",
   "execution_count": null,
   "id": "20af3423",
   "metadata": {
    "scrolled": true
   },
   "outputs": [],
   "source": [
    "tmp_download_dir=\"/tmp/batdata/download_examples\"\n",
    "\n",
    "ba.datadir(tmp_download_dir, mkdir=True)\n",
    "\n",
    "download = ba.download_swiftdata(guano[1].obsid, quiet=False)\n",
    "\n",
    "datadir=ba.datadir().joinpath(guano[1].obsid)\n",
    "\n",
    "print(download)\n",
    "print(ba.datadir())"
   ]
  },
  {
   "cell_type": "code",
   "execution_count": null,
   "id": "1b49206f",
   "metadata": {},
   "outputs": [],
   "source": [
    "event=ba.BatEvent(guano[1].obsid, is_guano=True)"
   ]
  },
  {
   "cell_type": "code",
   "execution_count": null,
   "id": "96dd071d",
   "metadata": {},
   "outputs": [],
   "source": [
    "guano[1].obsid?"
   ]
  },
  {
   "cell_type": "code",
   "execution_count": null,
   "id": "a079da3b",
   "metadata": {},
   "outputs": [],
   "source": []
  }
 ],
 "metadata": {
  "kernelspec": {
   "display_name": "Python 3 (ipykernel)",
   "language": "python",
   "name": "python3"
  },
  "language_info": {
   "codemirror_mode": {
    "name": "ipython",
    "version": 3
   },
   "file_extension": ".py",
   "mimetype": "text/x-python",
   "name": "python",
   "nbconvert_exporter": "python",
   "pygments_lexer": "ipython3",
   "version": "3.11.3"
  }
 },
 "nbformat": 4,
 "nbformat_minor": 5
}
