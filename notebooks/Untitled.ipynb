{
 "cells": [
  {
   "cell_type": "markdown",
   "id": "5b090081",
   "metadata": {},
   "source": [
    "This notebook is meant to walk through the process of mosaicing images to detect transient sources in TTE data. "
   ]
  },
  {
   "cell_type": "code",
   "execution_count": 1,
   "id": "f1e35d4d",
   "metadata": {},
   "outputs": [],
   "source": [
    "import batanalysis as ba\n",
    "from swifttools.swift_too import GUANO \n",
    "\n",
    "import matplotlib.pyplot as plt\n",
    "import numpy as np\n",
    "import scipy as sp\n",
    "from pathlib import Path\n",
    "from astropy.io import fits\n",
    "from astropy.time import Time, TimeDelta\n",
    "import astropy.units as u\n",
    "from astropy.coordinates import SkyCoord\n",
    "import datetime\n",
    "import os"
   ]
  },
  {
   "cell_type": "code",
   "execution_count": 2,
   "id": "0b59a54c",
   "metadata": {},
   "outputs": [
    {
     "name": "stdout",
     "output_type": "stream",
     "text": [
      "+--------------+----------------------------+------------+---------------------+----------------+\n",
      "| Trigger Type |               Trigger Time | Offset (s) | Window Duration (s) | Observation ID |\n",
      "+--------------+----------------------------+------------+---------------------+----------------+\n",
      "|      GBM GRB | 2021-06-26 23:46:24.000001 |         50 |                 200 |    00014135005 |\n",
      "|      GBM GRB |        2021-06-26 08:16:15 |         50 |                 200 |    00036799012 |\n",
      "|      GBM GRB |        2021-06-26 00:00:00 |         50 |                 200 |    00035785004 |\n",
      "+--------------+----------------------------+------------+---------------------+----------------+\n"
     ]
    }
   ],
   "source": [
    "guano = GUANO(begin=\"2021-06-26\", end=\"2021-06-27\", limit=100)\n",
    "print(guano)"
   ]
  },
  {
   "cell_type": "code",
   "execution_count": 3,
   "id": "0d0b6093",
   "metadata": {},
   "outputs": [],
   "source": [
    "trigger=guano.entries[1]"
   ]
  },
  {
   "cell_type": "code",
   "execution_count": 4,
   "id": "459ac481",
   "metadata": {
    "scrolled": true
   },
   "outputs": [
    {
     "data": {
      "application/vnd.jupyter.widget-view+json": {
       "model_id": "102942507ceb4c2b9dc830144c631ec2",
       "version_major": 2,
       "version_minor": 0
      },
      "text/plain": [
       "Downloading files:   0%|          | 0/33 [00:00<?, ?files/s]"
      ]
     },
     "metadata": {},
     "output_type": "display_data"
    },
    {
     "name": "stdout",
     "output_type": "stream",
     "text": [
      "{'00036799012': {'obsid': '00036799012', 'success': True, 'obsoutdir': PosixPath('/private/tmp/batdata/download_examples/00036799012'), 'quicklook': False, 'data': Swift_Data(username='anonymous',obsid='00036799012',quicklook='False',auxil='True',bat='True',xrt='False',uvot='False',log='False',tdrss='True')}}\n",
      "/private/tmp/batdata/download_examples\n"
     ]
    },
    {
     "name": "stderr",
     "output_type": "stream",
     "text": [
      "/Users/tparsota/opt/anaconda3/envs/py311/lib/python3.11/site-packages/swifttools/swift_too/swift_data.py:405: UserWarning: SWIFT_TLE_ARCHIVE.txt.21182.87130952.gz exists and not overwritten (set clobber=True to override this).\n",
      "/Users/tparsota/opt/anaconda3/envs/py311/lib/python3.11/site-packages/swifttools/swift_too/swift_data.py:405: UserWarning: sw00036799012pat.fits.gz exists and not overwritten (set clobber=True to override this).\n",
      "/Users/tparsota/opt/anaconda3/envs/py311/lib/python3.11/site-packages/swifttools/swift_too/swift_data.py:405: UserWarning: sw00036799012pjb.par.gz exists and not overwritten (set clobber=True to override this).\n",
      "/Users/tparsota/opt/anaconda3/envs/py311/lib/python3.11/site-packages/swifttools/swift_too/swift_data.py:405: UserWarning: sw00036799012pob.cat.gz exists and not overwritten (set clobber=True to override this).\n",
      "/Users/tparsota/opt/anaconda3/envs/py311/lib/python3.11/site-packages/swifttools/swift_too/swift_data.py:405: UserWarning: sw00036799012ppr.par.gz exists and not overwritten (set clobber=True to override this).\n",
      "/Users/tparsota/opt/anaconda3/envs/py311/lib/python3.11/site-packages/swifttools/swift_too/swift_data.py:405: UserWarning: sw00036799012s.mkf.gz exists and not overwritten (set clobber=True to override this).\n",
      "/Users/tparsota/opt/anaconda3/envs/py311/lib/python3.11/site-packages/swifttools/swift_too/swift_data.py:405: UserWarning: sw00036799012sao.fits.gz exists and not overwritten (set clobber=True to override this).\n",
      "/Users/tparsota/opt/anaconda3/envs/py311/lib/python3.11/site-packages/swifttools/swift_too/swift_data.py:405: UserWarning: sw00036799012sat.fits.gz exists and not overwritten (set clobber=True to override this).\n",
      "/Users/tparsota/opt/anaconda3/envs/py311/lib/python3.11/site-packages/swifttools/swift_too/swift_data.py:405: UserWarning: sw00036799012sen.hk.gz exists and not overwritten (set clobber=True to override this).\n",
      "/Users/tparsota/opt/anaconda3/envs/py311/lib/python3.11/site-packages/swifttools/swift_too/swift_data.py:405: UserWarning: sw00036799012sti.fits.gz exists and not overwritten (set clobber=True to override this).\n",
      "/Users/tparsota/opt/anaconda3/envs/py311/lib/python3.11/site-packages/swifttools/swift_too/swift_data.py:405: UserWarning: sw00036799012uat.fits.gz exists and not overwritten (set clobber=True to override this).\n",
      "/Users/tparsota/opt/anaconda3/envs/py311/lib/python3.11/site-packages/swifttools/swift_too/swift_data.py:405: UserWarning: sw00036799012x.mkf.gz exists and not overwritten (set clobber=True to override this).\n",
      "/Users/tparsota/opt/anaconda3/envs/py311/lib/python3.11/site-packages/swifttools/swift_too/swift_data.py:405: UserWarning: sw00036799012bevshpo_uf.evt.gz exists and not overwritten (set clobber=True to override this).\n",
      "/Users/tparsota/opt/anaconda3/envs/py311/lib/python3.11/site-packages/swifttools/swift_too/swift_data.py:405: UserWarning: sw00036799012bevshsl_uf.evt.gz exists and not overwritten (set clobber=True to override this).\n",
      "/Users/tparsota/opt/anaconda3/envs/py311/lib/python3.11/site-packages/swifttools/swift_too/swift_data.py:405: UserWarning: sw00036799012bdecb.hk.gz exists and not overwritten (set clobber=True to override this).\n",
      "/Users/tparsota/opt/anaconda3/envs/py311/lib/python3.11/site-packages/swifttools/swift_too/swift_data.py:405: UserWarning: sw00036799012bdp.hk.gz exists and not overwritten (set clobber=True to override this).\n",
      "/Users/tparsota/opt/anaconda3/envs/py311/lib/python3.11/site-packages/swifttools/swift_too/swift_data.py:405: UserWarning: sw00036799012bdqcb.hk.gz exists and not overwritten (set clobber=True to override this).\n",
      "/Users/tparsota/opt/anaconda3/envs/py311/lib/python3.11/site-packages/swifttools/swift_too/swift_data.py:405: UserWarning: sw00036799012ben.hk.gz exists and not overwritten (set clobber=True to override this).\n",
      "/Users/tparsota/opt/anaconda3/envs/py311/lib/python3.11/site-packages/swifttools/swift_too/swift_data.py:405: UserWarning: sw00036799012bevtlsp.hk.gz exists and not overwritten (set clobber=True to override this).\n",
      "/Users/tparsota/opt/anaconda3/envs/py311/lib/python3.11/site-packages/swifttools/swift_too/swift_data.py:405: UserWarning: sw00036799012bevtssp.hk.gz exists and not overwritten (set clobber=True to override this).\n",
      "/Users/tparsota/opt/anaconda3/envs/py311/lib/python3.11/site-packages/swifttools/swift_too/swift_data.py:405: UserWarning: sw00036799012bgocb.hk.gz exists and not overwritten (set clobber=True to override this).\n",
      "/Users/tparsota/opt/anaconda3/envs/py311/lib/python3.11/site-packages/swifttools/swift_too/swift_data.py:405: UserWarning: sw00036799012bhd.hk.gz exists and not overwritten (set clobber=True to override this).\n",
      "/Users/tparsota/opt/anaconda3/envs/py311/lib/python3.11/site-packages/swifttools/swift_too/swift_data.py:405: UserWarning: sw00036799012bmt00010003.lc.gz exists and not overwritten (set clobber=True to override this).\n",
      "/Users/tparsota/opt/anaconda3/envs/py311/lib/python3.11/site-packages/swifttools/swift_too/swift_data.py:405: UserWarning: sw00036799012bmt00010003_rw.lc.gz exists and not overwritten (set clobber=True to override this).\n",
      "/Users/tparsota/opt/anaconda3/envs/py311/lib/python3.11/site-packages/swifttools/swift_too/swift_data.py:405: UserWarning: sw00036799012bmt00010029.lc.gz exists and not overwritten (set clobber=True to override this).\n",
      "/Users/tparsota/opt/anaconda3/envs/py311/lib/python3.11/site-packages/swifttools/swift_too/swift_data.py:405: UserWarning: sw00036799012bmt00010029_rw.lc.gz exists and not overwritten (set clobber=True to override this).\n",
      "/Users/tparsota/opt/anaconda3/envs/py311/lib/python3.11/site-packages/swifttools/swift_too/swift_data.py:405: UserWarning: sw00036799012bmt00010051.lc.gz exists and not overwritten (set clobber=True to override this).\n",
      "/Users/tparsota/opt/anaconda3/envs/py311/lib/python3.11/site-packages/swifttools/swift_too/swift_data.py:405: UserWarning: sw00036799012bmt00010051_rw.lc.gz exists and not overwritten (set clobber=True to override this).\n",
      "/Users/tparsota/opt/anaconda3/envs/py311/lib/python3.11/site-packages/swifttools/swift_too/swift_data.py:405: UserWarning: sw00036799012brt1s.lc.gz exists and not overwritten (set clobber=True to override this).\n",
      "/Users/tparsota/opt/anaconda3/envs/py311/lib/python3.11/site-packages/swifttools/swift_too/swift_data.py:405: UserWarning: sw00036799012brtmc.lc.gz exists and not overwritten (set clobber=True to override this).\n",
      "/Users/tparsota/opt/anaconda3/envs/py311/lib/python3.11/site-packages/swifttools/swift_too/swift_data.py:405: UserWarning: sw00036799012brtms.lc.gz exists and not overwritten (set clobber=True to override this).\n",
      "/Users/tparsota/opt/anaconda3/envs/py311/lib/python3.11/site-packages/swifttools/swift_too/swift_data.py:405: UserWarning: sw00036799012brtqd.lc.gz exists and not overwritten (set clobber=True to override this).\n",
      "/Users/tparsota/opt/anaconda3/envs/py311/lib/python3.11/site-packages/swifttools/swift_too/swift_data.py:405: UserWarning: sw00036799012bsvpbo1252g03e9.dph.gz exists and not overwritten (set clobber=True to override this).\n"
     ]
    }
   ],
   "source": [
    "tmp_download_dir=\"/tmp/batdata/download_examples\"\n",
    "\n",
    "ba.datadir(tmp_download_dir, mkdir=True)\n",
    "\n",
    "download = ba.download_swiftdata(guano[1].obsid, quiet=False)\n",
    "\n",
    "datadir=ba.datadir().joinpath(guano[1].obsid)\n",
    "\n",
    "print(download)\n",
    "print(ba.datadir())"
   ]
  },
  {
   "cell_type": "code",
   "execution_count": 5,
   "id": "68eede58",
   "metadata": {},
   "outputs": [
    {
     "ename": "AttributeError",
     "evalue": "'PosixPath' object has no attribute 'join'",
     "output_type": "error",
     "traceback": [
      "\u001b[0;31m---------------------------------------------------------------------------\u001b[0m",
      "\u001b[0;31mAttributeError\u001b[0m                            Traceback (most recent call last)",
      "Cell \u001b[0;32mIn[5], line 1\u001b[0m\n\u001b[0;32m----> 1\u001b[0m event\u001b[38;5;241m=\u001b[39mba\u001b[38;5;241m.\u001b[39mBatEvent(guano[\u001b[38;5;241m1\u001b[39m]\u001b[38;5;241m.\u001b[39mobsid, is_guano\u001b[38;5;241m=\u001b[39m\u001b[38;5;28;01mTrue\u001b[39;00m)\n",
      "File \u001b[0;32m~/Library/CloudStorage/Box-Box/BatAnalysis/batanalysis/bat_tte.py:292\u001b[0m, in \u001b[0;36mBatEvent.__init__\u001b[0;34m(self, obs_id, result_dir, transient_name, ra, dec, obs_dir, input_dict, recalc, verbose, load_dir, is_guano)\u001b[0m\n\u001b[1;32m    289\u001b[0m     \u001b[38;5;28mself\u001b[39m\u001b[38;5;241m.\u001b[39mauxil_raytracing_file \u001b[38;5;241m=\u001b[39m \u001b[38;5;28;01mNone\u001b[39;00m\n\u001b[1;32m    291\u001b[0m     \u001b[38;5;66;03m# need to create this map can get to this if necessary,\u001b[39;00m\n\u001b[0;32m--> 292\u001b[0m     \u001b[38;5;28mself\u001b[39m\u001b[38;5;241m.\u001b[39mapply_mask_weighting(\u001b[38;5;28mself\u001b[39m\u001b[38;5;241m.\u001b[39mra, \u001b[38;5;28mself\u001b[39m\u001b[38;5;241m.\u001b[39mdec)\n\u001b[1;32m    293\u001b[0m \u001b[38;5;28;01melif\u001b[39;00m \u001b[38;5;28mlen\u001b[39m(\u001b[38;5;28mself\u001b[39m\u001b[38;5;241m.\u001b[39mauxil_raytracing_file) \u001b[38;5;241m>\u001b[39m \u001b[38;5;241m1\u001b[39m:\n\u001b[1;32m    294\u001b[0m     \u001b[38;5;28;01mraise\u001b[39;00m \u001b[38;5;167;01mValueError\u001b[39;00m(\n\u001b[1;32m    295\u001b[0m         \u001b[38;5;124mf\u001b[39m\u001b[38;5;124m\"\u001b[39m\u001b[38;5;124mThere seem to be more than one auxiliary ray tracing file for this trigger with observation ID \u001b[39m\u001b[38;5;124m\"\u001b[39m\n\u001b[1;32m    296\u001b[0m         \u001b[38;5;124mf\u001b[39m\u001b[38;5;124m\"\u001b[39m\u001b[38;5;132;01m{\u001b[39;00m\u001b[38;5;28mself\u001b[39m\u001b[38;5;241m.\u001b[39mobs_id\u001b[38;5;132;01m}\u001b[39;00m\u001b[38;5;124m located at \u001b[39m\u001b[38;5;132;01m{\u001b[39;00m\u001b[38;5;28mself\u001b[39m\u001b[38;5;241m.\u001b[39mobs_dir\u001b[38;5;132;01m}\u001b[39;00m\u001b[38;5;124m. This file is necessary for the remaining processing.\u001b[39m\u001b[38;5;124m\"\u001b[39m\n\u001b[1;32m    297\u001b[0m     )\n",
      "File \u001b[0;32m~/opt/anaconda3/envs/py311/lib/python3.11/site-packages/astropy/units/decorators.py:313\u001b[0m, in \u001b[0;36mQuantityInput.__call__.<locals>.wrapper\u001b[0;34m(*func_args, **func_kwargs)\u001b[0m\n\u001b[1;32m    311\u001b[0m \u001b[38;5;66;03m# Call the original function with any equivalencies in force.\u001b[39;00m\n\u001b[1;32m    312\u001b[0m \u001b[38;5;28;01mwith\u001b[39;00m add_enabled_equivalencies(\u001b[38;5;28mself\u001b[39m\u001b[38;5;241m.\u001b[39mequivalencies):\n\u001b[0;32m--> 313\u001b[0m     return_ \u001b[38;5;241m=\u001b[39m wrapped_function(\u001b[38;5;241m*\u001b[39mfunc_args, \u001b[38;5;241m*\u001b[39m\u001b[38;5;241m*\u001b[39mfunc_kwargs)\n\u001b[1;32m    315\u001b[0m \u001b[38;5;66;03m# Return\u001b[39;00m\n\u001b[1;32m    316\u001b[0m ra \u001b[38;5;241m=\u001b[39m wrapped_signature\u001b[38;5;241m.\u001b[39mreturn_annotation\n",
      "File \u001b[0;32m~/Library/CloudStorage/Box-Box/BatAnalysis/batanalysis/bat_tte.py:620\u001b[0m, in \u001b[0;36mBatEvent.apply_mask_weighting\u001b[0;34m(self, ra, dec)\u001b[0m\n\u001b[1;32m    618\u001b[0m \u001b[38;5;66;03m# if this attribute is None, we need to define it and create it using the standard naming convention\u001b[39;00m\n\u001b[1;32m    619\u001b[0m \u001b[38;5;28;01mif\u001b[39;00m \u001b[38;5;28mself\u001b[39m\u001b[38;5;241m.\u001b[39mauxil_raytracing_file \u001b[38;5;129;01mis\u001b[39;00m \u001b[38;5;28;01mNone\u001b[39;00m:\n\u001b[0;32m--> 620\u001b[0m     temp_auxil_raytracing_file \u001b[38;5;241m=\u001b[39m \u001b[38;5;28mself\u001b[39m\u001b[38;5;241m.\u001b[39mevent_files\u001b[38;5;241m.\u001b[39mparent\u001b[38;5;241m.\u001b[39mjoin(\n\u001b[1;32m    621\u001b[0m         \u001b[38;5;124mf\u001b[39m\u001b[38;5;124m\"\u001b[39m\u001b[38;5;124msw\u001b[39m\u001b[38;5;132;01m{\u001b[39;00m\u001b[38;5;28mself\u001b[39m\u001b[38;5;241m.\u001b[39mobs_id\u001b[38;5;132;01m}\u001b[39;00m\u001b[38;5;124mbevtr.fits\u001b[39m\u001b[38;5;124m\"\u001b[39m\n\u001b[1;32m    622\u001b[0m     )\n\u001b[1;32m    623\u001b[0m \u001b[38;5;28;01melse\u001b[39;00m:\n\u001b[1;32m    624\u001b[0m     temp_auxil_raytracing_file \u001b[38;5;241m=\u001b[39m \u001b[38;5;28mself\u001b[39m\u001b[38;5;241m.\u001b[39mauxil_raytracing_file\n",
      "\u001b[0;31mAttributeError\u001b[0m: 'PosixPath' object has no attribute 'join'"
     ]
    }
   ],
   "source": [
    "event=ba.BatEvent(guano[1].obsid, is_guano=True)"
   ]
  },
  {
   "cell_type": "code",
   "execution_count": null,
   "id": "b06fdd1d",
   "metadata": {},
   "outputs": [],
   "source": [
    "guano[1].obsid?"
   ]
  },
  {
   "cell_type": "code",
   "execution_count": null,
   "id": "81e841c3",
   "metadata": {},
   "outputs": [],
   "source": []
  }
 ],
 "metadata": {
  "kernelspec": {
   "display_name": "Python 3 (ipykernel)",
   "language": "python",
   "name": "python3"
  },
  "language_info": {
   "codemirror_mode": {
    "name": "ipython",
    "version": 3
   },
   "file_extension": ".py",
   "mimetype": "text/x-python",
   "name": "python",
   "nbconvert_exporter": "python",
   "pygments_lexer": "ipython3",
   "version": "3.11.3"
  }
 },
 "nbformat": 4,
 "nbformat_minor": 5
}
