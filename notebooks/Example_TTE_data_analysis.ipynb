{
 "cells": [
  {
   "cell_type": "markdown",
   "id": "b94d55c6",
   "metadata": {},
   "source": [
    "# BAT TTE Analysis Overview\n",
    "\n",
    "## This notebook gives a brief overview of the capabilities of the BatAnalysis package for dynamically analyze BAT Time-tagged Event (TTE) data. "
   ]
  },
  {
   "cell_type": "markdown",
   "id": "3723218f",
   "metadata": {},
   "source": [
    "Here, we will analyze a BAT triggered GRB to exhibit the various capabilities that the BatAnalysis tool offers to interact with the TTE data, allowing users to download data, create lightcurves which can be dynamically rebinned in time and energy, and also create Pulse Height Amplitude (PHA) files for any arbitrary time bin at arbitrary energy binning. \n",
    "\n",
    "First, we will look at GRB 211211A, a bright long GRB that was determined to be from a merger of compact objects. This GRB was detected by BAT and the refined analyses can be found here: https://swift.gsfc.nasa.gov/results/batgrbcat/GRB211211A/web/GRB211211A.html\n",
    "\n",
    "Lets start off by importing the necessary python packages. "
   ]
  },
  {
   "cell_type": "code",
   "execution_count": 1,
   "id": "f6d228a8",
   "metadata": {},
   "outputs": [],
   "source": [
    "import xspec\n",
    "import batanalysis as ba\n",
    "import swiftbat\n",
    "from swifttools.swift_too import ObsQuery \n",
    "\n",
    "import matplotlib.pyplot as plt\n",
    "import numpy as np\n",
    "import scipy as sp\n",
    "from pathlib import Path\n",
    "from astropy.io import fits\n",
    "from astropy.time import Time, TimeDelta\n",
    "import astropy.units as u\n",
    "from astropy.coordinates import SkyCoord\n",
    "import datetime\n",
    "import os"
   ]
  },
  {
   "cell_type": "markdown",
   "id": "284bf367",
   "metadata": {},
   "source": [
    "### 1. Download the data\n",
    "\n",
    "First, lets look at downloading the BAT TTE data for this event. We will use the basics of downloading Swift BAT data covered in the **Example_data_download** notebook in this directory. \n",
    "\n",
    "We will use the swifttools package to query over the hour that the GRB has occured to get the observations that have occured. We expect the GRB to appear here since we know that the GRB occured on 2021-12-11 with the trigger time of 13:09:59.634260 UTC. \n",
    "\n",
    "Documentation for swifttools can be found here: https://www.swift.psu.edu/too_api/\n"
   ]
  },
  {
   "cell_type": "code",
   "execution_count": 2,
   "id": "513a1c41",
   "metadata": {},
   "outputs": [
    {
     "name": "stdout",
     "output_type": "stream",
     "text": [
      "+---------------------+---------------------+----------------------+--------------------+--------------+--------------+\n",
      "|          Begin Time |            End Time |          Target Name | Observation Number | Exposure (s) | Slewtime (s) |\n",
      "+---------------------+---------------------+----------------------+--------------------+--------------+--------------+\n",
      "| 2021-12-11 12:57:02 | 2021-12-11 13:10:36 |              Mrk 279 |        00037591121 |          685 |          129 |\n",
      "| 2021-12-11 13:10:37 | 2021-12-11 13:15:21 |          GRB 211211A |        01088940000 |          215 |           69 |\n",
      "| 2021-12-11 13:15:26 | 2021-12-11 13:28:00 |        CYGNUSCOCOON2 |        00095933007 |          630 |          124 |\n",
      "| 2021-12-11 13:28:02 | 2021-12-11 13:52:57 | XMM_J004855.5-734946 |        00034599017 |         1310 |          185 |\n",
      "| 2021-12-11 13:53:02 | 2021-12-11 13:57:59 |           SN2021aefx |        00014916016 |          235 |           62 |\n",
      "| 2021-12-11 13:58:03 | 2021-12-11 14:06:57 |              GJ 3631 |        00014941009 |          380 |          154 |\n",
      "+---------------------+---------------------+----------------------+--------------------+--------------+--------------+\n"
     ]
    }
   ],
   "source": [
    "#%matplotlib widget\n",
    "\n",
    "tstart=Time(\"2021-12-11T13:00:00\")\n",
    "tend=Time(\"2021-12-11T14:00:00\")\n",
    "\n",
    "obs_table=ObsQuery(begin=tstart, end=tend)\n",
    "print(obs_table)"
   ]
  },
  {
   "cell_type": "markdown",
   "id": "582cd208",
   "metadata": {},
   "source": [
    "We have found the observation! Lets programatically select this observation and download all the data in the bat and auxil directories to a temporary directory. "
   ]
  },
  {
   "cell_type": "code",
   "execution_count": 3,
   "id": "8da6297e",
   "metadata": {},
   "outputs": [
    {
     "name": "stdout",
     "output_type": "stream",
     "text": [
      "{'01088940000': {'obsid': '01088940000', 'success': True, 'obsoutdir': PosixPath('/private/tmp/batdata/download_examples/01088940000'), 'quicklook': False, 'data': Swift_Data(username='anonymous',obsid='01088940000',quicklook='False',auxil='True',bat='True',xrt='False',uvot='False',log='False',tdrss='True')}}\n"
     ]
    }
   ],
   "source": [
    "always_use_tmp=True\n",
    "tmp_download_dir=\"/tmp/batdata/download_examples\"\n",
    "\n",
    "ba.datadir(tmp_download_dir, mkdir=True)\n",
    "\n",
    "grb_obs=[i for i in obs_table if \"GRB\" in i.targname]\n",
    "download = ba.download_swiftdata(grb_obs, quiet=True)\n",
    "print(download)"
   ]
  },
  {
   "cell_type": "markdown",
   "id": "bd33bc8c",
   "metadata": {},
   "source": [
    "Lets take a look at the files that we have downloaded. "
   ]
  },
  {
   "cell_type": "code",
   "execution_count": 4,
   "id": "3087d24c",
   "metadata": {},
   "outputs": [
    {
     "data": {
      "text/html": [
       "<table><thead><th style='text-align: left;'>Path</th><th style='text-align: left;'>Filename</th><th style='text-align: left;'>Description</th></thead><tr><td style='text-align: left;'>01088940000/auxil</td><td style='text-align: left;'>SWIFT_TLE_ARCHIVE.txt.21353.74897066.gz</td><td style='text-align: left;'>Auxillary TLE file</td></tr><tr><td style='text-align: left;'>''</td><td style='text-align: left;'>sw01088940000pat.fits.gz</td><td style='text-align: left;'>Auxillary attitude file</td></tr><tr><td style='text-align: left;'>''</td><td style='text-align: left;'>sw01088940000pjb.par.gz</td><td style='text-align: left;'>Auxillary file</td></tr><tr><td style='text-align: left;'>''</td><td style='text-align: left;'>sw01088940000pob.cat.gz</td><td style='text-align: left;'>Auxillary catalog</td></tr><tr><td style='text-align: left;'>''</td><td style='text-align: left;'>sw01088940000ppr.par.gz</td><td style='text-align: left;'>Auxillary file</td></tr><tr><td style='text-align: left;'>''</td><td style='text-align: left;'>sw01088940000s.mkf.gz</td><td style='text-align: left;'>Auxillary file</td></tr><tr><td style='text-align: left;'>''</td><td style='text-align: left;'>sw01088940000sao.fits.gz</td><td style='text-align: left;'>Auxillary file</td></tr><tr><td style='text-align: left;'>''</td><td style='text-align: left;'>sw01088940000sat.fits.gz</td><td style='text-align: left;'>Auxillary attitude file</td></tr><tr><td style='text-align: left;'>''</td><td style='text-align: left;'>sw01088940000sen.hk.gz</td><td style='text-align: left;'>Auxillary housekeeping</td></tr><tr><td style='text-align: left;'>''</td><td style='text-align: left;'>sw01088940000sti.fits.gz</td><td style='text-align: left;'>Auxillary file</td></tr><tr><td style='text-align: left;'>''</td><td style='text-align: left;'>sw01088940000uat.fits.gz</td><td style='text-align: left;'>Auxillary attitude file</td></tr><tr><td style='text-align: left;'>''</td><td style='text-align: left;'>sw01088940000x.mkf.gz</td><td style='text-align: left;'>Auxillary file</td></tr><tr><td style='text-align: left;'>01088940000/tdrss</td><td style='text-align: left;'>sw01088940000msb.lc.gz</td><td style='text-align: left;'>TDRSS lightcurve</td></tr><tr><td style='text-align: left;'>''</td><td style='text-align: left;'>sw01088940000msbal.fits.gz</td><td style='text-align: left;'>TDRSS file</td></tr><tr><td style='text-align: left;'>''</td><td style='text-align: left;'>sw01088940000msbce.fits.gz</td><td style='text-align: left;'>TDRSS file</td></tr><tr><td style='text-align: left;'>''</td><td style='text-align: left;'>sw01088940000msbsm.fits.gz</td><td style='text-align: left;'>TDRSS file</td></tr><tr><td style='text-align: left;'>''</td><td style='text-align: left;'>sw01088940000msfap.fits.gz</td><td style='text-align: left;'>TDRSS file</td></tr><tr><td style='text-align: left;'>''</td><td style='text-align: left;'>sw01088940000mspob.cat.gz</td><td style='text-align: left;'>TDRSS catalog</td></tr><tr><td style='text-align: left;'>''</td><td style='text-align: left;'>sw01088940000mssap.fits.gz</td><td style='text-align: left;'>TDRSS file</td></tr><tr><td style='text-align: left;'>''</td><td style='text-align: left;'>sw01088940000msufc.fits.gz</td><td style='text-align: left;'>TDRSS file</td></tr><tr><td style='text-align: left;'>''</td><td style='text-align: left;'>sw01088940000msuni_rw.img.gz</td><td style='text-align: left;'>TDRSS raw Genie Image data</td></tr><tr><td style='text-align: left;'>''</td><td style='text-align: left;'>sw01088940000msx.lc.gz</td><td style='text-align: left;'>TDRSS lightcurve</td></tr><tr><td style='text-align: left;'>''</td><td style='text-align: left;'>sw01088940000msxce.fits.gz</td><td style='text-align: left;'>TDRSS file</td></tr><tr><td style='text-align: left;'>''</td><td style='text-align: left;'>sw01088940000msxim_rw.img.gz</td><td style='text-align: left;'>TDRSS raw Image data</td></tr><tr><td style='text-align: left;'>''</td><td style='text-align: left;'>sw01088940000msxim_sk.img.gz</td><td style='text-align: left;'>TDRSS sky Image data</td></tr><tr><td style='text-align: left;'>''</td><td style='text-align: left;'>sw01088940000msxlr.pha.gz</td><td style='text-align: left;'>TDRSS LRPD spectrum</td></tr><tr><td style='text-align: left;'>''</td><td style='text-align: left;'>sw01088940000msxps_rw.img.gz</td><td style='text-align: left;'>TDRSS raw data</td></tr><tr><td style='text-align: left;'>''</td><td style='text-align: left;'>sw01088940000msxps_sk.img.gz</td><td style='text-align: left;'>TDRSS sky data</td></tr><tr><td style='text-align: left;'>''</td><td style='text-align: left;'>sw01088940000msxwt.pha.gz</td><td style='text-align: left;'>TDRSS WT spectrum</td></tr><tr><td style='text-align: left;'>01088940000/bat/event</td><td style='text-align: left;'>sw01088940000bevshsp_uf.evt.gz</td><td style='text-align: left;'>BAT slew/point unfiltered event event file</td></tr><tr><td style='text-align: left;'>''</td><td style='text-align: left;'>sw01088940000bevtr.fits.gz</td><td style='text-align: left;'>BAT event file</td></tr><tr><td style='text-align: left;'>01088940000/bat/hk</td><td style='text-align: left;'>sw01088940000bdecb.hk.gz</td><td style='text-align: left;'>BAT housekeeping file</td></tr><tr><td style='text-align: left;'>''</td><td style='text-align: left;'>sw01088940000bdp.hk.gz</td><td style='text-align: left;'>BAT housekeeping file</td></tr><tr><td style='text-align: left;'>''</td><td style='text-align: left;'>sw01088940000bdqcb.hk.gz</td><td style='text-align: left;'>BAT housekeeping file</td></tr><tr><td style='text-align: left;'>''</td><td style='text-align: left;'>sw01088940000ben.hk.gz</td><td style='text-align: left;'>BAT housekeeping file</td></tr><tr><td style='text-align: left;'>''</td><td style='text-align: left;'>sw01088940000bevtlsp.hk.gz</td><td style='text-align: left;'>BAT housekeeping file</td></tr><tr><td style='text-align: left;'>''</td><td style='text-align: left;'>sw01088940000bevtssp.hk.gz</td><td style='text-align: left;'>BAT housekeeping file</td></tr><tr><td style='text-align: left;'>''</td><td style='text-align: left;'>sw01088940000bgocb.hk.gz</td><td style='text-align: left;'>BAT housekeeping file</td></tr><tr><td style='text-align: left;'>''</td><td style='text-align: left;'>sw01088940000bhd.hk.gz</td><td style='text-align: left;'>BAT housekeeping file</td></tr><tr><td style='text-align: left;'>01088940000/bat/masktag</td><td style='text-align: left;'>sw01088940000bmt00010004.lc.gz</td><td style='text-align: left;'>BAT mask tagged lightcurve</td></tr><tr><td style='text-align: left;'>''</td><td style='text-align: left;'>sw01088940000bmt00010004_rw.lc.gz</td><td style='text-align: left;'>BAT raw mask tagged lightcurve</td></tr><tr><td style='text-align: left;'>01088940000/bat/products</td><td style='text-align: left;'>sw01088940000bev1s.lc.gz</td><td style='text-align: left;'>BAT lightcurve</td></tr><tr><td style='text-align: left;'>''</td><td style='text-align: left;'>sw01088940000bev1s_lc.gif</td><td style='text-align: left;'>BAT GIF preview</td></tr><tr><td style='text-align: left;'>''</td><td style='text-align: left;'>sw01088940000bev_skim.gif</td><td style='text-align: left;'>BAT sky GIF preview</td></tr><tr><td style='text-align: left;'>''</td><td style='text-align: left;'>sw01088940000bevas.pha.gz</td><td style='text-align: left;'>BAT spectrum</td></tr><tr><td style='text-align: left;'>''</td><td style='text-align: left;'>sw01088940000bevas.rsp.gz</td><td style='text-align: left;'>BAT file</td></tr><tr><td style='text-align: left;'>''</td><td style='text-align: left;'>sw01088940000bevas_dt.img.gz</td><td style='text-align: left;'>BAT data</td></tr><tr><td style='text-align: left;'>''</td><td style='text-align: left;'>sw01088940000bevas_sk.img.gz</td><td style='text-align: left;'>BAT sky data</td></tr><tr><td style='text-align: left;'>''</td><td style='text-align: left;'>sw01088940000bevbu.gti.gz</td><td style='text-align: left;'>BAT file</td></tr><tr><td style='text-align: left;'>''</td><td style='text-align: left;'>sw01088940000bevms.lc.gz</td><td style='text-align: left;'>BAT lightcurve</td></tr><tr><td style='text-align: left;'>''</td><td style='text-align: left;'>sw01088940000bevpb_dt.img.gz</td><td style='text-align: left;'>BAT data</td></tr><tr><td style='text-align: left;'>''</td><td style='text-align: left;'>sw01088940000bevpb_sk.img.gz</td><td style='text-align: left;'>BAT sky data</td></tr><tr><td style='text-align: left;'>''</td><td style='text-align: left;'>sw01088940000bevps.pha.gz</td><td style='text-align: left;'>BAT spectrum</td></tr><tr><td style='text-align: left;'>''</td><td style='text-align: left;'>sw01088940000bevps.rsp.gz</td><td style='text-align: left;'>BAT file</td></tr><tr><td style='text-align: left;'>''</td><td style='text-align: left;'>sw01088940000bevps_dt.img.gz</td><td style='text-align: left;'>BAT data</td></tr><tr><td style='text-align: left;'>''</td><td style='text-align: left;'>sw01088940000bevps_sk.img.gz</td><td style='text-align: left;'>BAT sky data</td></tr><tr><td style='text-align: left;'>''</td><td style='text-align: left;'>sw01088940000bevsl.pha.gz</td><td style='text-align: left;'>BAT spectrum</td></tr><tr><td style='text-align: left;'>01088940000/bat/rate</td><td style='text-align: left;'>sw01088940000brt1s.lc.gz</td><td style='text-align: left;'>BAT rate lightcurve</td></tr><tr><td style='text-align: left;'>''</td><td style='text-align: left;'>sw01088940000brtmc.lc.gz</td><td style='text-align: left;'>BAT rate lightcurve</td></tr><tr><td style='text-align: left;'>''</td><td style='text-align: left;'>sw01088940000brtms.lc.gz</td><td style='text-align: left;'>BAT rate lightcurve</td></tr><tr><td style='text-align: left;'>''</td><td style='text-align: left;'>sw01088940000brtqd.lc.gz</td><td style='text-align: left;'>BAT rate lightcurve</td></tr><tr><td style='text-align: left;'>01088940000/bat/survey</td><td style='text-align: left;'>sw01088940000bsvabo27acg0859.dph.gz</td><td style='text-align: left;'>BAT survey DPH</td></tr><tr><td style='text-align: left;'>''</td><td style='text-align: left;'>sw01088940000bsvabo27adg085a.dph.gz</td><td style='text-align: left;'>BAT survey DPH</td></tr><tr><td style='text-align: left;'>''</td><td style='text-align: left;'>sw01088940000bsvpbo27abg0859.dph.gz</td><td style='text-align: left;'>BAT survey DPH</td></tr></table>"
      ],
      "text/plain": [
       "Swift_Data(username='anonymous',obsid='01088940000',quicklook='False',auxil='True',bat='True',xrt='False',uvot='False',log='False',tdrss='True')"
      ]
     },
     "execution_count": 4,
     "metadata": {},
     "output_type": "execute_result"
    }
   ],
   "source": [
    "download[grb_obs[0].obsid][\"data\"]"
   ]
  },
  {
   "cell_type": "markdown",
   "id": "13596e33",
   "metadata": {},
   "source": [
    "As is shown above, we have: \n",
    " - the auxil directory with information related to the spacecraft, \n",
    " - the tdrss directory with information related to the tdrss downlinked information for the GRB when it triggered BAT, \n",
    " - the rate directory which holds hardware rate information, \n",
    " - the event directory with the TTE data\n",
    " - the housekeeping directory with information related to the BAT instrument itself\n",
    " - the masktag directory with the Swift Data Center (SDC) precomputed coded mask weights for the GRB\n",
    " - the products directory with SDC precomputed lightcurves at various time/energy binnings, pha files at predetermined timebins, and sky images\n",
    " - the survey directory which holds BAT survey data associated with this observation, which can be analyzed following the **Example_Survey_Data_Analysis** notebook\n",
    " \n",
    " We will show how we can interact and reproduce the precomputed data files from the SDC, and how we can construct new lightcurves/pha files and access the relevant data."
   ]
  },
  {
   "cell_type": "markdown",
   "id": "8f58df42",
   "metadata": {},
   "source": [
    "### 2. Loading the raw rates lightcurve"
   ]
  },
  {
   "cell_type": "markdown",
   "id": "1781a917",
   "metadata": {},
   "source": [
    "Sometimes, a source can be evident just by looking at the raw rates lightcurve without any mask weighting. Lets use the BatAnalysis Lightcurve object to load one of these raw lightcurve files and plot it as out first step in our analysis. For this we will call the `from_file()` class function as is shown below:"
   ]
  },
  {
   "cell_type": "code",
   "execution_count": 5,
   "id": "cd798998",
   "metadata": {},
   "outputs": [
    {
     "name": "stderr",
     "output_type": "stream",
     "text": [
      "/Users/tparsota/Library/CloudStorage/Box-Box/BatAnalysis/batanalysis/batproducts.py:1213: UserWarning: No event file has been specified. The resulting lightcurve object will not be able to be modified either by rebinning in energy or time.\n",
      "/Users/tparsota/Library/CloudStorage/Box-Box/BatAnalysis/batanalysis/batproducts.py:1213: UserWarning: No detector quality mask file has been specified. The resulting lightcurve object will not be able to be modified either by rebinning in energy or time.\n"
     ]
    }
   ],
   "source": [
    "datadir=ba.datadir().joinpath(grb_obs[0].obsid)\n",
    "raw_lc=ba.Lightcurve.from_file(datadir.joinpath(\"bat/rate\").joinpath(\"sw01088940000brtqd.lc.gz\"))"
   ]
  },
  {
   "cell_type": "markdown",
   "id": "abc4a548",
   "metadata": {},
   "source": [
    "Note that we have just loaded the quad rates file which gives out counts that are is prebinned into 1.6 second timebins with 4 predetermined energy bins used in teh on-board triggering algorithm (15-25, 25-50, 50-100,100-350 keV), for each quadrant of the BAT detector plane (more info can be found here: https://swift.gsfc.nasa.gov/analysis/bat_swguide_v6_3.pdf). We also get a warning stating that we will not be able to change this energy/time binning which is fine for loading this rate file. \n",
    "\n",
    "Next, lets plot this raw quad rates lightcurve:"
   ]
  },
  {
   "cell_type": "code",
   "execution_count": 6,
   "id": "5a84ab6f",
   "metadata": {},
   "outputs": [
    {
     "data": {
      "text/plain": [
       "(<Figure size 640x480 with 4 Axes>,\n",
       " array([<Axes: ylabel='Q0 COUNTS (ct)'>, <Axes: ylabel='Q1 COUNTS (ct)'>,\n",
       "        <Axes: ylabel='Q2 COUNTS (ct)'>,\n",
       "        <Axes: xlabel='MET (s)', ylabel='Q3 COUNTS (ct)'>], dtype=object))"
      ]
     },
     "execution_count": 6,
     "metadata": {},
     "output_type": "execute_result"
    },
    {
     "data": {
      "image/png": "[encoded data removed]",
      "text/plain": [
       "<Figure size 640x480 with 4 Axes>"
      ]
     },
     "metadata": {},
     "output_type": "display_data"
    }
   ],
   "source": [
    "raw_lc.plot()"
   ]
  },
  {
   "cell_type": "markdown",
   "id": "9539c7a7",
   "metadata": {},
   "source": [
    "We can see firstly that the GRB is well seen in the raw lightcurve across the detector quadrants, where each quadrant is a different subplot. Furthermore, there are more than 4 energy ranges plotted. This is due to the fact that the Lightcurve object automatically calculated the energy integrated lightcurve based on the energy bins that are provided by default.  \n",
    "\n",
    "Lets instead plot the lowest energy bin where there is typically noise in the detector, and see how strong this GRB may stand out against any detector noise."
   ]
  },
  {
   "cell_type": "code",
   "execution_count": 7,
   "id": "8d4eacc2",
   "metadata": {},
   "outputs": [
    {
     "data": {
      "text/plain": [
       "(<Figure size 640x480 with 4 Axes>,\n",
       " array([<Axes: ylabel='Q0 COUNTS (ct)'>, <Axes: ylabel='Q1 COUNTS (ct)'>,\n",
       "        <Axes: ylabel='Q2 COUNTS (ct)'>,\n",
       "        <Axes: xlabel='MET (s)', ylabel='Q3 COUNTS (ct)'>], dtype=object))"
      ]
     },
     "execution_count": 7,
     "metadata": {},
     "output_type": "execute_result"
    },
    {
     "data": {
      "image/png": "[encoded data removed]",
      "text/plain": [
       "<Figure size 640x480 with 4 Axes>"
      ]
     },
     "metadata": {},
     "output_type": "display_data"
    }
   ],
   "source": [
    "raw_lc.plot(energybins=[15,25]*u.keV)"
   ]
  },
  {
   "cell_type": "markdown",
   "id": "9e20bdb6",
   "metadata": {},
   "source": [
    "### 3. Loading in preconstructed Lightcurves"
   ]
  },
  {
   "cell_type": "markdown",
   "id": "a68fd7d4",
   "metadata": {},
   "source": [
    "We can also load in the prconstructed lightcurves from the SDC to take a look at them. Lets load in the 1 second binned mask weighted lightcurve and plot it alongside the total detector counts and the fractional exposure."
   ]
  },
  {
   "cell_type": "code",
   "execution_count": 8,
   "id": "f9baca91",
   "metadata": {},
   "outputs": [],
   "source": [
    "lc_1s=ba.Lightcurve.from_file(datadir.joinpath(\"bat/products\").joinpath(\"sw01088940000bev1s.lc.gz\"))"
   ]
  },
  {
   "cell_type": "code",
   "execution_count": 9,
   "id": "a763aed9",
   "metadata": {},
   "outputs": [
    {
     "data": {
      "image/png": "[encoded data removed]",
      "text/plain": [
       "<Figure size 640x480 with 3 Axes>"
      ]
     },
     "metadata": {},
     "output_type": "display_data"
    }
   ],
   "source": [
    "fig, ax=lc_1s.plot(plot_counts=True, plot_exposure_fraction=True)\n"
   ]
  },
  {
   "cell_type": "markdown",
   "id": "f99a52a2",
   "metadata": {},
   "source": [
    "We can access all the data in the lightcurve thorugh the `lc_1s` variable's data attribute. "
   ]
  },
  {
   "cell_type": "code",
   "execution_count": 10,
   "id": "88fe9d6c",
   "metadata": {},
   "outputs": [
    {
     "data": {
      "text/plain": [
       "{'TIME': <Quantity [6.60920788e+08, 6.60920789e+08, 6.60920790e+08, ...,\n",
       "            6.60921988e+08, 6.60921989e+08, 6.60921990e+08] s>,\n",
       " 'RATE': <Quantity [[ 0.0229589 , -0.00310736, -0.00054422, -0.01433627,\n",
       "              0.00497105],\n",
       "            [ 0.00230726, -0.00093139,  0.00934972,  0.00646745,\n",
       "              0.01719304],\n",
       "            [-0.01685957, -0.02189074, -0.00260321, -0.01626634,\n",
       "             -0.05761987],\n",
       "            ...,\n",
       "            [ 0.        ,  0.        ,  0.        ,  0.        ,\n",
       "              0.        ],\n",
       "            [ 0.        ,  0.        ,  0.        ,  0.        ,\n",
       "              0.        ],\n",
       "            [ 0.        ,  0.        ,  0.        ,  0.        ,\n",
       "              0.        ]] ct / s>,\n",
       " 'ERROR': <Quantity [[0.01380037, 0.0131629 , 0.0122548 , 0.01012912, 0.02482924],\n",
       "            [0.01281852, 0.0133983 , 0.01199247, 0.01032697, 0.02437816],\n",
       "            [0.01296971, 0.01374815, 0.0118413 , 0.01048451, 0.0246448 ],\n",
       "            ...,\n",
       "            [0.        , 0.        , 0.        , 0.        , 0.        ],\n",
       "            [0.        , 0.        , 0.        , 0.        , 0.        ],\n",
       "            [0.        , 0.        , 0.        , 0.        , 0.        ]] ct / s>,\n",
       " 'TOTCOUNTS': <Quantity [1186., 1155., 1087., ...,    0.,    0.,    0.] ct>,\n",
       " 'FRACEXP': <Quantity [1.        , 1.        , 1.        , ..., 1.        , 1.        ,\n",
       "            0.12310004]>}"
      ]
     },
     "execution_count": 10,
     "metadata": {},
     "output_type": "execute_result"
    }
   ],
   "source": [
    "lc_1s.data"
   ]
  },
  {
   "cell_type": "markdown",
   "id": "6178bb49",
   "metadata": {},
   "source": [
    "The timebin start and stop times can be obtained through the tbins attribute and the energybin information can be obtained thorugh the ebins attribute\n"
   ]
  },
  {
   "cell_type": "code",
   "execution_count": 11,
   "id": "9e94fd68",
   "metadata": {},
   "outputs": [
    {
     "name": "stdout",
     "output_type": "stream",
     "text": [
      "{'TIME_CENT': <Quantity [6.60920788e+08, 6.60920790e+08, 6.60920790e+08, ...,\n",
      "           6.60921988e+08, 6.60921990e+08, 6.60921990e+08] s>, 'TIME_START': <Quantity [6.60920788e+08, 6.60920789e+08, 6.60920790e+08, ...,\n",
      "           6.60921988e+08, 6.60921989e+08, 6.60921990e+08] s>, 'TIME_STOP': <Quantity [6.60920789e+08, 6.60920790e+08, 6.60920791e+08, ...,\n",
      "           6.60921989e+08, 6.60921990e+08, 6.60921991e+08] s>}\n",
      "{'INDEX': array([0, 1, 2, 3, 4], dtype=int16), 'E_MIN': <Quantity [ 15.,  25.,  50., 100.,  15.] keV>, 'E_MAX': <Quantity [ 25.,  50., 100., 350., 350.] keV>}\n"
     ]
    }
   ],
   "source": [
    "print(lc_1s.tbins)\n",
    "print(lc_1s.ebins)"
   ]
  },
  {
   "cell_type": "markdown",
   "id": "6123f97c",
   "metadata": {},
   "source": [
    "### 4. Loading in preconstructed PHA files"
   ]
  },
  {
   "cell_type": "markdown",
   "id": "397cbc32",
   "metadata": {},
   "source": [
    "Similar to lightcurves, PHA files can be loaded, inspected, and even conveniently fit. All the data present in these files are also easily accessible to the user. This is possible with the Spectrum object.\n",
    "\n",
    "Lets load in the pre-slew pha file computed by the SDC, which also ensures that the associated drm file is created. Note that the pha file gets unzipped as it is loaded in. This is necessary for xspec fitting in the next few cells."
   ]
  },
  {
   "cell_type": "code",
   "execution_count": 12,
   "id": "6bf08293",
   "metadata": {},
   "outputs": [
    {
     "name": "stdout",
     "output_type": "stream",
     "text": [
      "/private/tmp/batdata/download_examples/01088940000/bat/products/sw01088940000bevps.rsp\n"
     ]
    },
    {
     "name": "stderr",
     "output_type": "stream",
     "text": [
      "/Users/tparsota/Library/CloudStorage/Box-Box/BatAnalysis/batanalysis/batproducts.py:2173: UserWarning: No event file has been specified. The resulting spectrum object will not be able to bemodified either by rebinning in energy or time.\n",
      "/Users/tparsota/Library/CloudStorage/Box-Box/BatAnalysis/batanalysis/batproducts.py:2173: UserWarning: No detector quality mask file has been specified. The resulting spectrum object will not be able to be modified either by rebinning in energy or time.\n",
      "/Users/tparsota/Library/CloudStorage/Box-Box/BatAnalysis/batanalysis/batproducts.py:2173: UserWarning: No auxiliary ray tracing file has been specified. The resulting spectrum object will not be able to be modified either by rebinning in energy or time.\n"
     ]
    },
    {
     "data": {
      "image/png": "[encoded data removed]",
      "text/plain": [
       "<Figure size 640x480 with 1 Axes>"
      ]
     },
     "metadata": {},
     "output_type": "display_data"
    }
   ],
   "source": [
    "pha_ps=ba.Spectrum.from_file(datadir.joinpath(\"bat/products\").joinpath(\"sw01088940000bevps.pha.gz\"))\n",
    "pha_ps.plot()\n",
    "print(pha_ps.drm_file)"
   ]
  },
  {
   "cell_type": "markdown",
   "id": "9ae2a5cb",
   "metadata": {},
   "source": [
    "All the data can be accessed as:"
   ]
  },
  {
   "cell_type": "code",
   "execution_count": 13,
   "id": "e26b9903",
   "metadata": {},
   "outputs": [
    {
     "name": "stdout",
     "output_type": "stream",
     "text": [
      "{'CHANNEL': <Quantity [ 0.,  1.,  2.,  3.,  4.,  5.,  6.,  7.,  8.,  9., 10., 11., 12.,\n",
      "           13., 14., 15., 16., 17., 18., 19., 20., 21., 22., 23., 24., 25.,\n",
      "           26., 27., 28., 29., 30., 31., 32., 33., 34., 35., 36., 37., 38.,\n",
      "           39., 40., 41., 42., 43., 44., 45., 46., 47., 48., 49., 50., 51.,\n",
      "           52., 53., 54., 55., 56., 57., 58., 59., 60., 61., 62., 63., 64.,\n",
      "           65., 66., 67., 68., 69., 70., 71., 72., 73., 74., 75., 76., 77.,\n",
      "           78., 79.]>, 'RATE': <Quantity [0.04396221, 0.10250551, 0.20537154, 0.27386412, 0.31859604,\n",
      "           0.36155137, 0.37702068, 0.38736706, 0.3610995 , 0.32874151,\n",
      "           0.30478462, 0.29806452, 0.27307312, 0.25759929, 0.24998268,\n",
      "           0.25717661, 0.24987546, 0.24014129, 0.24209184, 0.23536998,\n",
      "           0.22931243, 0.21181355, 0.22250997, 0.20842   , 0.19872025,\n",
      "           0.20126084, 0.19066334, 0.18264604, 0.18172878, 0.16597786,\n",
      "           0.1630109 , 0.14629033, 0.14684736, 0.13847703, 0.1329215 ,\n",
      "           0.11673077, 0.12419149, 0.11086921, 0.10578124, 0.09393123,\n",
      "           0.09875998, 0.09238889, 0.07920206, 0.076369  , 0.06683375,\n",
      "           0.0770747 , 0.06028407, 0.05904073, 0.05437624, 0.04937679,\n",
      "           0.04684179, 0.04319306, 0.04195425, 0.03672309, 0.03404971,\n",
      "           0.03366786, 0.0328869 , 0.02847707, 0.03035438, 0.02824717,\n",
      "           0.02840214, 0.02006163, 0.02066242, 0.01930471, 0.02140942,\n",
      "           0.01533465, 0.01714554, 0.01293487, 0.0139462 , 0.01088323,\n",
      "           0.00997485, 0.00824223, 0.00926933, 0.00965497, 0.00940582,\n",
      "           0.01138498, 0.00920137, 0.00574692, 0.00729232, 0.11054366] ct / s>, 'STAT_ERR': <Quantity [0.00280417, 0.00413554, 0.00581024, 0.00651432, 0.006972  ,\n",
      "           0.0073292 , 0.00751486, 0.00763613, 0.00756294, 0.00717522,\n",
      "           0.00684259, 0.00649396, 0.00636182, 0.00617119, 0.00601264,\n",
      "           0.00611365, 0.00605034, 0.00593874, 0.00601458, 0.0058799 ,\n",
      "           0.00593652, 0.00573263, 0.00601998, 0.00595484, 0.00571959,\n",
      "           0.00559508, 0.00554355, 0.00544054, 0.00540983, 0.00523424,\n",
      "           0.00530292, 0.00516323, 0.00502231, 0.00474579, 0.00472452,\n",
      "           0.00459266, 0.0045241 , 0.00427774, 0.00415806, 0.00387547,\n",
      "           0.00398451, 0.00383681, 0.00378897, 0.00369144, 0.00350387,\n",
      "           0.00350072, 0.00341566, 0.00331627, 0.00330587, 0.00317317,\n",
      "           0.00314013, 0.0030067 , 0.00293762, 0.00295503, 0.00288929,\n",
      "           0.00279022, 0.00276252, 0.00262179, 0.00267116, 0.00266719,\n",
      "           0.00257158, 0.00248453, 0.00243197, 0.00231179, 0.00228406,\n",
      "           0.00229502, 0.00221181, 0.00221476, 0.00213584, 0.00198491,\n",
      "           0.00203009, 0.00202308, 0.00191788, 0.00194192, 0.00185532,\n",
      "           0.00183252, 0.0018565 , 0.00170201, 0.00179155, 0.00955148] ct / s>, 'SYS_ERR': <Quantity [0.04396221, 0.10250551, 0.20454907, 0.05334452, 0.04585854,\n",
      "           0.03842594, 0.02971898, 0.02254816, 0.01444398, 0.01314966,\n",
      "           0.01219138, 0.01192258, 0.01092292, 0.01030397, 0.00999931,\n",
      "           0.01028706, 0.00999502, 0.00960565, 0.00968367, 0.0094148 ,\n",
      "           0.0091725 , 0.00847254, 0.0089004 , 0.0083368 , 0.00794881,\n",
      "           0.00805043, 0.00762653, 0.00730584, 0.00726915, 0.00663911,\n",
      "           0.00652044, 0.00585161, 0.00587389, 0.00553908, 0.00531686,\n",
      "           0.00466923, 0.00496766, 0.00443477, 0.00423125, 0.00375725,\n",
      "           0.0039504 , 0.00369556, 0.00316808, 0.00305476, 0.00267335,\n",
      "           0.00308299, 0.00241136, 0.00236163, 0.00217505, 0.00197507,\n",
      "           0.00187367, 0.00172772, 0.00167817, 0.00146892, 0.00136199,\n",
      "           0.00134671, 0.00131548, 0.00113908, 0.00121418, 0.00112989,\n",
      "           0.00113609, 0.00080247, 0.0008265 , 0.00077219, 0.00085638,\n",
      "           0.00061339, 0.00068582, 0.00051739, 0.00055785, 0.00043533,\n",
      "           0.00039899, 0.00032969, 0.00037077, 0.0003862 , 0.00037623,\n",
      "           0.0004554 , 0.00036805, 0.00022988, 0.00031669, 0.11054366] ct / s>}\n",
      "{'TIME_START': <Quantity [6.60921028e+08] s>, 'TIME_STOP': <Quantity [6.60921037e+08] s>, 'TIME_CENT': <Quantity [6.60921032e+08] s>}\n",
      "{'INDEX': array([ 0,  1,  2,  3,  4,  5,  6,  7,  8,  9, 10, 11, 12, 13, 14, 15, 16,\n",
      "       17, 18, 19, 20, 21, 22, 23, 24, 25, 26, 27, 28, 29, 30, 31, 32, 33,\n",
      "       34, 35, 36, 37, 38, 39, 40, 41, 42, 43, 44, 45, 46, 47, 48, 49, 50,\n",
      "       51, 52, 53, 54, 55, 56, 57, 58, 59, 60, 61, 62, 63, 64, 65, 66, 67,\n",
      "       68, 69, 70, 71, 72, 73, 74, 75, 76, 77, 78, 79], dtype=int16), 'E_MIN': <Quantity [  0. ,  10. ,  12. ,  14. ,  16. ,  18. ,  20. ,  22. ,  24. ,\n",
      "            26. ,  28. ,  30.1,  32.1,  34.2,  36.3,  38.3,  40.4,  42.5,\n",
      "            44.6,  46.8,  48.9,  51.1,  53.2,  55.4,  57.6,  59.8,  62. ,\n",
      "            64.2,  66.4,  68.7,  70.9,  73.2,  75.4,  77.7,  80. ,  82.3,\n",
      "            84.6,  87. ,  89.3,  91.7,  94. ,  96.4,  98.8, 101.2, 103.6,\n",
      "           106. , 108.4, 110.9, 113.3, 115.8, 118.2, 120.7, 123.2, 125.7,\n",
      "           128.3, 130.8, 133.3, 135.9, 138.4, 141. , 143.6, 146.2, 148.8,\n",
      "           151.4, 154.1, 156.7, 159.4, 162. , 164.7, 167.4, 170.1, 172.8,\n",
      "           175.5, 178.2, 181. , 183.7, 186.5, 189.3, 192.1, 194.9] keV>, 'E_MAX': <Quantity [  10. ,   12. ,   14. ,   16. ,   18. ,   20. ,   22. ,   24. ,\n",
      "             26. ,   28. ,   30.1,   32.1,   34.2,   36.3,   38.3,   40.4,\n",
      "             42.5,   44.6,   46.8,   48.9,   51.1,   53.2,   55.4,   57.6,\n",
      "             59.8,   62. ,   64.2,   66.4,   68.7,   70.9,   73.2,   75.4,\n",
      "             77.7,   80. ,   82.3,   84.6,   87. ,   89.3,   91.7,   94. ,\n",
      "             96.4,   98.8,  101.2,  103.6,  106. ,  108.4,  110.9,  113.3,\n",
      "            115.8,  118.2,  120.7,  123.2,  125.7,  128.3,  130.8,  133.3,\n",
      "            135.9,  138.4,  141. ,  143.6,  146.2,  148.8,  151.4,  154.1,\n",
      "            156.7,  159.4,  162. ,  164.7,  167.4,  170.1,  172.8,  175.5,\n",
      "            178.2,  181. ,  183.7,  186.5,  189.3,  192.1,  194.9, 6553.6] keV>}\n"
     ]
    }
   ],
   "source": [
    "print(pha_ps.data)\n",
    "print(pha_ps.tbins)\n",
    "print(pha_ps.ebins)"
   ]
  },
  {
   "cell_type": "markdown",
   "id": "61c41868",
   "metadata": {},
   "source": [
    "With this information loaded as a Spectrum object, we can conveniently fit this with the `fit_spectrum` function of the BatAnalysis package. By default, this will fit a `cflux*powerlaw` xspec model to the spectrum. Lets try that and see how we can access the fitted spectral model parameters/information:"
   ]
  },
  {
   "cell_type": "code",
   "execution_count": 14,
   "id": "43b20760",
   "metadata": {},
   "outputs": [
    {
     "name": "stdout",
     "output_type": "stream",
     "text": [
      "\n",
      "1 spectrum  in use\n",
      " \n",
      "Spectral Data File: sw01088940000bevps.pha  Spectrum 1\n",
      "Net count rate (cts/s) for Spectrum:1  1.008e+01 +/- 2.803e-01\n",
      " Assigned to Data Group 1 and Plot Group 1\n",
      "  Noticed Channels:  1-80\n",
      "  Telescope: SWIFT Instrument: BAT  Channel Type: PI\n",
      "  Exposure Time: 8.737 sec\n",
      " Using fit statistic: chi\n",
      " Using Response (RMF) File            sw01088940000bevps.rsp for Source 1\n",
      "\n",
      "\n",
      "========================================================================\n",
      "Model cflux<1>*powerlaw<2> Source No.: 1   Active/On\n",
      "Model Model Component  Parameter  Unit     Value\n",
      " par  comp\n",
      "   1    1   cflux      Emin       keV      0.500000     frozen\n",
      "   2    1   cflux      Emax       keV      10.0000      frozen\n",
      "   3    1   cflux      lg10Flux   cgs      -12.0000     +/-  0.0          \n",
      "   4    2   powerlaw   PhoIndex            1.00000      +/-  0.0          \n",
      "   5    2   powerlaw   norm                1.00000      +/-  0.0          \n",
      "________________________________________________________________________\n",
      "\n",
      "\n",
      "Fit statistic  : Chi-Squared                     nan     using 80 bins.\n",
      "\n",
      "Test statistic : Chi-Squared                     nan     using 80 bins.\n",
      " Current data and model not fit yet.\n",
      "\n",
      "Fit statistic  : Chi-Squared                     nan     using 80 bins.\n",
      "\n",
      "Test statistic : Chi-Squared                     nan     using 80 bins.\n",
      " Current data and model not fit yet.\n",
      "\n",
      "Fit statistic  : Chi-Squared                18124.10     using 80 bins.\n",
      "\n",
      "Test statistic : Chi-Squared                18124.10     using 80 bins.\n",
      " Null hypothesis probability of 0.00e+00 with 77 degrees of freedom\n",
      " Current data and model not fit yet.\n",
      "\n",
      "Fit statistic  : Chi-Squared                18124.10     using 80 bins.\n",
      "\n",
      "Test statistic : Chi-Squared                18124.10     using 80 bins.\n",
      " Null hypothesis probability of 0.00e+00 with 77 degrees of freedom\n",
      " Current data and model not fit yet.\n",
      "  parameter 4 is not frozen.\n",
      "\n",
      "Fit statistic  : Chi-Squared                18124.10     using 80 bins.\n",
      "\n",
      "Test statistic : Chi-Squared                18124.10     using 80 bins.\n",
      " Null hypothesis probability of 0.00e+00 with 77 degrees of freedom\n",
      " Current data and model not fit yet.\n",
      "\n",
      "Fit statistic  : Chi-Squared                18124.10     using 80 bins.\n",
      "\n",
      "Test statistic : Chi-Squared                18124.10     using 80 bins.\n",
      " Null hypothesis probability of 0.00e+00 with 78 degrees of freedom\n",
      " Current data and model not fit yet.\n",
      "Default fit statistic is set to: C-Statistic\n",
      "   This will apply to all current and newly loaded spectra.\n",
      "\n",
      "Fit statistic  : C-Statistic                 1937.42     using 80 bins.\n",
      "\n",
      "Warning: cstat statistic is only valid for Poisson data.\n",
      "    Source file is not Poisson for spectrum 1\n",
      "\n",
      "\n",
      "Test statistic : Chi-Squared                18124.10     using 80 bins.\n",
      " Null hypothesis probability of 0.00e+00 with 78 degrees of freedom\n",
      " Current data and model not fit yet.\n",
      " Warning: renorm - no variable model to allow  renormalization\n",
      "\n",
      "Fit statistic  : C-Statistic                 1937.42     using 80 bins.\n",
      "\n",
      "Warning: cstat statistic is only valid for Poisson data.\n",
      "    Source file is not Poisson for spectrum 1\n",
      "\n",
      "\n",
      "Test statistic : Chi-Squared                18124.10     using 80 bins.\n",
      " Null hypothesis probability of 0.00e+00 with 78 degrees of freedom\n",
      " Current data and model not fit yet.\n",
      " Warning: renorm - no variable model to allow  renormalization\n",
      "                                   Parameters\n",
      "C-Statistic  |beta|/N    Lvl    3:lg10Flux    4:PhoIndex\n",
      "1545.26      4.08882       0      -9.14760       4.53188\n",
      "1414.44      84.4882      -1      -8.79265       4.26453\n",
      "1259.9       93.6273      -2      -8.38094       4.15639\n",
      "1095.85      99.4377      -3      -7.95968       4.09634\n",
      "926.572      103.003      -4      -7.53740       4.05307\n",
      "757.004      104.687      -5      -7.11684       4.02342\n",
      "592.818      103.959      -6      -6.71047       3.97189\n",
      "442.686      100.414      -7      -6.34119       3.85156\n",
      "315.038      92.5256      -8      -6.04820       3.58269\n",
      "209.95       80.3572      -9      -5.85281       3.11129\n",
      "124.135      68.7597     -10      -5.69220       2.53169\n",
      "58.6596      59.0155     -11      -5.49629       1.98341\n",
      "18.4555      46.5012     -12      -5.28118       1.52584\n",
      "4.27685      29.0769     -13      -5.11343       1.22605\n",
      "2.81872      10.4441     -14      -5.04767       1.12334\n",
      "2.80749      1.11241     -15      -5.04190       1.11858\n",
      "2.80749      0.013084    -16      -5.04193       1.11891\n",
      "==============================\n",
      " Variances and Principal Axes\n",
      "                 3        4  \n",
      " 2.0200E-03|  0.9713   0.2379  \n",
      " 2.7740E-02| -0.2379   0.9713  \n",
      "------------------------------\n",
      "\n",
      "========================\n",
      "  Covariance Matrix\n",
      "        1           2   \n",
      "   3.476e-03  -5.944e-03\n",
      "  -5.944e-03   2.628e-02\n",
      "------------------------\n",
      "\n",
      "========================================================================\n",
      "Model cflux<1>*powerlaw<2> Source No.: 1   Active/On\n",
      "Model Model Component  Parameter  Unit     Value\n",
      " par  comp\n",
      "   1    1   cflux      Emin       keV      14.0000      frozen\n",
      "   2    1   cflux      Emax       keV      195.000      frozen\n",
      "   3    1   cflux      lg10Flux   cgs      -5.04193     +/-  5.89593E-02  \n",
      "   4    2   powerlaw   PhoIndex            1.11891      +/-  0.162123     \n",
      "   5    2   powerlaw   norm                1.00000E-03  frozen\n",
      "________________________________________________________________________\n",
      "\n",
      "\n",
      "Fit statistic  : C-Statistic                    2.81     using 80 bins.\n",
      "\n",
      "Warning: cstat statistic is only valid for Poisson data.\n",
      "    Source file is not Poisson for spectrum 1\n",
      "\n",
      "\n",
      "Test statistic : Chi-Squared                  132.37     using 80 bins.\n",
      " Null hypothesis probability of 1.20e-04 with 78 degrees of freedom\n",
      "\n",
      "Parameters defined:\n",
      "========================================================================\n",
      "Model cflux<1>*powerlaw<2> Source No.: 1   Active/On\n",
      "Model Model Component  Parameter  Unit     Value\n",
      " par  comp\n",
      "   1    1   cflux      Emin       keV      14.0000      frozen\n",
      "   2    1   cflux      Emax       keV      195.000      frozen\n",
      "   3    1   cflux      lg10Flux   cgs      -5.04193     +/-  5.89593E-02  \n",
      "   4    2   powerlaw   PhoIndex            1.11891      +/-  0.162123     \n",
      "   5    2   powerlaw   norm                1.00000E-03  frozen\n",
      "________________________________________________________________________\n",
      "\n",
      "\n",
      "Fit statistic  : C-Statistic                    2.81     using 80 bins.\n",
      "\n",
      "Warning: cstat statistic is only valid for Poisson data.\n",
      "    Source file is not Poisson for spectrum 1\n",
      "\n",
      "\n",
      "Test statistic : Chi-Squared                  132.37     using 80 bins.\n",
      " Null hypothesis probability of 1.20e-04 with 78 degrees of freedom\n",
      "*** Parameter 1 is not a variable model parameter and no confidence range will be calculated.\n",
      " Parameter   Confidence Range (2.706)\n",
      "*** Parameter 2 is not a variable model parameter and no confidence range will be calculated.\n",
      " Parameter   Confidence Range (2.706)\n",
      " Parameter   Confidence Range (2.706)\n",
      "     3     -5.13949     -4.94799    (-0.0975615,0.0939386)\n",
      " Parameter   Confidence Range (2.706)\n",
      "     4     0.862798      1.37652    (-0.256086,0.257636)\n",
      "*** Parameter 5 is not a variable model parameter and no confidence range will be calculated.\n",
      " Parameter   Confidence Range (2.706)\n",
      "sw01088940000bevps.xcm exists. Replace? (y/n) "
     ]
    },
    {
     "ename": "Exception",
     "evalue": "Error executing command: save",
     "output_type": "error",
     "traceback": [
      "\u001b[0;31m---------------------------------------------------------------------------\u001b[0m",
      "\u001b[0;31mException\u001b[0m                                 Traceback (most recent call last)",
      "Cell \u001b[0;32mIn[14], line 1\u001b[0m\n\u001b[0;32m----> 1\u001b[0m ba\u001b[38;5;241m.\u001b[39mfit_spectrum(pha_ps)\n",
      "File \u001b[0;32m~/Library/CloudStorage/Box-Box/BatAnalysis/batanalysis/batlib.py:436\u001b[0m, in \u001b[0;36mfit_spectrum\u001b[0;34m(*args, **kwargs)\u001b[0m\n\u001b[1;32m    432\u001b[0m \u001b[38;5;28;01mfrom\u001b[39;00m \u001b[38;5;21;01m.\u001b[39;00m\u001b[38;5;21;01mbatproducts\u001b[39;00m \u001b[38;5;28;01mimport\u001b[39;00m Spectrum\n\u001b[1;32m    434\u001b[0m \u001b[38;5;28;01mif\u001b[39;00m \u001b[38;5;28misinstance\u001b[39m(args[\u001b[38;5;241m0\u001b[39m], Spectrum):\n\u001b[1;32m    435\u001b[0m     \u001b[38;5;66;03m# we have a spectrum object\u001b[39;00m\n\u001b[0;32m--> 436\u001b[0m     fit_TTE_spectrum(\u001b[38;5;241m*\u001b[39margs, \u001b[38;5;241m*\u001b[39m\u001b[38;5;241m*\u001b[39mkwargs)\n\u001b[1;32m    437\u001b[0m \u001b[38;5;28;01melif\u001b[39;00m \u001b[38;5;28misinstance\u001b[39m(args[\u001b[38;5;241m0\u001b[39m], Path) \u001b[38;5;129;01mor\u001b[39;00m \u001b[38;5;28misinstance\u001b[39m(args[\u001b[38;5;241m0\u001b[39m], \u001b[38;5;28mstr\u001b[39m):\n\u001b[1;32m    438\u001b[0m     \u001b[38;5;66;03m# we are passing in a phafilename for\u001b[39;00m\n\u001b[1;32m    439\u001b[0m     fit_survey_spectrum(\u001b[38;5;241m*\u001b[39margs, \u001b[38;5;241m*\u001b[39m\u001b[38;5;241m*\u001b[39mkwargs)\n",
      "File \u001b[0;32m~/Library/CloudStorage/Box-Box/BatAnalysis/batanalysis/batlib.py:1175\u001b[0m, in \u001b[0;36mfit_TTE_spectrum\u001b[0;34m(spectrum, plotting, generic_model, setPars, use_cstat, fit_iterations, verbose, get_upperlim)\u001b[0m\n\u001b[1;32m   1172\u001b[0m     spectrum\u001b[38;5;241m.\u001b[39mspectral_model \u001b[38;5;241m=\u001b[39m model_dict\n\u001b[1;32m   1174\u001b[0m \u001b[38;5;66;03m# Incorporating the model names, parameters, errors into the BatSurvey object.\u001b[39;00m\n\u001b[0;32m-> 1175\u001b[0m xsp\u001b[38;5;241m.\u001b[39mXset\u001b[38;5;241m.\u001b[39msave(phafilename\u001b[38;5;241m.\u001b[39mstem \u001b[38;5;241m+\u001b[39m \u001b[38;5;124m\"\u001b[39m\u001b[38;5;124m.xcm\u001b[39m\u001b[38;5;124m\"\u001b[39m)\n\u001b[1;32m   1176\u001b[0m xspec_savefile \u001b[38;5;241m=\u001b[39m phafilename\u001b[38;5;241m.\u001b[39mparent\u001b[38;5;241m.\u001b[39mjoinpath(\n\u001b[1;32m   1177\u001b[0m     phafilename\u001b[38;5;241m.\u001b[39mstem \u001b[38;5;241m+\u001b[39m \u001b[38;5;124m\"\u001b[39m\u001b[38;5;124m.xcm\u001b[39m\u001b[38;5;124m\"\u001b[39m\n\u001b[1;32m   1178\u001b[0m )\n\u001b[1;32m   1179\u001b[0m spectrum\u001b[38;5;241m.\u001b[39mspectral_model[\u001b[38;5;124m\"\u001b[39m\u001b[38;5;124mxspec_session\u001b[39m\u001b[38;5;124m\"\u001b[39m]\u001b[38;5;241m=\u001b[39mxspec_savefile\n",
      "File \u001b[0;32m~/HEASOFT/HEASOFT-6.31/x86_64-apple-darwin21.6.0/lib/python/xspec/xset.py:695\u001b[0m, in \u001b[0;36mXspecSettings.save\u001b[0;34m(self, fileName, info)\u001b[0m\n\u001b[1;32m    692\u001b[0m     fileName \u001b[38;5;241m+\u001b[39m\u001b[38;5;241m=\u001b[39m \u001b[38;5;124m\"\u001b[39m\u001b[38;5;124m.xcm\u001b[39m\u001b[38;5;124m\"\u001b[39m\n\u001b[1;32m    693\u001b[0m saveArgs\u001b[38;5;241m.\u001b[39mappend(fileName)\n\u001b[0;32m--> 695\u001b[0m _pyXspec\u001b[38;5;241m.\u001b[39mdoXspecCmd(saveArgs)\n\u001b[1;32m    697\u001b[0m \u001b[38;5;66;03m# If doXspecCmd didn't raise an exception, assume save file has\u001b[39;00m\n\u001b[1;32m    698\u001b[0m \u001b[38;5;66;03m# been written to disk.  Add a PyXspec identifier to top of file.\u001b[39;00m\n\u001b[1;32m    699\u001b[0m \n\u001b[1;32m    700\u001b[0m \u001b[38;5;66;03m# The key here is the 'inplace' specifier.  While iterating through\u001b[39;00m\n\u001b[1;32m    701\u001b[0m \u001b[38;5;66;03m# the FileInput object, standard output is automatically rerouted\u001b[39;00m\n\u001b[1;32m    702\u001b[0m \u001b[38;5;66;03m# to the file given by 'fileName'.  \u001b[39;00m\n\u001b[1;32m    703\u001b[0m saveFile \u001b[38;5;241m=\u001b[39m fileinput\u001b[38;5;241m.\u001b[39minput(fileName, inplace\u001b[38;5;241m=\u001b[39m\u001b[38;5;241m1\u001b[39m)\n",
      "\u001b[0;31mException\u001b[0m: Error executing command: save"
     ]
    }
   ],
   "source": [
    "ba.fit_spectrum(pha_ps)"
   ]
  },
  {
   "cell_type": "markdown",
   "id": "5dc6e273",
   "metadata": {},
   "source": [
    "The function call automatically plots the results of the fit for us and that looks pretty good. To access the information related to the fit we can use the newly added spectral_model attribute to the Spectrum object. This contains all the information related to the fitted parameters of the model, the 1 $\\sigma$ errors of those parameters, and all the folded model data such as the folded rates predicted by the model and the energy bins. If the use wants to access the xspec session that was used to conduct the fit, this can be done through the 'xspec_session' key with the saved session file (see xspec documentation for more info). "
   ]
  },
  {
   "cell_type": "code",
   "execution_count": null,
   "id": "8b81c3b0",
   "metadata": {},
   "outputs": [],
   "source": [
    "pha_ps.spectral_model"
   ]
  },
  {
   "cell_type": "markdown",
   "id": "b4b719c2",
   "metadata": {},
   "source": [
    "We can conduct a simple calculation to determine if the GRB is significantly detected as well. Similar to the BAT survey analysis pipeline, this function determines if the source is detected to some significance level (3$\\sigma$ by default), and if it is not creates an upper limit spectrum based on the background variation, allowing for the estimation of a flux upper limit (at the 5$\\sigma$ level by default)."
   ]
  },
  {
   "cell_type": "code",
   "execution_count": null,
   "id": "089244b0",
   "metadata": {},
   "outputs": [],
   "source": [
    "output_spectrum=ba.calculate_detection(pha_ps, pl_index=1, plotting=True)"
   ]
  },
  {
   "cell_type": "markdown",
   "id": "41ff3cd9",
   "metadata": {},
   "source": [
    "Since the GRB has been measured to the $3\\sigma$ level, the returned spectrum is the same as what is passed into the function. If there was not a significant detection, the returned spectrum will be the upper limit calculated spectrum."
   ]
  },
  {
   "cell_type": "markdown",
   "id": "34edca39",
   "metadata": {},
   "source": [
    "### 4. Loading/Processing the TTE observation data"
   ]
  },
  {
   "cell_type": "markdown",
   "id": "a1f14ee5",
   "metadata": {},
   "source": [
    "To create our own data products, we need to first create a BatEvent object by passing in the observation ID that we just downloaded. (Since we initalized the ba.datadir(), the program knows where to automatically look for the data that we just downloaded). Thsi copies over any relevant files to a new directory which will hold the files necessary for our analysis and any custom data products we create. We set `recalc=True` so everytime a user runs this notebook they start fresh and dont inadvertently load modified files from the `*_eventresult` directory. "
   ]
  },
  {
   "cell_type": "code",
   "execution_count": null,
   "id": "8bf45868",
   "metadata": {},
   "outputs": [],
   "source": [
    "event=ba.BatEvent(grb_obs[0].obsid, recalc=True)"
   ]
  },
  {
   "cell_type": "markdown",
   "id": "00cab27d",
   "metadata": {},
   "source": [
    "This ensures that a number of calibrations have been taken care of, loads any necessary information, and creates any necessary files that may be missing. By default, the coordinates of the triggered GRB (found in the TDRSS messages) are loaded and used to create mask weights and auxiliary raytracing files which are needed to produce lightcurves and PHA files. The BatEvent object is then saved, which allows for convenient reloading of an analysis, similar to the survey analysis capabilities.\n",
    "\n",
    "Lets take a look at the `event` variable and the information that it holds. Firstly, we can identify the various necessary files for general TTE analyses:"
   ]
  },
  {
   "cell_type": "code",
   "execution_count": null,
   "id": "7031b70d",
   "metadata": {},
   "outputs": [],
   "source": [
    "print(event.event_files)\n",
    "print(event.attitude_file)\n",
    "print(event.auxil_raytracing_file)\n",
    "print(event.detector_quality_file)\n",
    "print(event.gain_offset_file)"
   ]
  },
  {
   "cell_type": "markdown",
   "id": "f2064622",
   "metadata": {},
   "source": [
    "We can also take a look at the data that gets loaded thorugh the data attribute:"
   ]
  },
  {
   "cell_type": "code",
   "execution_count": null,
   "id": "3dfaca3f",
   "metadata": {},
   "outputs": [],
   "source": [
    "event.data"
   ]
  },
  {
   "cell_type": "markdown",
   "id": "3d5d0e7f",
   "metadata": {},
   "source": [
    "We have the time of each detected photon, the location of the detector that measured the photon, the mask weight of the event assuming the TDRSS coordinates, the pulse height amplitude, the pulse invariant measurement, and the energy of the photon which is calculated using the gain/offset calibration information.\n",
    "\n",
    "\n",
    "If we want to know what the ra/dec of the point that was used to calculated the mask weights we simply access those attributes:"
   ]
  },
  {
   "cell_type": "code",
   "execution_count": null,
   "id": "7a6a3316",
   "metadata": {},
   "outputs": [],
   "source": [
    "print(event.ra, event.dec)"
   ]
  },
  {
   "cell_type": "markdown",
   "id": "8139c392",
   "metadata": {},
   "source": [
    "These coordinates are slightly different than those where the afterglow was discovered (GCN 31203)[https://gcn.nasa.gov/circulars/31203?query=211211A&startDate=&endDate=]"
   ]
  },
  {
   "cell_type": "code",
   "execution_count": null,
   "id": "95641c30",
   "metadata": {},
   "outputs": [],
   "source": [
    "afterglow_coords=SkyCoord(ra=\"14h09m10.09s\",dec=\"27d53m18.23s\")\n",
    "print(afterglow_coords.ra.deg, afterglow_coords.dec.deg)"
   ]
  },
  {
   "cell_type": "markdown",
   "id": "6e1cc7f4",
   "metadata": {},
   "source": [
    "Lets refine the position of our mask weights with the refined position and compare it to what is in the event file:"
   ]
  },
  {
   "cell_type": "code",
   "execution_count": null,
   "id": "0ba5e165",
   "metadata": {},
   "outputs": [],
   "source": [
    "old_weights=event.data[\"MASK_WEIGHT\"]\n",
    "old_coords=SkyCoord(event.ra, event.dec, unit=\"deg\")\n",
    "\n",
    "#recalculate the mask weights\n",
    "event.apply_mask_weighting(ra=afterglow_coords.ra.deg, dec=afterglow_coords.dec.deg)"
   ]
  },
  {
   "cell_type": "code",
   "execution_count": null,
   "id": "2bd33153",
   "metadata": {},
   "outputs": [],
   "source": [
    "#compare the new and old coordinates\n",
    "print(event.ra, event.dec)\n",
    "\n",
    "#compare the difference in weights\n",
    "fig,ax=plt.subplots()\n",
    "ax.plot(np.abs((old_weights-event.data[\"MASK_WEIGHT\"])/old_weights))\n"
   ]
  },
  {
   "cell_type": "markdown",
   "id": "ce474ff9",
   "metadata": {},
   "source": [
    "# An important thing to note is that the event file MASK_WEIGHT column was modified by the apply_mask_weighting method and the file was reloaded into the event variable's data attribute. \n",
    "\n",
    "# It is important to verify that the mask weight that is loaded corresponds to the source that you want to analyze before moving forward with creating lightcurves and spectra. \n",
    "\n",
    "# This is especially relevant as users can resume from a previous TTE data analysis session and should be sure that they know what the ra/dec attributes are before they produce erroneous lightcurves and spectra."
   ]
  },
  {
   "cell_type": "markdown",
   "id": "6990d3c1",
   "metadata": {},
   "source": [
    "### 5. Creating a custom lightcurve"
   ]
  },
  {
   "cell_type": "markdown",
   "id": "21f76c1a",
   "metadata": {},
   "source": [
    "Lets create a custom lightcurve now using 1 second time binning. And plot the lightcurve. We expect this to look like the precomputed lightcurve that was loaded before (although there will be minor differences in the mask weighting due to the different RA/Dec coordinates used)"
   ]
  },
  {
   "cell_type": "code",
   "execution_count": null,
   "id": "b00ffbb5",
   "metadata": {},
   "outputs": [],
   "source": [
    "event.create_lightcurve(timedelta=np.timedelta64(1, \"s\"))"
   ]
  },
  {
   "cell_type": "code",
   "execution_count": null,
   "id": "852189c5",
   "metadata": {},
   "outputs": [],
   "source": [
    "event.lightcurve.plot(T0=event.trigtime_met, plot_relative=True)\n",
    "event.lightcurve.lightcurve_file\n",
    "print(f\"The new 1 sec lightcurve has coordinates: {event.lightcurve.ra}, {event.lightcurve.dec}\")\n",
    "print(f\"The precalculated mask weighted lightcurve was constructed with Ra/Dec: {lc_1s.ra},{lc_1s.dec}\")"
   ]
  },
  {
   "cell_type": "markdown",
   "id": "1c4fb46b",
   "metadata": {},
   "source": [
    "The lightcurve information is both saved to the event's `lightcurve` attribute, which holds information related to the most recently calculated lightcurve, and is returned as a Lightcurve object that the user can save explicitly. We can save the event anlaysis by calling `event.save()` and the created lightcurve and all the information will also be saved, allowing the user to pick up their analysis from a similar point as before."
   ]
  },
  {
   "cell_type": "markdown",
   "id": "576d0d7e",
   "metadata": {},
   "source": [
    "Lets change the energy and time binnings now. We will use bayesian binning, which will also give us our measured durations such as T90, T50, etc. (see the documentation for battblocks), and also set the energybin to be from 30-190 keV. "
   ]
  },
  {
   "cell_type": "code",
   "execution_count": null,
   "id": "bd3c1aac",
   "metadata": {},
   "outputs": [],
   "source": [
    "event.lightcurve.set_timebins(timebinalg=\"bayesian\")\n",
    "event.lightcurve.set_energybins(emin=30*u.keV, emax=190*u.keV)\n",
    "event.lightcurve.plot(T0=event.trigtime_met)\n",
    "print(f'T90 is estimated as: {event.lightcurve.tdurs[\"T90\"][\"TSTOP\"]-event.lightcurve.tdurs[\"T90\"][\"TSTART\"]}')"
   ]
  },
  {
   "cell_type": "markdown",
   "id": "ca35255b",
   "metadata": {},
   "source": [
    "We can also set time bins relative to trigger time. Notice how the energy binning has not changed, just the time binning in the next cell."
   ]
  },
  {
   "cell_type": "code",
   "execution_count": null,
   "id": "90024892",
   "metadata": {},
   "outputs": [],
   "source": [
    "custom_timebins=[-10, -9, -8, -7, -6, -5, -4, -3, -2, -1, 0, 1,2,3,4,5,6,7,8,9, 10, 20]*u.s\n",
    "event.lightcurve.set_timebins(timebins=custom_timebins, is_relative=True, T0=event.trigtime_met)\n",
    "event.lightcurve.plot(T0=event.trigtime_met, plot_relative=True)"
   ]
  },
  {
   "cell_type": "markdown",
   "id": "57e9d82c",
   "metadata": {},
   "source": [
    "### 6. Creating Custom PHA files"
   ]
  },
  {
   "cell_type": "markdown",
   "id": "9f2a6cd7",
   "metadata": {},
   "source": [
    "Similar to creating custom lightcurves, PHA files can also be created. Lets create one for the T90 period which we measured in the previous section and fit it with a powerlaw. \n",
    "\n",
    "First, we create the Spectrum, which gets saved to the spectrum attribute of the event variable."
   ]
  },
  {
   "cell_type": "code",
   "execution_count": null,
   "id": "1de769db",
   "metadata": {},
   "outputs": [],
   "source": [
    "event.create_pha(tstart=event.lightcurve.tdurs[\"T90\"][\"TSTART\"], tstop=event.lightcurve.tdurs[\"T90\"][\"TSTOP\"])\n",
    "event.spectrum.plot()"
   ]
  },
  {
   "cell_type": "markdown",
   "id": "d9f4d134",
   "metadata": {},
   "source": [
    "Lets now fit the spectrum and see what we get:"
   ]
  },
  {
   "cell_type": "code",
   "execution_count": null,
   "id": "09c341e8",
   "metadata": {},
   "outputs": [],
   "source": [
    "ba.fit_spectrum(event.spectrum)"
   ]
  },
  {
   "cell_type": "markdown",
   "id": "47106ed0",
   "metadata": {},
   "source": [
    "We can also make time resolved spectra for each timebin in our custom binned lightcurve"
   ]
  },
  {
   "cell_type": "code",
   "execution_count": null,
   "id": "10dae370",
   "metadata": {},
   "outputs": [],
   "source": [
    "spectrum_list=event.create_pha(timebins=custom_timebins, T0=event.trigtime_met, is_relative=True, recalc=True)"
   ]
  },
  {
   "cell_type": "code",
   "execution_count": null,
   "id": "30bd5a30",
   "metadata": {},
   "outputs": [],
   "source": [
    "event.lightcurve.tbins[\"TIME_START\"].size\n"
   ]
  },
  {
   "cell_type": "code",
   "execution_count": null,
   "id": "bf44e179",
   "metadata": {},
   "outputs": [],
   "source": [
    "event.lightcurve.tbins[\"TIME_STOP\"].size\n"
   ]
  },
  {
   "cell_type": "code",
   "execution_count": null,
   "id": "4cd9385d",
   "metadata": {},
   "outputs": [],
   "source": []
  }
 ],
 "metadata": {
  "kernelspec": {
   "display_name": "Python 3 (ipykernel)",
   "language": "python",
   "name": "python3"
  },
  "language_info": {
   "codemirror_mode": {
    "name": "ipython",
    "version": 3
   },
   "file_extension": ".py",
   "mimetype": "text/x-python",
   "name": "python",
   "nbconvert_exporter": "python",
   "pygments_lexer": "ipython3",
   "version": "3.11.3"
  }
 },
 "nbformat": 4,
 "nbformat_minor": 5
}
