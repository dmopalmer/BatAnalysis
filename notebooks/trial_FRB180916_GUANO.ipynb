{
 "cells": [
  {
   "cell_type": "markdown",
   "id": "f2fb2b50",
   "metadata": {},
   "source": [
    "## This notebook is meant to outline how the BatAnalysis Tool can be used alongside swifttools to query, download, and analyze BAT GUANO data. \n",
    "\n",
    "Here, we will be querying for BAT GUANO data that was triggered by an FRB. We filter out the data to select one where FRB 180916.J0158+65 is in the BAT FOV. Then, we use the BatAnalysis Tools to look at the lightcurve and produce flux upper limits for the FRB in the 15-150 keV range. \n",
    "\n",
    "Additional information on the BAT GUANO system can be found here: [https://arxiv.org/pdf/2005.01751](https://arxiv.org/pdf/2005.01751) and here: [https://www.swift.psu.edu/guano/](https://www.swift.psu.edu/guano/)\n",
    "\n",
    "First, lets import the packages that we will need:"
   ]
  },
  {
   "cell_type": "code",
   "execution_count": 1,
   "id": "19a6f745",
   "metadata": {},
   "outputs": [],
   "source": [
    "import xspec\n",
    "import batanalysis as ba\n",
    "from swifttools.swift_too import GUANO, ObsQuery\n",
    "import swiftbat\n",
    "\n",
    "import matplotlib.pyplot as plt\n",
    "import numpy as np\n",
    "import scipy as sp\n",
    "from pathlib import Path\n",
    "from astropy.io import fits\n",
    "from astropy.time import Time, TimeDelta\n",
    "import astropy.units as u\n",
    "from astropy.coordinates import SkyCoord\n",
    "import datetime\n",
    "import os\n"
   ]
  },
  {
   "cell_type": "markdown",
   "id": "d7979948",
   "metadata": {},
   "source": [
    "Now, we will use the swiftbat package to create an object that holds the coordinate information for the FRB of interest."
   ]
  },
  {
   "cell_type": "code",
   "execution_count": 2,
   "id": "d9788f0d",
   "metadata": {},
   "outputs": [],
   "source": [
    "object_name = \"FRB 180916.J0158+65\"\n",
    "\n",
    "object_location = swiftbat.simbadlocation(object_name)\n",
    "object_location=SkyCoord(ra=object_location[0]*u.deg, dec=object_location[1]*u.deg)\n",
    "\n",
    "object_batsource = swiftbat.source(\n",
    "    ra=object_location.ra.deg, dec=object_location.dec.deg, name=object_name\n",
    ")\n"
   ]
  },
  {
   "cell_type": "markdown",
   "id": "d3c12037",
   "metadata": {},
   "source": [
    "We can now, run a query for the first 300 FRB triggered GUANO datasets. \n",
    "\n",
    "***NOTE: Since the GUANO system is constantly running and getting BAT data for different triggers, the observation ID that gets analyzed for you in running this notebook will be different from what was originally analyzed here.***"
   ]
  },
  {
   "cell_type": "code",
   "execution_count": 3,
   "id": "3b0a2343",
   "metadata": {},
   "outputs": [],
   "source": [
    "guano=GUANO(triggertype=\"FRB\", limit=300)\n",
    "query=ObsQuery(obsid=[i.obsid for i in guano])"
   ]
  },
  {
   "cell_type": "markdown",
   "id": "8db6f5e1",
   "metadata": {},
   "source": [
    "With our data queried, we need to filter out data where the FRB is not in the BAT FOV. \n",
    "\n",
    "We first do this by calculating the partial coding exposure of the FRB on the BAT detector plane (ie what is the area of the BAT detector plane that was illuminated by the FRB's point in the sky)"
   ]
  },
  {
   "cell_type": "code",
   "execution_count": 4,
   "id": "88565034",
   "metadata": {},
   "outputs": [
    {
     "name": "stdout",
     "output_type": "stream",
     "text": [
      "[   0.            0.         1630.52352848 1627.52601488    0.\n",
      " 1128.67083846    0.            0.            0.            0.\n",
      "    0.            0.            0.            0.            0.\n",
      "    0.         1158.46924368 1022.08410054 4363.9596     4363.9596\n",
      " 4363.9596     4363.9596     4363.9596     4363.9596        0.\n",
      "    0.            0.            0.            0.            0.\n",
      "    0.            0.         2083.81141035    0.            0.\n",
      "    0.            0.            0.            0.            0.\n",
      "  292.93074499  352.18562601  757.60837802 3533.95902229    0.\n",
      "    0.            0.            0.            0.            0.\n",
      "    0.          707.18067393    0.            0.            0.\n",
      "    0.            0.            0.            0.            0.\n",
      "  877.26256017  743.80927563  903.39843888  830.08220972  961.92764499\n",
      " 4363.9596     4363.9596        0.            0.            0.\n",
      "    0.            0.            0.            0.         1309.42761297\n",
      " 1273.20310349    0.            0.         3341.90670677 2148.91994551\n",
      "    0.            0.            0.            0.            0.\n",
      "    0.            0.            0.            0.         1441.12306477\n",
      "    0.            0.         1613.12724979    0.          511.49579153\n",
      "    0.            0.            0.            0.            0.\n",
      "    0.            0.            0.            0.            0.\n",
      "    0.            0.            0.            0.            0.\n",
      "    0.            0.            0.            0.            0.\n",
      "    0.            0.            0.            0.            0.\n",
      "    0.            0.            0.            0.            0.\n",
      "    0.            0.            0.            0.            0.\n",
      "    0.            0.            0.            0.            0.\n",
      "    0.            0.            0.            0.            0.\n",
      "    0.            0.            0.            0.          188.87611547\n",
      "   84.85080853  204.73897838   77.67520926    0.            0.\n",
      " 4356.71780377 4358.90881924 4359.31350399 4359.30148077 4359.11515672\n",
      "    0.            0.            0.            0.            0.\n",
      "    0.            0.            0.            0.            0.\n",
      "  656.30895726  547.19232927    0.          626.41172616    0.\n",
      "  626.3712305     0.            0.            0.            0.\n",
      "  559.64823389  602.30586666    0.            0.            0.\n",
      "    0.            0.            0.            0.            0.\n",
      "    0.            0.            0.            0.         3885.33229771\n",
      "    0.          637.72930081  496.82167319  651.02982844    0.\n",
      "    0.            0.         3167.33454724 3267.80287224    0.\n",
      "    0.            0.          678.20371542 3065.68728156    0.\n",
      "    0.            0.            0.            0.            0.\n",
      "    0.            0.            0.            0.            0.\n",
      "    0.            0.            0.            0.            0.\n",
      "    0.            0.         3368.47459731 3434.45549062 3385.38271644\n",
      " 3415.78437785 3441.45823851 3374.42352124 3294.2521501     0.\n",
      "    0.            0.            0.            0.            0.\n",
      "    0.            0.            0.            0.            0.\n",
      "    0.            0.            0.            0.            0.\n",
      "    0.            0.            0.            0.            0.\n",
      "    0.            0.            0.            0.            0.\n",
      "    0.            0.            0.            0.            0.\n",
      "    0.            0.            0.            0.            0.\n",
      "    0.            0.            0.            0.            0.\n",
      "   29.5929817     0.            0.            0.            0.\n",
      "    0.            0.            0.            0.            0.\n",
      "    0.         1099.06421105    0.            0.            0.\n",
      "    0.            0.            0.            0.            0.\n",
      " 4363.9596     4363.9596        0.            0.         4084.80727588\n",
      "   56.79087144    0.            0.            0.            0.\n",
      "    0.            0.         3615.75182232  131.44835059    0.\n",
      " 3787.7621798     0.            0.            0.           98.05487582\n",
      "    0.            0.          170.39591445    0.         3607.39463455\n",
      "    0.            0.            0.         1904.52967258  292.31099611\n",
      " 1819.60710488  315.19973283 3814.97160177    0.            0.\n",
      "    0.            0.            0.            0.            0.\n",
      "    0.         1548.62136364 2714.5126306  2707.80566887 2691.35495889\n",
      " 2692.25683036    0.            0.            0.            0.\n",
      "    0.            0.            0.            0.            0.\n",
      "    0.            0.            0.            0.            0.\n",
      "    0.            0.            0.            0.            0.\n",
      "    0.            0.            0.            0.            0.\n",
      "    0.            0.            0.            0.            0.\n",
      "    0.            0.            0.            0.            0.\n",
      "    0.            0.            0.            0.            0.\n",
      "    0.            0.            0.            0.            0.\n",
      "    0.            0.            0.            0.            0.\n",
      "    0.            0.         1266.10002462 2155.81490766    0.\n",
      "    0.            0.            0.            0.         3138.45056613\n",
      "    0.            0.         3234.55216877 3233.43319977 3218.06426846\n",
      " 3260.69141692    0.         3200.14203411    0.         3266.55708192\n",
      " 3219.62912607 3238.75748672 3225.40014032 3204.87918923 3244.15413852\n",
      " 3260.02962724 3201.05673868    0.         3236.12303897    0.\n",
      " 3223.47302889 3232.46812893 3198.7373591  3234.99984889 3216.61653195\n",
      " 3245.45402783 3208.51557168 3246.19329122  142.73040497    0.\n",
      "    0.           86.66610005    0.            0.            0.\n",
      "  116.06405926    0.            0.            0.            0.\n",
      "    0.          535.86802567    0.            0.            0.\n",
      "    0.            0.            0.            0.            0.\n",
      "    0.            0.            0.         3359.44092918 3280.50610398\n",
      "    0.            0.            0.          171.52454468    0.\n",
      "    0.            0.            0.           78.15281401  214.22109297\n",
      "  101.42975028    0.            0.            0.            0.\n",
      "    0.            0.            0.            0.            0.\n",
      "  463.55880869  466.43804141  390.69815152  397.78541018 1228.51363599\n",
      " 1385.01775213 1144.96284348    0.            0.            0.\n",
      "    0.            0.            0.            0.            0.\n",
      "    0.            0.            0.            0.            0.\n",
      "    0.            0.            0.            0.            0.\n",
      "    0.            0.            0.            0.            0.\n",
      "    0.            0.            0.            0.            0.\n",
      "    0.            0.            0.            0.            0.\n",
      "    0.            0.            0.            0.            0.\n",
      "    0.            0.            0.            0.            0.\n",
      "    0.            0.            0.            0.            0.\n",
      "    0.            0.            0.            0.            0.\n",
      "    0.            0.            0.            0.            0.\n",
      "    0.          699.21179427    0.          470.15055635    0.\n",
      "    0.          624.63954852    0.            0.          341.36252909\n",
      "    0.          720.51337288    0.            0.            0.\n",
      "  491.48482232    0.            0.          607.46854174 3039.87898792\n",
      " 3278.60843751    0.            0.            0.            0.\n",
      "    0.            0.            0.            0.            0.\n",
      "    0.            0.            0.            0.            0.\n",
      "    0.         1550.26573614    0.            0.         1828.25743149\n",
      "    0.            0.         1694.89297366    0.            0.\n",
      " 1803.99406903    0.            0.         1713.86548913 1822.43062485\n",
      "    0.         1640.34374478    0.         1822.61709802 1703.36984579\n",
      " 1862.04560951 1557.04950437    0.         1689.56322994    0.\n",
      " 1729.08998041    0.            0.          104.29788412    0.\n",
      "    0.           19.21621356    0.            0.            0.\n",
      "    0.            0.            0.            0.            0.\n",
      "    0.            0.            0.            0.            0.\n",
      "    0.            0.            0.            0.            0.\n",
      "    0.            0.            0.         3367.6630276  4121.65238225\n",
      " 4227.71210041 4138.75765965 4363.9596     1215.88264586  329.84538033\n",
      "  510.48062879    0.          462.41065808    0.            0.\n",
      "    0.         4158.9752185  4018.88651615    0.            0.\n",
      "    0.            0.            0.            0.            0.\n",
      "    0.            0.            0.            0.            0.\n",
      "    0.            0.            0.            0.            0.\n",
      "    0.            0.            0.            0.            0.\n",
      "    0.            0.            0.            0.            0.\n",
      "    0.            0.            0.            0.            0.\n",
      "    0.            0.            0.            0.            0.\n",
      "    0.            0.            0.            0.            0.\n",
      "    0.          648.0879504     0.            0.            0.\n",
      "    0.            0.            0.         1424.69590277   16.91553171\n",
      "    0.            0.         1418.41006668    0.         1420.81775076\n",
      "    0.            0.            0.            0.            0.\n",
      "    0.            0.            0.            0.            0.\n",
      "    0.            0.            0.            0.            0.\n",
      "    0.            0.            0.            0.            0.\n",
      "    0.            0.            0.            0.            0.\n",
      "    0.            0.            0.            0.            0.        ]\n"
     ]
    }
   ],
   "source": [
    "exposures = np.array(\n",
    "    [object_batsource.exposure(ra=i.ra,\n",
    "                               dec=i.dec, \n",
    "                               roll=i.roll)[0]\n",
    "        for i in query\n",
    "    ])\n",
    "print(exposures)"
   ]
  },
  {
   "cell_type": "markdown",
   "id": "f31f8092",
   "metadata": {},
   "source": [
    "Now, we can select the first GUANO dataset where the partial coding is $\\gtrsim 19\\%$. We also extract the trigger time of the FRB so we can use that as a T0 in our lightcurve and spectrum. "
   ]
  },
  {
   "cell_type": "code",
   "execution_count": 5,
   "id": "79b42fea",
   "metadata": {},
   "outputs": [
    {
     "name": "stdout",
     "output_type": "stream",
     "text": [
      "+---------------------+---------------------+------------------+--------------------+--------------+--------------+\n",
      "|          Begin Time |            End Time |      Target Name | Observation Number | Exposure (s) | Slewtime (s) |\n",
      "+---------------------+---------------------+------------------+--------------------+--------------+--------------+\n",
      "| 2023-10-09 05:48:02 | 2023-10-09 06:14:57 | J212400.7+340907 |        00039922025 |         1485 |          130 |\n",
      "+---------------------+---------------------+------------------+--------------------+--------------+--------------+\n"
     ]
    }
   ],
   "source": [
    "minexposure = 1000  # cm^2 after cos adjust\n",
    "sel_guano=np.array(query)[np.where(exposures > minexposure)[0]][0]\n",
    "triggertime=guano[int(np.where([int(sel_guano.obsid)==int(i.obsid) for i in guano])[0])].triggertime\n",
    "print(sel_guano)"
   ]
  },
  {
   "cell_type": "markdown",
   "id": "e1b7984b",
   "metadata": {},
   "source": [
    "After finding the data that we want with the swiftools package, we can easily download it. We first specify where we will be downloading the data and doing our analysis in this notebook using our usual `ba.datadir` call. Then, we download the obsid of the GUANO dataset that we are interested in. "
   ]
  },
  {
   "cell_type": "code",
   "execution_count": 6,
   "id": "9d69a99f",
   "metadata": {},
   "outputs": [
    {
     "data": {
      "application/vnd.jupyter.widget-view+json": {
       "model_id": "1f972a961e164b298667a5b5af83c76b",
       "version_major": 2,
       "version_minor": 0
      },
      "text/plain": [
       "Downloading files:   0%|          | 0/33 [00:00<?, ?files/s]"
      ]
     },
     "metadata": {},
     "output_type": "display_data"
    },
    {
     "name": "stdout",
     "output_type": "stream",
     "text": [
      "{'00039922025': {'obsid': '00039922025', 'success': True, 'obsoutdir': PosixPath('/private/tmp/batdata/download_examples/00039922025'), 'quicklook': False, 'data': Swift_Data(username='anonymous',obsid='00039922025',quicklook='False',auxil='True',bat='True',xrt='False',uvot='False',log='False',tdrss='True')}}\n"
     ]
    },
    {
     "name": "stderr",
     "output_type": "stream",
     "text": [
      "/Users/tparsota/opt/anaconda3/envs/py311/lib/python3.11/site-packages/swifttools/swift_too/swift_data.py:405: UserWarning: SWIFT_TLE_ARCHIVE.txt.23290.86013636.gz exists and not overwritten (set clobber=True to override this).\n",
      "/Users/tparsota/opt/anaconda3/envs/py311/lib/python3.11/site-packages/swifttools/swift_too/swift_data.py:405: UserWarning: sw00039922025pat.fits.gz exists and not overwritten (set clobber=True to override this).\n",
      "/Users/tparsota/opt/anaconda3/envs/py311/lib/python3.11/site-packages/swifttools/swift_too/swift_data.py:405: UserWarning: sw00039922025pjb.par.gz exists and not overwritten (set clobber=True to override this).\n",
      "/Users/tparsota/opt/anaconda3/envs/py311/lib/python3.11/site-packages/swifttools/swift_too/swift_data.py:405: UserWarning: sw00039922025pob.cat.gz exists and not overwritten (set clobber=True to override this).\n",
      "/Users/tparsota/opt/anaconda3/envs/py311/lib/python3.11/site-packages/swifttools/swift_too/swift_data.py:405: UserWarning: sw00039922025ppr.par.gz exists and not overwritten (set clobber=True to override this).\n",
      "/Users/tparsota/opt/anaconda3/envs/py311/lib/python3.11/site-packages/swifttools/swift_too/swift_data.py:405: UserWarning: sw00039922025s.mkf.gz exists and not overwritten (set clobber=True to override this).\n",
      "/Users/tparsota/opt/anaconda3/envs/py311/lib/python3.11/site-packages/swifttools/swift_too/swift_data.py:405: UserWarning: sw00039922025sao.fits.gz exists and not overwritten (set clobber=True to override this).\n",
      "/Users/tparsota/opt/anaconda3/envs/py311/lib/python3.11/site-packages/swifttools/swift_too/swift_data.py:405: UserWarning: sw00039922025sat.fits.gz exists and not overwritten (set clobber=True to override this).\n",
      "/Users/tparsota/opt/anaconda3/envs/py311/lib/python3.11/site-packages/swifttools/swift_too/swift_data.py:405: UserWarning: sw00039922025sen.hk.gz exists and not overwritten (set clobber=True to override this).\n",
      "/Users/tparsota/opt/anaconda3/envs/py311/lib/python3.11/site-packages/swifttools/swift_too/swift_data.py:405: UserWarning: sw00039922025sti.fits.gz exists and not overwritten (set clobber=True to override this).\n",
      "/Users/tparsota/opt/anaconda3/envs/py311/lib/python3.11/site-packages/swifttools/swift_too/swift_data.py:405: UserWarning: sw00039922025uat.fits.gz exists and not overwritten (set clobber=True to override this).\n",
      "/Users/tparsota/opt/anaconda3/envs/py311/lib/python3.11/site-packages/swifttools/swift_too/swift_data.py:405: UserWarning: sw00039922025x.mkf.gz exists and not overwritten (set clobber=True to override this).\n",
      "/Users/tparsota/opt/anaconda3/envs/py311/lib/python3.11/site-packages/swifttools/swift_too/swift_data.py:405: UserWarning: sw00039922025bevshpo_uf.evt.gz exists and not overwritten (set clobber=True to override this).\n",
      "/Users/tparsota/opt/anaconda3/envs/py311/lib/python3.11/site-packages/swifttools/swift_too/swift_data.py:405: UserWarning: sw00039922025bdecb.hk.gz exists and not overwritten (set clobber=True to override this).\n",
      "/Users/tparsota/opt/anaconda3/envs/py311/lib/python3.11/site-packages/swifttools/swift_too/swift_data.py:405: UserWarning: sw00039922025bdp.hk.gz exists and not overwritten (set clobber=True to override this).\n",
      "/Users/tparsota/opt/anaconda3/envs/py311/lib/python3.11/site-packages/swifttools/swift_too/swift_data.py:405: UserWarning: sw00039922025bdqcb.hk.gz exists and not overwritten (set clobber=True to override this).\n",
      "/Users/tparsota/opt/anaconda3/envs/py311/lib/python3.11/site-packages/swifttools/swift_too/swift_data.py:405: UserWarning: sw00039922025ben.hk.gz exists and not overwritten (set clobber=True to override this).\n",
      "/Users/tparsota/opt/anaconda3/envs/py311/lib/python3.11/site-packages/swifttools/swift_too/swift_data.py:405: UserWarning: sw00039922025bevtlsp.hk.gz exists and not overwritten (set clobber=True to override this).\n",
      "/Users/tparsota/opt/anaconda3/envs/py311/lib/python3.11/site-packages/swifttools/swift_too/swift_data.py:405: UserWarning: sw00039922025bevtssp.hk.gz exists and not overwritten (set clobber=True to override this).\n",
      "/Users/tparsota/opt/anaconda3/envs/py311/lib/python3.11/site-packages/swifttools/swift_too/swift_data.py:405: UserWarning: sw00039922025bgocb.hk.gz exists and not overwritten (set clobber=True to override this).\n",
      "/Users/tparsota/opt/anaconda3/envs/py311/lib/python3.11/site-packages/swifttools/swift_too/swift_data.py:405: UserWarning: sw00039922025bhd.hk.gz exists and not overwritten (set clobber=True to override this).\n",
      "/Users/tparsota/opt/anaconda3/envs/py311/lib/python3.11/site-packages/swifttools/swift_too/swift_data.py:405: UserWarning: sw00039922025bmt00010002.lc.gz exists and not overwritten (set clobber=True to override this).\n",
      "/Users/tparsota/opt/anaconda3/envs/py311/lib/python3.11/site-packages/swifttools/swift_too/swift_data.py:405: UserWarning: sw00039922025bmt00010002_rw.lc.gz exists and not overwritten (set clobber=True to override this).\n",
      "/Users/tparsota/opt/anaconda3/envs/py311/lib/python3.11/site-packages/swifttools/swift_too/swift_data.py:405: UserWarning: sw00039922025bmt00010004_rw.lc.gz exists and not overwritten (set clobber=True to override this).\n",
      "/Users/tparsota/opt/anaconda3/envs/py311/lib/python3.11/site-packages/swifttools/swift_too/swift_data.py:405: UserWarning: sw00039922025bmt00010009_rw.lc.gz exists and not overwritten (set clobber=True to override this).\n",
      "/Users/tparsota/opt/anaconda3/envs/py311/lib/python3.11/site-packages/swifttools/swift_too/swift_data.py:405: UserWarning: sw00039922025bmt00013000.lc.gz exists and not overwritten (set clobber=True to override this).\n",
      "/Users/tparsota/opt/anaconda3/envs/py311/lib/python3.11/site-packages/swifttools/swift_too/swift_data.py:405: UserWarning: sw00039922025bmt00013000_rw.lc.gz exists and not overwritten (set clobber=True to override this).\n",
      "/Users/tparsota/opt/anaconda3/envs/py311/lib/python3.11/site-packages/swifttools/swift_too/swift_data.py:405: UserWarning: sw00039922025brt1s.lc.gz exists and not overwritten (set clobber=True to override this).\n",
      "/Users/tparsota/opt/anaconda3/envs/py311/lib/python3.11/site-packages/swifttools/swift_too/swift_data.py:405: UserWarning: sw00039922025brtmc.lc.gz exists and not overwritten (set clobber=True to override this).\n",
      "/Users/tparsota/opt/anaconda3/envs/py311/lib/python3.11/site-packages/swifttools/swift_too/swift_data.py:405: UserWarning: sw00039922025brtms.lc.gz exists and not overwritten (set clobber=True to override this).\n",
      "/Users/tparsota/opt/anaconda3/envs/py311/lib/python3.11/site-packages/swifttools/swift_too/swift_data.py:405: UserWarning: sw00039922025brtqd.lc.gz exists and not overwritten (set clobber=True to override this).\n",
      "/Users/tparsota/opt/anaconda3/envs/py311/lib/python3.11/site-packages/swifttools/swift_too/swift_data.py:405: UserWarning: sw00039922025bsvpbo29bdg08b9.dph.gz exists and not overwritten (set clobber=True to override this).\n",
      "/Users/tparsota/opt/anaconda3/envs/py311/lib/python3.11/site-packages/swifttools/swift_too/swift_data.py:405: UserWarning: sw00039922025bsvpbo29c7g08bc.dph.gz exists and not overwritten (set clobber=True to override this).\n"
     ]
    }
   ],
   "source": [
    "tmp_download_dir=\"/tmp/batdata/download_examples\"\n",
    "\n",
    "ba.datadir(tmp_download_dir, mkdir=True)\n",
    "\n",
    "download = ba.download_swiftdata(observations=sel_guano.obsid)\n",
    "\n",
    "print(download)"
   ]
  },
  {
   "cell_type": "markdown",
   "id": "ef24d37f",
   "metadata": {},
   "source": [
    "We finally have our data. Lets load it into a `BatEvent` class so we can create lightcurves and spectra. \n",
    "\n",
    "***NOTE: when we are dealing with GUANO data, we need to specify `is_guano=True`***"
   ]
  },
  {
   "cell_type": "code",
   "execution_count": 7,
   "id": "64163852",
   "metadata": {},
   "outputs": [],
   "source": [
    "event=ba.BatEvent(sel_guano.obsid, is_guano=True)"
   ]
  },
  {
   "cell_type": "markdown",
   "id": "30fc1e03",
   "metadata": {},
   "source": [
    "In loading in the dataset, we saw that the default loaded coordinates is RA/Dec=358,17.8 which is not the location of the FRB that we care about. If we want to generate correct lightcurves and spectra for our FRB, we need to apply the mask weighting approporiate for the FRBs coordinates. We do this by calling the `.apply_mask_weighting` method and supplying the RA/Dec coordinates correspondent to the FRB. "
   ]
  },
  {
   "cell_type": "code",
   "execution_count": 8,
   "id": "58ba43bd",
   "metadata": {},
   "outputs": [
    {
     "name": "stderr",
     "output_type": "stream",
     "text": [
      "WARNING: HSPDeprecationWarning: heasoftpy.batmaskwtevt is being deprecated and will be removed. Use ``heasoftpy.swift.batmaskwtevt`` instead [batanalysis.batobservation]\n"
     ]
    }
   ],
   "source": [
    "event.apply_mask_weighting(ra=object_location.ra, dec=object_location.dec)"
   ]
  },
  {
   "cell_type": "markdown",
   "id": "1b59f927",
   "metadata": {},
   "source": [
    "Now, we can create a lightcurve and take a look to see if we see any visible emission. "
   ]
  },
  {
   "cell_type": "code",
   "execution_count": 9,
   "id": "209c610b",
   "metadata": {},
   "outputs": [],
   "source": [
    "lc=event.create_lightcurve()"
   ]
  },
  {
   "cell_type": "code",
   "execution_count": 10,
   "id": "0cced3ae",
   "metadata": {},
   "outputs": [
    {
     "data": {
      "text/plain": [
       "(<Figure size 640x480 with 1 Axes>,\n",
       " <Axes: xlabel='MET (s)', ylabel='RATE (ct / s)'>)"
      ]
     },
     "execution_count": 10,
     "metadata": {},
     "output_type": "execute_result"
    },
    {
     "data": {
      "image/png": "[encoded data removed]",
      "text/plain": [
       "<Figure size 640x480 with 1 Axes>"
      ]
     },
     "metadata": {},
     "output_type": "display_data"
    }
   ],
   "source": [
    "lc.plot(T0=triggertime.met)"
   ]
  },
  {
   "cell_type": "markdown",
   "id": "e411c71d",
   "metadata": {},
   "source": [
    "The 64 ms lighcurve that we created above in 4 energy bands is very busy and is difficult to identify any sort of signal that stands out from noise. Lets modify our created lightcurve to be a single energy bin from 15-350 keV and to have 1 second time binning. Then we will plot it and try to identify any signal."
   ]
  },
  {
   "cell_type": "code",
   "execution_count": 11,
   "id": "59e4d92f",
   "metadata": {},
   "outputs": [
    {
     "name": "stderr",
     "output_type": "stream",
     "text": [
      "WARNING: HSPDeprecationWarning: heasoftpy.batbinevt is being deprecated and will be removed. Use ``heasoftpy.swift.batbinevt`` instead [batanalysis.batproducts]\n"
     ]
    }
   ],
   "source": [
    "lc.set_energybins(emin=15*u.keV, emax=350*u.keV)\n"
   ]
  },
  {
   "cell_type": "code",
   "execution_count": 12,
   "id": "38322f15",
   "metadata": {},
   "outputs": [
    {
     "data": {
      "text/plain": [
       "(<Figure size 640x480 with 1 Axes>,\n",
       " <Axes: xlabel='MET (s)', ylabel='RATE (ct / s)'>)"
      ]
     },
     "execution_count": 12,
     "metadata": {},
     "output_type": "execute_result"
    },
    {
     "data": {
      "image/png": "[encoded data removed]",
      "text/plain": [
       "<Figure size 640x480 with 1 Axes>"
      ]
     },
     "metadata": {},
     "output_type": "display_data"
    }
   ],
   "source": [
    "lc.set_timebins(timebinalg=\"uniform\", timedelta=np.timedelta64(1, 's'))\n",
    "lc.plot(T0=triggertime.met)"
   ]
  },
  {
   "cell_type": "markdown",
   "id": "f46f3c15",
   "metadata": {},
   "source": [
    "The lightcurve still doesn't show anything obvious. Lets try to place constraints on the flux of the FRB in the 15-150 keV energy range. We start off by creating a PHA spectrum from T0-5 to T0+5 seconds when the FRB may have produced emission. "
   ]
  },
  {
   "cell_type": "code",
   "execution_count": 13,
   "id": "8a828157",
   "metadata": {
    "scrolled": true
   },
   "outputs": [],
   "source": [
    "spectrum=event.create_pha(tstart=-5*u.s, tstop=5*u.s, is_relative=True, T0=triggertime.met)"
   ]
  },
  {
   "cell_type": "markdown",
   "id": "1b831c4c",
   "metadata": {},
   "source": [
    "We can plot this spectrum and see that there is only noise here. We can now use this spectrum to place flux upper limits on the FRB emission. "
   ]
  },
  {
   "cell_type": "code",
   "execution_count": 14,
   "id": "47f2abb5",
   "metadata": {},
   "outputs": [
    {
     "data": {
      "text/plain": [
       "(<Figure size 640x480 with 1 Axes>,\n",
       " <Axes: xlabel='E (keV)', ylabel='Count Rate (ct/s)'>)"
      ]
     },
     "execution_count": 14,
     "metadata": {},
     "output_type": "execute_result"
    },
    {
     "data": {
      "image/png": "[encoded data removed]",
      "text/plain": [
       "<Figure size 640x480 with 1 Axes>"
      ]
     },
     "metadata": {},
     "output_type": "display_data"
    }
   ],
   "source": [
    "spectrum.plot()"
   ]
  },
  {
   "cell_type": "markdown",
   "id": "65612eae",
   "metadata": {},
   "source": [
    "We first fit the spectrum with a powerlaw. "
   ]
  },
  {
   "cell_type": "code",
   "execution_count": 15,
   "id": "48ea3ba4",
   "metadata": {},
   "outputs": [
    {
     "name": "stdout",
     "output_type": "stream",
     "text": [
      "\n",
      "1 spectrum  in use\n",
      " \n",
      "Spectral Data File: t_718524298.758331-718524308.758331_80chan.pha  Spectrum 1\n",
      "Net count rate (cts/s) for Spectrum:1  6.470e-03 +/- 1.351e-02\n",
      " Assigned to Data Group 1 and Plot Group 1\n",
      "  Noticed Channels:  1-80\n",
      "  Telescope: SWIFT Instrument: BAT  Channel Type: PI\n",
      "  Exposure Time: 10 sec\n",
      " Using fit statistic: chi\n",
      " Using Response (RMF) File            t_718524298.758331-718524308.758331_80chan.rsp for Source 1\n",
      "\n",
      "\n",
      "========================================================================\n",
      "Model cflux<1>*powerlaw<2> Source No.: 1   Active/On\n",
      "Model Model Component  Parameter  Unit     Value\n",
      " par  comp\n",
      "   1    1   cflux      Emin       keV      0.500000     frozen\n",
      "   2    1   cflux      Emax       keV      10.0000      frozen\n",
      "   3    1   cflux      lg10Flux   cgs      -12.0000     +/-  0.0          \n",
      "   4    2   powerlaw   PhoIndex            1.00000      +/-  0.0          \n",
      "   5    2   powerlaw   norm                1.00000      +/-  0.0          \n",
      "________________________________________________________________________\n",
      "\n",
      "\n",
      "Fit statistic  : Chi-Squared                   58.91     using 80 bins.\n",
      "\n",
      "Test statistic : Chi-Squared                   58.91     using 80 bins.\n",
      " Null hypothesis probability of 9.38e-01 with 77 degrees of freedom\n",
      " Current data and model not fit yet.\n",
      "\n",
      "Fit statistic  : Chi-Squared                   58.91     using 80 bins.\n",
      "\n",
      "Test statistic : Chi-Squared                   58.91     using 80 bins.\n",
      " Null hypothesis probability of 9.38e-01 with 77 degrees of freedom\n",
      " Current data and model not fit yet.\n",
      "\n",
      "Fit statistic  : Chi-Squared                   58.91     using 80 bins.\n",
      "\n",
      "Test statistic : Chi-Squared                   58.91     using 80 bins.\n",
      " Null hypothesis probability of 9.38e-01 with 77 degrees of freedom\n",
      " Current data and model not fit yet.\n",
      "\n",
      "Fit statistic  : Chi-Squared                   58.91     using 80 bins.\n",
      "\n",
      "Test statistic : Chi-Squared                   58.91     using 80 bins.\n",
      " Null hypothesis probability of 9.38e-01 with 77 degrees of freedom\n",
      " Current data and model not fit yet.\n",
      "  parameter 4 is not frozen.\n",
      "\n",
      "Fit statistic  : Chi-Squared                   58.91     using 80 bins.\n",
      "\n",
      "Test statistic : Chi-Squared                   58.91     using 80 bins.\n",
      " Null hypothesis probability of 9.38e-01 with 77 degrees of freedom\n",
      " Current data and model not fit yet.\n",
      "\n",
      "Fit statistic  : Chi-Squared                   58.91     using 80 bins.\n",
      "\n",
      "Test statistic : Chi-Squared                   58.91     using 80 bins.\n",
      " Null hypothesis probability of 9.47e-01 with 78 degrees of freedom\n",
      " Current data and model not fit yet.\n",
      "Default fit statistic is set to: C-Statistic\n",
      "   This will apply to all current and newly loaded spectra.\n",
      "\n",
      "Fit statistic  : C-Statistic                    4.23     using 80 bins.\n",
      "\n",
      "Warning: cstat statistic is only valid for Poisson data.\n",
      "    Source file is not Poisson for spectrum 1\n",
      "\n",
      "\n",
      "Test statistic : Chi-Squared                   58.91     using 80 bins.\n",
      " Null hypothesis probability of 9.47e-01 with 78 degrees of freedom\n",
      " Current data and model not fit yet.\n",
      "     4 channels (1-4) ignored in spectrum #     1\n",
      "    18 channels (63-80) ignored in spectrum #     1\n",
      "\n",
      "Fit statistic  : C-Statistic                    3.74     using 58 bins.\n",
      "\n",
      "Warning: cstat statistic is only valid for Poisson data.\n",
      "    Source file is not Poisson for spectrum 1\n",
      "\n",
      "\n",
      "Test statistic : Chi-Squared                   48.39     using 58 bins.\n",
      " Null hypothesis probability of 7.55e-01 with 56 degrees of freedom\n",
      " Current data and model not fit yet.\n",
      "\n",
      " Warning: renorm - no variable model to allow  renormalization\n",
      "\n",
      "Fit statistic  : C-Statistic                    3.74     using 58 bins.\n",
      "\n",
      "Warning: cstat statistic is only valid for Poisson data.\n",
      "    Source file is not Poisson for spectrum 1\n",
      "\n",
      "\n",
      "Test statistic : Chi-Squared                   48.39     using 58 bins.\n",
      " Null hypothesis probability of 7.55e-01 with 56 degrees of freedom\n",
      " Current data and model not fit yet.\n",
      " Warning: renorm - no variable model to allow  renormalization\n",
      "                                   Parameters\n",
      "C-Statistic  |beta|/N    Lvl    3:lg10Flux    4:PhoIndex\n",
      "2.88345      0.0086224    -1      -9.02164       7.12321\n",
      "***Warning: Negative alpha-matrix diagonal element for parameter 4\n",
      " Parameter 4 is pegged at 7.12321 due to zero or negative pivot element, likely\n",
      " caused by the fit being insensitive to the parameter.\n",
      "2.68491      0.142925     -2      -8.70121       7.12321\n",
      "2.55427      0.0858264    -3      -8.48736       7.12321\n",
      "2.52076      0.0202785    -4      -8.42492       7.12321\n",
      "2.5161       0.00300388   -5      -8.41584       7.12321\n",
      "***Warning: Negative alpha-matrix diagonal element for parameter 4\n",
      " Parameter 4 is pegged at 7.12321 due to zero or negative pivot element, likely\n",
      " caused by the fit being insensitive to the parameter.\n",
      "2.51567      0.000279927  -3      -8.41500       7.12321\n",
      "====================\n",
      " Variances and Principal Axes\n",
      "                 3  \n",
      " 3.0120E+00|  1.0000  \n",
      "--------------------\n",
      "\n",
      "============\n",
      "  Covariance Matrix\n",
      "        1   \n",
      "   3.012e+00\n",
      "------------\n",
      "\n",
      "========================================================================\n",
      "Model cflux<1>*powerlaw<2> Source No.: 1   Active/On\n",
      "Model Model Component  Parameter  Unit     Value\n",
      " par  comp\n",
      "   1    1   cflux      Emin       keV      15.0000      frozen\n",
      "   2    1   cflux      Emax       keV      150.000      frozen\n",
      "   3    1   cflux      lg10Flux   cgs      -8.41500     +/-  1.73552      \n",
      "   4    2   powerlaw   PhoIndex            7.12321      +/-  -1.00000     \n",
      "   5    2   powerlaw   norm                1.00000E-03  frozen\n",
      "________________________________________________________________________\n",
      "\n",
      "\n",
      "Fit statistic  : C-Statistic                    2.52     using 58 bins.\n",
      "\n",
      "Warning: cstat statistic is only valid for Poisson data.\n",
      "    Source file is not Poisson for spectrum 1\n",
      "\n",
      "\n",
      "Test statistic : Chi-Squared                   48.92     using 58 bins.\n",
      " Null hypothesis probability of 7.37e-01 with 56 degrees of freedom\n",
      "\n",
      "Parameters defined:\n",
      "========================================================================\n",
      "Model cflux<1>*powerlaw<2> Source No.: 1   Active/On\n",
      "Model Model Component  Parameter  Unit     Value\n",
      " par  comp\n",
      "   1    1   cflux      Emin       keV      15.0000      frozen\n",
      "   2    1   cflux      Emax       keV      150.000      frozen\n",
      "   3    1   cflux      lg10Flux   cgs      -8.41500     +/-  1.73552      \n",
      "   4    2   powerlaw   PhoIndex            7.12321      +/-  -1.00000     \n",
      "   5    2   powerlaw   norm                1.00000E-03  frozen\n",
      "________________________________________________________________________\n",
      "\n",
      "\n",
      "Fit statistic  : C-Statistic                    2.52     using 58 bins.\n",
      "\n",
      "Warning: cstat statistic is only valid for Poisson data.\n",
      "    Source file is not Poisson for spectrum 1\n",
      "\n",
      "\n",
      "Test statistic : Chi-Squared                   48.92     using 58 bins.\n",
      " Null hypothesis probability of 7.37e-01 with 56 degrees of freedom\n",
      "*** Parameter 1 is not a variable model parameter and no confidence range will be calculated.\n",
      " Parameter   Confidence Range (2.706)\n",
      "*** Parameter 2 is not a variable model parameter and no confidence range will be calculated.\n",
      " Parameter   Confidence Range (2.706)\n",
      " Parameter   Confidence Range (2.706)\n",
      "***Warning: Parameter pegged at hard limit: -100\n",
      "***Warning: Negative alpha-matrix diagonal element for parameter 4\n",
      " Parameter 4 is pegged at 7.12321 due to zero or negative pivot element, likely\n",
      " caused by the fit being insensitive to the parameter.\n",
      "***Warning: Negative alpha-matrix diagonal element for parameter 4\n",
      " Parameter 4 is pegged at 7.12321 due to zero or negative pivot element, likely\n",
      " caused by the fit being insensitive to the parameter.\n",
      "***Warning: Negative alpha-matrix diagonal element for parameter 4\n",
      " Parameter 4 is pegged at 3.76828 due to zero or negative pivot element, likely\n",
      " caused by the fit being insensitive to the parameter.\n",
      "\n",
      " Fit error occurred during upper bound error calculation.\n",
      "***Warning: Negative alpha-matrix diagonal element for parameter 4\n",
      " Parameter 4 is pegged at 7.12321 due to zero or negative pivot element, likely\n",
      " caused by the fit being insensitive to the parameter.\n",
      "***Warning: Negative alpha-matrix diagonal element for parameter 4\n",
      " Parameter 4 is pegged at 7.12321 due to zero or negative pivot element, likely\n",
      " caused by the fit being insensitive to the parameter.\n",
      "     3            0     -7.90477    (8.41492,0.510148)\n",
      " Parameter   Confidence Range (2.706)\n",
      "\n",
      "***Warning: Number of trials exceeded before bracketing of delta fit-stat.\n",
      "Last attempt: 10, with delta statistic: 0.409732\n",
      "\n",
      "\n",
      "*** Parameter lower bound is INVALID.\n",
      "\n",
      "***Warning: Negative alpha-matrix diagonal element for parameter 4\n",
      " Parameter 4 is pegged at 7.12321 due to zero or negative pivot element, likely\n",
      " caused by the fit being insensitive to the parameter.\n",
      "***Warning: Negative alpha-matrix diagonal element for parameter 4\n",
      " Parameter 4 is pegged at 7.12321 due to zero or negative pivot element, likely\n",
      " caused by the fit being insensitive to the parameter.\n",
      " Warning: renorm - no variable model to allow  renormalization\n",
      "                                   Parameters\n",
      "C-Statistic  |beta|/N    Lvl    3:lg10Flux    4:PhoIndex\n",
      "1.64677      0.0110441    -3      -8.60732       3.43414\n",
      "***Warning: Negative alpha-matrix diagonal element for parameter 4\n",
      " Parameter 4 is pegged at 3.43414 due to zero or negative pivot element, likely\n",
      " caused by the fit being insensitive to the parameter.\n",
      "1.44923      0.0843501    -4      -8.42113       3.43414\n",
      "1.39604      0.0232071    -5      -8.36849       3.43414\n",
      "1.39388      0.000944992  -6      -8.36633       3.43414\n",
      "***Warning: Negative alpha-matrix diagonal element for parameter 4\n",
      " Parameter 4 is pegged at 3.43414 due to zero or negative pivot element, likely\n",
      " caused by the fit being insensitive to the parameter.\n",
      "1.39388      5.91251e-05  11      -8.36633       3.43414\n",
      "====================\n",
      " Variances and Principal Axes\n",
      "                 3  \n",
      " 2.2884E+00|  1.0000  \n",
      "--------------------\n",
      "\n",
      "============\n",
      "  Covariance Matrix\n",
      "        1   \n",
      "   2.288e+00\n",
      "------------\n",
      "\n",
      "========================================================================\n",
      "Model cflux<1>*powerlaw<2> Source No.: 1   Active/On\n",
      "Model Model Component  Parameter  Unit     Value\n",
      " par  comp\n",
      "   1    1   cflux      Emin       keV      15.0000      frozen\n",
      "   2    1   cflux      Emax       keV      150.000      frozen\n",
      "   3    1   cflux      lg10Flux   cgs      -8.36633     +/-  1.51273      \n",
      "   4    2   powerlaw   PhoIndex            3.43414      +/-  -1.00000     \n",
      "   5    2   powerlaw   norm                1.00000E-03  frozen\n",
      "________________________________________________________________________\n",
      "\n",
      "\n",
      "Fit statistic  : C-Statistic                    1.39     using 58 bins.\n",
      "\n",
      "Warning: cstat statistic is only valid for Poisson data.\n",
      "    Source file is not Poisson for spectrum 1\n",
      "\n",
      "\n",
      "Test statistic : Chi-Squared                   47.67     using 58 bins.\n",
      " Null hypothesis probability of 7.78e-01 with 56 degrees of freedom\n",
      "***Warning: New best fit found, fit parameters will be set to new values.\n",
      "\n",
      "***Warning: Number of trials exceeded before bracketing of delta fit-stat.\n",
      "Last attempt: 10, with delta statistic: 1.53174\n",
      "\n",
      "\n",
      "*** Parameter lower bound is INVALID.\n",
      "\n",
      "***Warning: Negative alpha-matrix diagonal element for parameter 4\n",
      " Parameter 4 is pegged at 3.43414 due to zero or negative pivot element, likely\n",
      " caused by the fit being insensitive to the parameter.\n",
      "***Warning: Negative alpha-matrix diagonal element for parameter 4\n",
      " Parameter 4 is pegged at 3.43414 due to zero or negative pivot element, likely\n",
      " caused by the fit being insensitive to the parameter.\n",
      " Warning: renorm - no variable model to allow  renormalization\n",
      "                                   Parameters\n",
      "C-Statistic  |beta|/N    Lvl    3:lg10Flux    4:PhoIndex\n",
      "0.904766     0.0198463    15      -8.26079       1.78915\n",
      "***Warning: LevMarq::invertCorrelationMatrix: \n",
      "            Negative diagonal element for parameter 3\n",
      "***Warning: LevMarq::invertCorrelationMatrix: \n",
      "            Negative diagonal element for parameter 4\n",
      "==============================\n",
      " Variances and Principal Axes\n",
      "                 3        4  \n",
      " 2.0817E-02| -0.2940   0.9558  \n",
      " 2.0817E+00|  0.9558   0.2940  \n",
      "------------------------------\n",
      "\n",
      "========================\n",
      "  Covariance Matrix\n",
      "        1           2   \n",
      "  -8.060e+00   3.297e+01\n",
      "   3.297e+01  -1.051e+02\n",
      "------------------------\n",
      "\n",
      "========================================================================\n",
      "Model cflux<1>*powerlaw<2> Source No.: 1   Active/On\n",
      "Model Model Component  Parameter  Unit     Value\n",
      " par  comp\n",
      "   1    1   cflux      Emin       keV      15.0000      frozen\n",
      "   2    1   cflux      Emax       keV      150.000      frozen\n",
      "   3    1   cflux      lg10Flux   cgs      -8.26079     +/-  -1.00000     \n",
      "   4    2   powerlaw   PhoIndex            1.78915      +/-  -1.00000     \n",
      "   5    2   powerlaw   norm                1.00000E-03  frozen\n",
      "________________________________________________________________________\n",
      "\n",
      "\n",
      "Fit statistic  : C-Statistic                    0.90     using 58 bins.\n",
      "\n",
      "Warning: cstat statistic is only valid for Poisson data.\n",
      "    Source file is not Poisson for spectrum 1\n",
      "\n",
      "\n",
      "Test statistic : Chi-Squared                   47.81     using 58 bins.\n",
      " Null hypothesis probability of 7.74e-01 with 56 degrees of freedom\n",
      "***Warning: New best fit found, fit parameters will be set to new values.\n",
      "\n",
      "***Warning: Number of trials exceeded before bracketing of delta fit-stat.\n",
      "Last attempt: 10, with delta statistic: 2.02069\n",
      "\n",
      "\n",
      "*** Parameter lower bound is INVALID.\n",
      "\n",
      "***Warning: Identical values of the parameter give different values of the statistic.\n",
      "Please check your result for the high end of the confidence range.\n",
      "     4            0     -1.50084    (-1.78915,-3.28998)\n",
      "*** Parameter 5 is not a variable model parameter and no confidence range will be calculated.\n",
      " Parameter   Confidence Range (2.706)\n"
     ]
    },
    {
     "name": "stderr",
     "output_type": "stream",
     "text": [
      "\n",
      "***XSPEC Error:  No variable parameters for fit "
     ]
    },
    {
     "data": {
      "image/png": "[encoded data removed]",
      "text/plain": [
       "<Figure size 640x480 with 1 Axes>"
      ]
     },
     "metadata": {},
     "output_type": "display_data"
    }
   ],
   "source": [
    "ba.fit_spectrum(spectrum)"
   ]
  },
  {
   "cell_type": "markdown",
   "id": "335b4cca",
   "metadata": {},
   "source": [
    "Then, we pass the spectrum to the `calculate_detection` function which will confirm that we have no detection of the FRB and it will compute the 5$\\sigma$ upper limit spectrum for us based on the background variation counts. The upper limit spectrum will be fitted with a powerlaw model to obtain the flux upperlimit of the FRB.  "
   ]
  },
  {
   "cell_type": "code",
   "execution_count": 26,
   "id": "3a003f38",
   "metadata": {},
   "outputs": [
    {
     "name": "stdout",
     "output_type": "stream",
     "text": [
      "The condition here is 3.846620939646046e-09 [1.0, 1.2451650432816001e-08] 3 -0.4999999937741748 1.4999999851691455\n",
      "No detection, just upperlimits for the spectrum: t_718524298.758331-718524308.758331_80chan.pha\n",
      "\n",
      "1 spectrum  in use\n",
      " \n",
      "Spectral Data File: t_718524298.758331-718524308.758331_80chan_bkgnsigma_5_upperlim.pha  Spectrum 1\n",
      "Net count rate (cts/s) for Spectrum:1  4.848e-01 +/- 2.781e-02\n",
      " Assigned to Data Group 1 and Plot Group 1\n",
      "  Noticed Channels:  1-80\n",
      "  Telescope: SWIFT Instrument: BAT  Channel Type: PI\n",
      "  Exposure Time: 10 sec\n",
      " Using fit statistic: cstat\n",
      " Using Response (RMF) File            t_718524298.758331-718524308.758331_80chan.rsp for Source 1\n",
      "\n",
      "\n",
      "Fit statistic  : C-Statistic                    0.85     using 80 bins.\n",
      "\n",
      "Warning: cstat statistic is only valid for Poisson data.\n",
      "    Source file is not Poisson for spectrum 1\n",
      "\n",
      "\n",
      "Test statistic : Chi-Squared                 6626.36     using 80 bins.\n",
      " Null hypothesis probability of 0.00e+00 with 79 degrees of freedom\n",
      " Current data and model not fit yet.\n",
      "\n",
      "========================================================================\n",
      "Model powerlaw<1> Source No.: 1   Active/On\n",
      "Model Model Component  Parameter  Unit     Value\n",
      " par  comp\n",
      "   1    1   powerlaw   PhoIndex            1.00000      +/-  0.0          \n",
      "   2    1   powerlaw   norm                1.00000      +/-  0.0          \n",
      "________________________________________________________________________\n",
      "\n",
      "\n",
      "Fit statistic  : C-Statistic                    1.71     using 80 bins.\n",
      "\n",
      "Warning: cstat statistic is only valid for Poisson data.\n",
      "    Source file is not Poisson for spectrum 1\n",
      "\n",
      "\n",
      "Test statistic : Chi-Squared                10397.32     using 80 bins.\n",
      " Null hypothesis probability of 0.00e+00 with 78 degrees of freedom\n",
      " Current data and model not fit yet.\n",
      "\n",
      "Fit statistic  : C-Statistic                   62.16     using 80 bins.\n",
      "\n",
      "Warning: cstat statistic is only valid for Poisson data.\n",
      "    Source file is not Poisson for spectrum 1\n",
      "\n",
      "\n",
      "Test statistic : Chi-Squared                44851.00     using 80 bins.\n",
      " Null hypothesis probability of 0.00e+00 with 79 degrees of freedom\n",
      " Current data and model not fit yet.\n",
      "\n",
      "========================================================================\n",
      "Model powerlaw<1> Source No.: 1   Active/On\n",
      "Model Model Component  Parameter  Unit     Value\n",
      " par  comp\n",
      "   1    1   powerlaw   PhoIndex            1.00000      frozen\n",
      "   2    1   powerlaw   norm                1.00000E-03  +/-  0.0          \n",
      "________________________________________________________________________\n",
      "\n",
      "Default fit statistic is set to: C-Statistic\n",
      "   This will apply to all current and newly loaded spectra.\n",
      "\n",
      "Fit statistic  : C-Statistic                   62.16     using 80 bins.\n",
      "\n",
      "Warning: cstat statistic is only valid for Poisson data.\n",
      "    Source file is not Poisson for spectrum 1\n",
      "\n",
      "\n",
      "Test statistic : Chi-Squared                44851.00     using 80 bins.\n",
      " Null hypothesis probability of 0.00e+00 with 79 degrees of freedom\n",
      " Current data and model not fit yet.\n",
      "     4 channels (1-4) ignored in spectrum #     1\n",
      "    18 channels (63-80) ignored in spectrum #     1\n",
      "\n",
      "Fit statistic  : C-Statistic                   46.73     using 58 bins.\n",
      "\n",
      "Warning: cstat statistic is only valid for Poisson data.\n",
      "    Source file is not Poisson for spectrum 1\n",
      "\n",
      "\n",
      "Test statistic : Chi-Squared                34295.30     using 58 bins.\n",
      " Null hypothesis probability of 0.00e+00 with 57 degrees of freedom\n",
      " Current data and model not fit yet.\n",
      "\n",
      "\n",
      "Fit statistic  : C-Statistic                    0.16     using 58 bins.\n",
      "\n",
      "Warning: cstat statistic is only valid for Poisson data.\n",
      "    Source file is not Poisson for spectrum 1\n",
      "\n",
      "\n",
      "Test statistic : Chi-Squared                 1707.24     using 58 bins.\n",
      " Null hypothesis probability of 1.39e-319 with 57 degrees of freedom\n",
      " Current data and model not fit yet.\n",
      "                                   Parameters\n",
      "C-Statistic  |beta|/N    Lvl        2:norm\n",
      "0.155869     1.34961e-15  -3       1.41481\n",
      "====================\n",
      " Variances and Principal Axes\n",
      "                 2  \n",
      " 5.3773E-01|  1.0000  \n",
      "--------------------\n",
      "\n",
      "============\n",
      "  Covariance Matrix\n",
      "        1   \n",
      "   5.377e-01\n",
      "------------\n",
      "\n",
      "========================================================================\n",
      "Model powerlaw<1> Source No.: 1   Active/On\n",
      "Model Model Component  Parameter  Unit     Value\n",
      " par  comp\n",
      "   1    1   powerlaw   PhoIndex            1.00000      frozen\n",
      "   2    1   powerlaw   norm                1.41481      +/-  0.733303     \n",
      "________________________________________________________________________\n",
      "\n",
      "\n",
      "Fit statistic  : C-Statistic                    0.16     using 58 bins.\n",
      "\n",
      "Warning: cstat statistic is only valid for Poisson data.\n",
      "    Source file is not Poisson for spectrum 1\n",
      "\n",
      "\n",
      "Test statistic : Chi-Squared                 1707.24     using 58 bins.\n",
      " Null hypothesis probability of 1.39e-319 with 57 degrees of freedom\n",
      "\n",
      "Parameters defined:\n",
      "========================================================================\n",
      "Model powerlaw<1> Source No.: 1   Active/On\n",
      "Model Model Component  Parameter  Unit     Value\n",
      " par  comp\n",
      "   1    1   powerlaw   PhoIndex            1.00000      frozen\n",
      "   2    1   powerlaw   norm                1.41481      +/-  0.733303     \n",
      "________________________________________________________________________\n",
      "\n",
      "\n",
      "Fit statistic  : C-Statistic                    0.16     using 58 bins.\n",
      "\n",
      "Warning: cstat statistic is only valid for Poisson data.\n",
      "    Source file is not Poisson for spectrum 1\n",
      "\n",
      "\n",
      "Test statistic : Chi-Squared                 1707.24     using 58 bins.\n",
      " Null hypothesis probability of 1.39e-319 with 57 degrees of freedom\n",
      "*** Parameter 1 is not a variable model parameter and no confidence range will be calculated.\n",
      " Parameter   Confidence Range (2.706)\n",
      " Parameter   Confidence Range (2.706)\n",
      "     2     0.524221      2.98564    (-0.890587,1.57083)\n",
      " Model Flux    3.2577 photons (3.0601e-07 ergs/cm^2/s) range (15.000 - 150.00 keV)\n"
     ]
    }
   ],
   "source": [
    "upperlim_spect=ba.calculate_detection(spectrum, pl_index=1)"
   ]
  },
  {
   "cell_type": "code",
   "execution_count": 23,
   "id": "faf485b9",
   "metadata": {},
   "outputs": [
    {
     "data": {
      "text/plain": [
       "(<Figure size 640x480 with 1 Axes>,\n",
       " <Axes: xlabel='E (keV)', ylabel='Count Rate (ct/s)'>)"
      ]
     },
     "execution_count": 23,
     "metadata": {},
     "output_type": "execute_result"
    },
    {
     "data": {
      "image/png": "[encoded data removed]",
      "text/plain": [
       "<Figure size 640x480 with 1 Axes>"
      ]
     },
     "metadata": {},
     "output_type": "display_data"
    }
   ],
   "source": [
    "upperlim_spect.plot()"
   ]
  },
  {
   "cell_type": "code",
   "execution_count": 25,
   "id": "b13b4688",
   "metadata": {},
   "outputs": [],
   "source": [
    "ba.calculate_TTE_detection?"
   ]
  },
  {
   "cell_type": "code",
   "execution_count": null,
   "id": "e124b5fc",
   "metadata": {},
   "outputs": [],
   "source": []
  }
 ],
 "metadata": {
  "kernelspec": {
   "display_name": "Python 3 (ipykernel)",
   "language": "python",
   "name": "python3"
  },
  "language_info": {
   "codemirror_mode": {
    "name": "ipython",
    "version": 3
   },
   "file_extension": ".py",
   "mimetype": "text/x-python",
   "name": "python",
   "nbconvert_exporter": "python",
   "pygments_lexer": "ipython3",
   "version": "3.11.3"
  }
 },
 "nbformat": 4,
 "nbformat_minor": 5
}
