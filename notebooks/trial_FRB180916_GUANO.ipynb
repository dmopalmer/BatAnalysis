{
 "cells": [
  {
   "cell_type": "markdown",
   "id": "f2fb2b50",
   "metadata": {},
   "source": [
    "# FRB 180916\n",
    "\n",
    "This notebook is meant to outline how the BatAnalysis Tool can be used alongside swifttools to query, download, and analyze BAT GUANO data. \n",
    "\n",
    "Here, we will be querying for BAT GUANO data that was triggered by an FRB. We filter out the data to select one where FRB 180916.J0158+65 is in the BAT FOV. Then, we use the BatAnalysis Tools to look at the lightcurve and produce flux upper limits for the FRB in the 15-150 keV range. \n",
    "\n",
    "Additional information on the BAT GUANO system can be found here: [https://arxiv.org/pdf/2005.01751](https://arxiv.org/pdf/2005.01751) and here: [https://www.swift.psu.edu/guano/](https://www.swift.psu.edu/guano/)\n",
    "\n",
    "First, lets import the packages that we will need:"
   ]
  },
  {
   "cell_type": "code",
   "execution_count": 1,
   "id": "19a6f745",
   "metadata": {},
   "outputs": [
    {
     "name": "stderr",
     "output_type": "stream",
     "text": [
      "\n",
      "WARNING: version mismatch between CFITSIO header (v40401) and linked library (v40400).\n",
      "\n"
     ]
    },
    {
     "name": "stdout",
     "output_type": "stream",
     "text": [
      "Initalizing the BatAnalysis package\n",
      "Completed initalizing the package\n"
     ]
    }
   ],
   "source": [
    "import xspec\n",
    "import batanalysis as ba\n",
    "from swifttools.swift_too import GUANO, ObsQuery, Clock\n",
    "import swiftbat\n",
    "\n",
    "import matplotlib.pyplot as plt\n",
    "import numpy as np\n",
    "import scipy as sp\n",
    "from pathlib import Path\n",
    "from astropy.io import fits\n",
    "from astropy.time import Time, TimeDelta\n",
    "import astropy.units as u\n",
    "from astropy.coordinates import SkyCoord\n",
    "import datetime\n",
    "import os\n"
   ]
  },
  {
   "cell_type": "markdown",
   "id": "d7979948",
   "metadata": {},
   "source": [
    "Now, we will use the swiftbat package to create an object that holds the coordinate information for the FRB of interest."
   ]
  },
  {
   "cell_type": "code",
   "execution_count": 2,
   "id": "d9788f0d",
   "metadata": {},
   "outputs": [],
   "source": [
    "object_name = \"FRB 180916.J0158+65\"\n",
    "\n",
    "object_location = swiftbat.simbadlocation(object_name)\n",
    "object_location=SkyCoord(ra=object_location[0]*u.deg, dec=object_location[1]*u.deg)\n",
    "\n",
    "object_batsource = swiftbat.source(\n",
    "    ra=object_location.ra.deg, dec=object_location.dec.deg, name=object_name\n",
    ")\n"
   ]
  },
  {
   "cell_type": "markdown",
   "id": "d3c12037",
   "metadata": {},
   "source": [
    "We can now, run a query for the first 300 FRB triggered GUANO datasets. \n",
    "\n",
    "***NOTE: Since the GUANO system is constantly running and getting BAT data for different triggers, the observation ID that gets analyzed for you in running this notebook will be different from what was originally analyzed here.***"
   ]
  },
  {
   "cell_type": "code",
   "execution_count": 3,
   "id": "3b0a2343",
   "metadata": {},
   "outputs": [],
   "source": [
    "guano=GUANO(triggertype=\"FRB\", limit=300)\n",
    "query=ObsQuery(obsid=[i.obsid for i in guano])"
   ]
  },
  {
   "cell_type": "markdown",
   "id": "8db6f5e1",
   "metadata": {},
   "source": [
    "With our data queried, we need to filter out data where the FRB is not in the BAT FOV. \n",
    "\n",
    "We first do this by calculating the partial coding exposure of the FRB on the BAT detector plane (ie what is the area of the BAT detector plane that was illuminated by the FRB's point in the sky)"
   ]
  },
  {
   "cell_type": "code",
   "execution_count": 4,
   "id": "88565034",
   "metadata": {},
   "outputs": [
    {
     "name": "stdout",
     "output_type": "stream",
     "text": [
      "[   0.            0.            0.            0.            0.\n",
      "    0.            0.            0.            0.            0.\n",
      "    0.            0.            0.            0.            0.\n",
      " 1550.26573614    0.            0.         1828.25743149    0.\n",
      "    0.         1694.89297366    0.            0.         1803.99406903\n",
      "    0.            0.         1713.86548913 1822.43062485    0.\n",
      " 1640.34374478    0.         1822.61709802 1703.36984579 1862.04560951\n",
      " 1557.04950437    0.         1689.56322994    0.         1729.08998041\n",
      "    0.            0.          104.29788412    0.            0.\n",
      "   19.21621356    0.            0.            0.            0.\n",
      "    0.            0.            0.            0.            0.\n",
      "    0.            0.            0.            0.            0.\n",
      "    0.            0.            0.            0.            0.\n",
      "    0.            0.         3367.6630276  4121.65238225 4227.71210041\n",
      " 4138.75765965 4363.9596     1215.88264586    0.          329.84538033\n",
      "    0.          510.48062879    0.          462.41065808    0.\n",
      "    0.            0.            0.            0.         4158.9752185\n",
      " 4018.88651615    0.            0.            0.            0.\n",
      "    0.            0.            0.            0.            0.\n",
      "    0.            0.            0.            0.            0.\n",
      "    0.            0.            0.            0.            0.\n",
      "    0.            0.            0.            0.            0.\n",
      "    0.            0.            0.            0.            0.\n",
      "    0.            0.            0.            0.            0.\n",
      "    0.            0.            0.            0.            0.\n",
      "    0.            0.            0.            0.            0.\n",
      "    0.            0.            0.            0.            0.\n",
      "    0.            0.            0.          648.0879504     0.\n",
      "    0.            0.            0.            0.            0.\n",
      " 1424.69590277   16.91553171    0.            0.         1418.41006668\n",
      "    0.         1420.81775076    0.            0.            0.\n",
      "    0.            0.            0.            0.            0.\n",
      "    0.            0.            0.            0.            0.\n",
      "    0.            0.            0.            0.            0.\n",
      "    0.            0.            0.            0.            0.\n",
      "    0.            0.            0.            0.            0.\n",
      "    0.            0.            0.         1939.63458972 1799.71479012\n",
      " 1939.24006269    0.            0.            0.            0.\n",
      "    0.            0.            0.            0.            0.\n",
      "    0.            0.         2843.07363391    0.         2608.22426902\n",
      "    0.            0.         2840.06037933 2929.16891591 4363.9596\n",
      "    0.         4363.9596     4363.9596     4363.9596        0.\n",
      " 4363.9596     4363.9596        0.            0.         2057.1799646\n",
      " 2060.87184822  961.27221545  963.49291741  967.74939193  968.22870034\n",
      "  971.13348727  972.01252326  975.60185819  974.40715616 1179.80887227\n",
      " 1137.73415993 2122.82052991    0.            0.            0.\n",
      "    0.            0.            0.            0.            0.\n",
      "    0.            0.            0.         4363.9596     4363.9596\n",
      " 4363.9596     4363.9596     4363.9596     4363.9596        0.\n",
      " 4363.9596      463.01107141    0.            0.            0.\n",
      "    0.            0.            0.         4363.9596        0.\n",
      " 4363.9596     4363.9596     3862.38855682 2952.29153355    0.\n",
      "    0.            0.            0.         4177.88107218    0.\n",
      " 4363.9596     4363.9596     4363.9596     4287.99794576    0.\n",
      "    0.            0.            0.            0.            0.\n",
      "    0.            0.          616.35872339  757.76650974    0.\n",
      "    0.            0.          213.40623248    0.            0.\n",
      "    0.            0.            0.            0.            0.\n",
      "    0.            0.            0.            0.            0.\n",
      "    0.            0.            0.            0.            0.\n",
      "    0.            0.            0.            0.            0.\n",
      "    0.            0.            0.            0.            0.\n",
      "    0.            0.            0.            0.            0.\n",
      "    0.            0.            0.            0.            0.\n",
      "    0.            0.            0.            0.            0.\n",
      "    0.            0.            0.            0.            0.\n",
      "    0.            0.           18.36399399    0.            0.\n",
      "    0.            0.            0.            0.            0.\n",
      "    0.            0.            0.            0.            0.\n",
      "    0.            0.            0.            0.            0.\n",
      "    0.            0.            0.         4363.9596     4363.9596\n",
      " 4363.9596        0.         4363.9596     4363.9596        0.\n",
      " 4363.9596        0.            0.            0.            0.\n",
      "    0.            0.            0.            0.            0.\n",
      "    0.            0.         4363.9596     4363.9596        0.\n",
      " 4363.9596     4363.9596        0.         4363.9596     4363.9596\n",
      "    0.            0.         4363.9596     4363.9596     4363.9596\n",
      " 4363.9596     4363.9596      283.33187411  114.32669737    0.\n",
      "    0.            0.            0.            0.            0.\n",
      "    0.            0.         3888.96774955 3889.95911211 3889.79635872\n",
      "    0.         3890.34191693 3887.67963678 3888.50526493 3888.03812028\n",
      "    0.            0.            0.            0.            0.\n",
      "    0.            0.            0.            0.            0.\n",
      "    0.            0.            0.         4363.9596        0.\n",
      "    0.         4363.9596        0.            0.            0.\n",
      "    0.            0.            0.            0.            0.\n",
      "    0.            0.            0.            0.            0.\n",
      "    0.            0.            0.            0.            0.\n",
      "  368.67727606    0.            0.          185.21355373    0.\n",
      "    0.            0.            0.            0.            0.\n",
      "    0.            0.            0.         1046.63187764 1047.9038099\n",
      " 1052.74749302    0.            0.            0.            0.\n",
      "    0.            0.            0.            0.            0.\n",
      "    0.            0.            0.            0.            0.\n",
      "    0.            0.            0.            0.            0.\n",
      "    0.            0.            0.         4363.9596     4363.9596\n",
      " 4363.9596     4363.9596        0.            0.            0.\n",
      "    0.            0.            0.            0.            0.\n",
      "    0.            0.            0.            0.            0.\n",
      "    0.            0.            0.            0.         2959.74765373\n",
      " 2804.64207533 2903.93037324 2768.96996382    0.            0.\n",
      "    0.            0.         3858.98472922    0.            0.\n",
      "    0.            0.            0.            0.            0.\n",
      "    0.            0.            0.         4363.9596     4363.9596\n",
      " 4363.9596     4363.9596     4363.9596     4363.9596     4363.9596\n",
      "    0.          751.87785405  613.1875007   178.98756866    0.\n",
      "  663.99464309  719.35242808    0.          648.35407961  630.6610084\n",
      "  703.70812263    0.            0.            0.            0.\n",
      "    0.            0.            0.         3469.32703271    0.\n",
      "    0.            0.            0.            0.            0.\n",
      "    0.            0.            0.            0.            0.\n",
      "    0.            0.            0.            0.            0.\n",
      "    0.            0.            0.            0.            0.\n",
      "    0.            0.            0.            0.            0.\n",
      "    0.            0.            0.            0.         3973.60999907\n",
      "    0.         4024.68985417    0.         3986.04895291    0.\n",
      "    0.            0.            0.            0.            0.\n",
      "    0.            0.          437.14727459    0.          438.04830441\n",
      "    0.            0.            0.          438.78599667    0.\n",
      " 4363.9596     4363.9596     4363.9596     3946.69172372 3766.71199163\n",
      " 3949.0307357     0.            0.            0.            0.\n",
      "    0.            0.            0.            0.            0.\n",
      "    0.            0.            0.            0.            0.\n",
      "    0.          343.16981976    0.            0.            0.\n",
      "    0.            0.            0.            0.            0.\n",
      "    0.            0.            0.            0.            0.\n",
      " 2144.81891939 2339.91935918 2118.44247547 2275.69201174    0.\n",
      "    0.            0.            0.            0.            0.\n",
      " 2093.01982936 4284.28185151 4363.9596        4.64040051    7.1287451\n",
      " 4219.52209999    0.           11.78728866   14.55647249    0.\n",
      "    0.            0.         4120.8635761  4147.46336221    0.\n",
      "    0.            0.            0.            0.          110.71579372\n",
      "    5.07356603    0.            0.            0.            0.\n",
      "    0.            0.            0.            0.            0.\n",
      "    0.            0.            0.            0.            0.\n",
      "    0.         1125.25429314 4362.97038129 1170.91077528    0.\n",
      " 4361.27557909 4362.84712306    0.            0.         2779.44035582\n",
      "    0.         4179.77065873    0.         4357.89424089 3300.10373516\n",
      "    0.            0.         1026.92707763    0.         1096.14085253\n",
      " 1034.82103754    0.            0.            0.            0.\n",
      "    0.            0.            0.            0.            0.\n",
      "    0.            0.         4249.36119433 4228.61699604    0.\n",
      "    0.            0.            0.            0.            0.\n",
      "    0.            0.            0.         3381.50493906 3915.66589309\n",
      " 3768.40322377 3812.49084284]\n"
     ]
    }
   ],
   "source": [
    "exposures = np.array(\n",
    "    [object_batsource.exposure(ra=i.ra,\n",
    "                               dec=i.dec, \n",
    "                               roll=i.roll)[0]\n",
    "        for i in query\n",
    "    ])\n",
    "print(exposures)"
   ]
  },
  {
   "cell_type": "markdown",
   "id": "f31f8092",
   "metadata": {},
   "source": [
    "Now, we can select the first GUANO dataset where the partial coding is $\\gtrsim 19\\%$. We also extract the trigger time of the FRB so we can use that as a T0 in our lightcurve and spectrum. "
   ]
  },
  {
   "cell_type": "code",
   "execution_count": 5,
   "id": "79b42fea",
   "metadata": {},
   "outputs": [
    {
     "name": "stdout",
     "output_type": "stream",
     "text": [
      "+---------------------+---------------------+-------------+--------------------+--------------+--------------+\n",
      "|          Begin Time |            End Time | Target Name | Observation Number | Exposure (s) | Slewtime (s) |\n",
      "+---------------------+---------------------+-------------+--------------------+--------------+--------------+\n",
      "| 2024-06-12 07:38:02 | 2024-06-12 07:57:57 |    UGC11557 |        00097561005 |         1065 |          130 |\n",
      "+---------------------+---------------------+-------------+--------------------+--------------+--------------+\n"
     ]
    },
    {
     "name": "stderr",
     "output_type": "stream",
     "text": [
      "/var/folders/t4/r1b0srk10n335yds5g1g053c8nkvkq/T/ipykernel_50457/3230960228.py:3: DeprecationWarning: Conversion of an array with ndim > 0 to a scalar is deprecated, and will error in future. Ensure you extract a single element from your array before performing this operation. (Deprecated NumPy 1.25.)\n"
     ]
    }
   ],
   "source": [
    "minexposure = 1000  # cm^2 after cos adjust\n",
    "sel_guano=np.array(query)[np.where(exposures > minexposure)[0]][0]\n",
    "triggertime=guano[int(np.where([int(sel_guano.obsid)==int(i.obsid) for i in guano])[0])].triggertime\n",
    "print(sel_guano)"
   ]
  },
  {
   "cell_type": "markdown",
   "id": "e1b7984b",
   "metadata": {},
   "source": [
    "After finding the data that we want with the swiftools package, we can easily download it. We first specify where we will be downloading the data and doing our analysis in this notebook using our usual `ba.datadir` call. Then, we download the obsid of the GUANO dataset that we are interested in. "
   ]
  },
  {
   "cell_type": "code",
   "execution_count": 6,
   "id": "9d69a99f",
   "metadata": {},
   "outputs": [
    {
     "data": {
      "application/vnd.jupyter.widget-view+json": {
       "model_id": "635aadfcb1d04af3a32afda46259c99f",
       "version_major": 2,
       "version_minor": 0
      },
      "text/plain": [
       "Downloading files:   0%|          | 0/32 [00:00<?, ?files/s]"
      ]
     },
     "metadata": {},
     "output_type": "display_data"
    },
    {
     "name": "stdout",
     "output_type": "stream",
     "text": [
      "{'00097561005': {'obsid': '00097561005', 'success': True, 'obsoutdir': PosixPath('/private/tmp/batdata/download_examples/00097561005'), 'quicklook': False, 'data': Swift_Data(username='anonymous',obsid='00097561005',quicklook='False',auxil='True',bat='True',xrt='False',uvot='False',log='False',tdrss='True')}}\n"
     ]
    }
   ],
   "source": [
    "tmp_download_dir=\"/tmp/batdata/download_examples\"\n",
    "\n",
    "ba.datadir(tmp_download_dir, mkdir=True)\n",
    "\n",
    "download = ba.download_swiftdata(observations=sel_guano.obsid)\n",
    "\n",
    "print(download)"
   ]
  },
  {
   "cell_type": "markdown",
   "id": "f0facfbd-2717-4ffe-8ce1-85405cf10c85",
   "metadata": {},
   "source": [
    "For the purposes of this notebook and having reproducable results, we will download an observation ID that we will hold constant. This OBSID is 01209406000 which we have previously checked matches the criteria set above (by running those same cells). We also set the triggertime for this FRB, which was previously obtained following the method outlined above."
   ]
  },
  {
   "cell_type": "code",
   "execution_count": 7,
   "id": "c87315f9-ac15-4450-93e2-1f02856ad0b1",
   "metadata": {
    "scrolled": true
   },
   "outputs": [
    {
     "data": {
      "application/vnd.jupyter.widget-view+json": {
       "model_id": "a76bdf60153b4bcab477412ac0d0a6a6",
       "version_major": 2,
       "version_minor": 0
      },
      "text/plain": [
       "Downloading files:   0%|          | 0/48 [00:00<?, ?files/s]"
      ]
     },
     "metadata": {},
     "output_type": "display_data"
    },
    {
     "name": "stdout",
     "output_type": "stream",
     "text": [
      "2024-01-17T17:05:07.661808\n"
     ]
    }
   ],
   "source": [
    "obsid='01209406000'\n",
    "download = ba.download_swiftdata(observations=obsid)\n",
    "\n",
    "triggertime=Clock(met=727203940.410081)\n",
    "print(triggertime.utctime.isoformat())"
   ]
  },
  {
   "cell_type": "markdown",
   "id": "ef24d37f",
   "metadata": {},
   "source": [
    "We finally have our data. Lets load it into a `BatEvent` class so we can create lightcurves and spectra. \n",
    "\n",
    "***NOTE: when we are dealing with GUANO data, we need to specify `is_guano=True`***"
   ]
  },
  {
   "cell_type": "code",
   "execution_count": 8,
   "id": "64163852",
   "metadata": {},
   "outputs": [
    {
     "name": "stderr",
     "output_type": "stream",
     "text": [
      "/Users/tparsota/Library/CloudStorage/Box-Box/BatAnalysis/batanalysis/bat_tte.py:288: UserWarning: Since this is a GUANO dataset the RA/Dec coordinates may not be valid. These are currently being set to(83.6790758787787 deg, 22.3339316174837 deg). Please verify that these are correct for your analysis.\n"
     ]
    },
    {
     "name": "stdout",
     "output_type": "stream",
     "text": [
      "A save file has been written to /private/tmp/batdata/download_examples/01209406000_eventresult/batevent.pickle.\n"
     ]
    }
   ],
   "source": [
    "event=ba.BatEvent(obsid, is_guano=True)"
   ]
  },
  {
   "cell_type": "markdown",
   "id": "30fc1e03",
   "metadata": {},
   "source": [
    "In loading in the dataset, we saw that the default loaded coordinates is RA/Dec=358,17.8 which is not the location of the FRB that we care about. If we want to generate correct lightcurves and spectra for our FRB, we need to apply the mask weighting approporiate for the FRBs coordinates. We do this by calling the `.apply_mask_weighting` method and supplying the RA/Dec coordinates correspondent to the FRB. "
   ]
  },
  {
   "cell_type": "code",
   "execution_count": 9,
   "id": "58ba43bd",
   "metadata": {},
   "outputs": [],
   "source": [
    "event.apply_mask_weighting(ra=object_location.ra, dec=object_location.dec)"
   ]
  },
  {
   "cell_type": "markdown",
   "id": "1b59f927",
   "metadata": {},
   "source": [
    "Now, we can create a lightcurve and take a look to see if we see any visible emission. "
   ]
  },
  {
   "cell_type": "code",
   "execution_count": 10,
   "id": "209c610b",
   "metadata": {},
   "outputs": [],
   "source": [
    "lc=event.create_lightcurve()"
   ]
  },
  {
   "cell_type": "code",
   "execution_count": 11,
   "id": "0cced3ae",
   "metadata": {},
   "outputs": [
    {
     "data": {
      "text/plain": [
       "(<Figure size 640x480 with 1 Axes>,\n",
       " <Axes: xlabel='MET (s)', ylabel='RATE (ct / s)'>)"
      ]
     },
     "execution_count": 11,
     "metadata": {},
     "output_type": "execute_result"
    },
    {
     "data": {
      "image/png": "[encoded data removed]",
      "text/plain": [
       "<Figure size 640x480 with 1 Axes>"
      ]
     },
     "metadata": {},
     "output_type": "display_data"
    }
   ],
   "source": [
    "lc.plot(T0=triggertime.met)"
   ]
  },
  {
   "cell_type": "markdown",
   "id": "e411c71d",
   "metadata": {},
   "source": [
    "The 64 ms lighcurve that we created above in 4 energy bands is very busy and is difficult to identify any sort of signal that stands out from noise. Lets modify our created lightcurve to be a single energy bin from 15-350 keV and to have 1 second time binning. Then we will plot it and try to identify any signal."
   ]
  },
  {
   "cell_type": "code",
   "execution_count": 12,
   "id": "59e4d92f",
   "metadata": {},
   "outputs": [],
   "source": [
    "lc.set_energybins(emin=15*u.keV, emax=350*u.keV)\n"
   ]
  },
  {
   "cell_type": "code",
   "execution_count": 13,
   "id": "38322f15",
   "metadata": {},
   "outputs": [
    {
     "data": {
      "text/plain": [
       "(<Figure size 640x480 with 1 Axes>,\n",
       " <Axes: xlabel='MET (s)', ylabel='RATE (ct / s)'>)"
      ]
     },
     "execution_count": 13,
     "metadata": {},
     "output_type": "execute_result"
    },
    {
     "data": {
      "image/png": "[encoded data removed]",
      "text/plain": [
       "<Figure size 640x480 with 1 Axes>"
      ]
     },
     "metadata": {},
     "output_type": "display_data"
    }
   ],
   "source": [
    "lc.set_timebins(timebinalg=\"uniform\", timedelta=np.timedelta64(1, 's'))\n",
    "lc.plot(T0=triggertime.met)"
   ]
  },
  {
   "cell_type": "markdown",
   "id": "f46f3c15",
   "metadata": {},
   "source": [
    "The lightcurve still doesn't show anything obvious. Lets try to place constraints on the flux of the FRB in the 15-150 keV energy range. We start off by creating a PHA spectrum from T0-5 to T0+5 seconds when the FRB may have produced emission. "
   ]
  },
  {
   "cell_type": "code",
   "execution_count": 14,
   "id": "8a828157",
   "metadata": {
    "scrolled": true
   },
   "outputs": [],
   "source": [
    "spectrum=event.create_pha(tstart=-5*u.s, tstop=5*u.s, is_relative=True, T0=triggertime.met)"
   ]
  },
  {
   "cell_type": "markdown",
   "id": "1b831c4c",
   "metadata": {},
   "source": [
    "We can plot this spectrum and see that there is only noise here. We can now use this spectrum to place flux upper limits on the FRB emission. "
   ]
  },
  {
   "cell_type": "code",
   "execution_count": 15,
   "id": "47f2abb5",
   "metadata": {},
   "outputs": [
    {
     "data": {
      "text/plain": [
       "(<Figure size 640x480 with 1 Axes>,\n",
       " <Axes: xlabel='E (keV)', ylabel='Count Rate (ct/s)'>)"
      ]
     },
     "execution_count": 15,
     "metadata": {},
     "output_type": "execute_result"
    },
    {
     "data": {
      "image/png": "[encoded data removed]",
      "text/plain": [
       "<Figure size 640x480 with 1 Axes>"
      ]
     },
     "metadata": {},
     "output_type": "display_data"
    }
   ],
   "source": [
    "spectrum.plot()"
   ]
  },
  {
   "cell_type": "markdown",
   "id": "65612eae",
   "metadata": {},
   "source": [
    "We first fit the spectrum with a powerlaw. "
   ]
  },
  {
   "cell_type": "code",
   "execution_count": 16,
   "id": "48ea3ba4",
   "metadata": {},
   "outputs": [
    {
     "name": "stdout",
     "output_type": "stream",
     "text": [
      "\n",
      "1 spectrum  in use\n",
      " \n",
      "Spectral Data File: t_727203935.410081-727203945.410081_80chan.pha  Spectrum 1\n",
      "Net count rate (cts/s) for Spectrum:1  -3.960e-03 +/- 1.004e-02\n",
      " Assigned to Data Group 1 and Plot Group 1\n",
      "  Noticed Channels:  1-80\n",
      "  Telescope: SWIFT Instrument: BAT  Channel Type: PI\n",
      "  Exposure Time: 10 sec\n",
      " Using fit statistic: chi\n",
      " Using Response (RMF) File            t_727203935.410081-727203945.410081_80chan.rsp for Source 1\n",
      "\n",
      "\n",
      "========================================================================\n",
      "Model cflux<1>*powerlaw<2> Source No.: 1   Active/On\n",
      "Model Model Component  Parameter  Unit     Value\n",
      " par  comp\n",
      "   1    1   cflux      Emin       keV      0.500000     frozen\n",
      "   2    1   cflux      Emax       keV      10.0000      frozen\n",
      "   3    1   cflux      lg10Flux   cgs      -12.0000     +/-  0.0          \n",
      "   4    2   powerlaw   PhoIndex            1.00000      +/-  0.0          \n",
      "   5    2   powerlaw   norm                1.00000      +/-  0.0          \n",
      "________________________________________________________________________\n",
      "\n",
      "\n",
      "Fit statistic  : Chi-Squared                   96.02     using 80 bins.\n",
      "\n",
      "Test statistic : Chi-Squared                   96.02     using 80 bins.\n",
      " Null hypothesis probability of 7.01e-02 with 77 degrees of freedom\n",
      " Current data and model not fit yet.\n",
      "\n",
      "Fit statistic  : Chi-Squared                   96.02     using 80 bins.\n",
      "\n",
      "Test statistic : Chi-Squared                   96.02     using 80 bins.\n",
      " Null hypothesis probability of 7.01e-02 with 77 degrees of freedom\n",
      " Current data and model not fit yet.\n",
      "\n",
      "Fit statistic  : Chi-Squared                   96.02     using 80 bins.\n",
      "\n",
      "Test statistic : Chi-Squared                   96.02     using 80 bins.\n",
      " Null hypothesis probability of 7.01e-02 with 77 degrees of freedom\n",
      " Current data and model not fit yet.\n",
      "\n",
      "Fit statistic  : Chi-Squared                   96.02     using 80 bins.\n",
      "\n",
      "Test statistic : Chi-Squared                   96.02     using 80 bins.\n",
      " Null hypothesis probability of 7.01e-02 with 77 degrees of freedom\n",
      " Current data and model not fit yet.\n",
      "  parameter 4 is not frozen.\n",
      "\n",
      "Fit statistic  : Chi-Squared                   96.02     using 80 bins.\n",
      "\n",
      "Test statistic : Chi-Squared                   96.02     using 80 bins.\n",
      " Null hypothesis probability of 7.01e-02 with 77 degrees of freedom\n",
      " Current data and model not fit yet.\n",
      "\n",
      "Fit statistic  : Chi-Squared                   96.02     using 80 bins.\n",
      "\n",
      "Test statistic : Chi-Squared                   96.02     using 80 bins.\n",
      " Null hypothesis probability of 8.12e-02 with 78 degrees of freedom\n",
      " Current data and model not fit yet.\n",
      "Default fit statistic is set to: C-Statistic\n",
      "   This will apply to all current and newly loaded spectra.\n",
      "\n",
      "Fit statistic  : C-Statistic                    3.07     using 80 bins.\n",
      "\n",
      "Warning: cstat statistic is only valid for Poisson data.\n",
      "    Source file is not Poisson for spectrum 1\n",
      "\n",
      "\n",
      "Test statistic : Chi-Squared                   96.02     using 80 bins.\n",
      " Null hypothesis probability of 8.12e-02 with 78 degrees of freedom\n",
      " Current data and model not fit yet.\n",
      "     4 channels (1-4) ignored in spectrum #     1\n",
      "    18 channels (63-80) ignored in spectrum #     1\n",
      "\n",
      "Fit statistic  : C-Statistic                    2.39     using 58 bins.\n",
      "\n",
      "Warning: cstat statistic is only valid for Poisson data.\n",
      "    Source file is not Poisson for spectrum 1\n",
      "\n",
      "\n",
      "Test statistic : Chi-Squared                   64.12     using 58 bins.\n",
      " Null hypothesis probability of 2.13e-01 with 56 degrees of freedom\n",
      " Current data and model not fit yet.\n",
      "\n",
      " Warning: renorm - no variable model to allow  renormalization\n",
      "\n",
      "Fit statistic  : C-Statistic                    2.39     using 58 bins.\n",
      "\n",
      "Warning: cstat statistic is only valid for Poisson data.\n",
      "    Source file is not Poisson for spectrum 1\n",
      "\n",
      "\n",
      "Test statistic : Chi-Squared                   64.12     using 58 bins.\n",
      " Null hypothesis probability of 2.13e-01 with 56 degrees of freedom\n",
      " Current data and model not fit yet.\n",
      " Warning: renorm - no variable model to allow  renormalization\n",
      "                                   Parameters\n",
      "C-Statistic  |beta|/N    Lvl    3:lg10Flux    4:PhoIndex\n",
      "2.39283      0.0036968    -1      -43.8908       7.53170\n",
      "***Warning: LevMarq::invertCorrelationMatrix: \n",
      "            Negative diagonal element for parameter 3\n",
      "***Warning: LevMarq::invertCorrelationMatrix: \n",
      "            Negative diagonal element for parameter 4\n",
      "==============================\n",
      " Variances and Principal Axes\n",
      "                 3        4  \n",
      " 2.7550E+00| -0.3794   0.9252  \n",
      " 2.7550E+02|  0.9252   0.3794  \n",
      "------------------------------\n",
      "\n",
      "========================\n",
      "  Covariance Matrix\n",
      "        1           2   \n",
      "  -2.046e+03   5.661e+03\n",
      "   5.661e+03  -1.353e+04\n",
      "------------------------\n",
      "\n",
      "========================================================================\n",
      "Model cflux<1>*powerlaw<2> Source No.: 1   Active/On\n",
      "Model Model Component  Parameter  Unit     Value\n",
      " par  comp\n",
      "   1    1   cflux      Emin       keV      15.0000      frozen\n",
      "   2    1   cflux      Emax       keV      150.000      frozen\n",
      "   3    1   cflux      lg10Flux   cgs      -43.8908     +/-  -1.00000     \n",
      "   4    2   powerlaw   PhoIndex            7.53170      +/-  -1.00000     \n",
      "   5    2   powerlaw   norm                1.00000E-03  frozen\n",
      "________________________________________________________________________\n",
      "\n",
      "\n",
      "Fit statistic  : C-Statistic                    2.39     using 58 bins.\n",
      "\n",
      "Warning: cstat statistic is only valid for Poisson data.\n",
      "    Source file is not Poisson for spectrum 1\n",
      "\n",
      "\n",
      "Test statistic : Chi-Squared                   64.12     using 58 bins.\n",
      " Null hypothesis probability of 2.13e-01 with 56 degrees of freedom\n",
      "\n",
      "Parameters defined:\n",
      "========================================================================\n",
      "Model cflux<1>*powerlaw<2> Source No.: 1   Active/On\n",
      "Model Model Component  Parameter  Unit     Value\n",
      " par  comp\n",
      "   1    1   cflux      Emin       keV      15.0000      frozen\n",
      "   2    1   cflux      Emax       keV      150.000      frozen\n",
      "   3    1   cflux      lg10Flux   cgs      -43.8908     +/-  -1.00000     \n",
      "   4    2   powerlaw   PhoIndex            7.53170      +/-  -1.00000     \n",
      "   5    2   powerlaw   norm                1.00000E-03  frozen\n",
      "________________________________________________________________________\n",
      "\n",
      "\n",
      "Fit statistic  : C-Statistic                    2.39     using 58 bins.\n",
      "\n",
      "Warning: cstat statistic is only valid for Poisson data.\n",
      "    Source file is not Poisson for spectrum 1\n",
      "\n",
      "\n",
      "Test statistic : Chi-Squared           "
     ]
    },
    {
     "name": "stderr",
     "output_type": "stream",
     "text": [
      "\n",
      "***XSPEC Error:  No variable parameters for fit \n",
      "***XSPEC Error:  No variable parameters for fit \n",
      "***XSPEC Error:  No variable parameters for fit "
     ]
    },
    {
     "name": "stdout",
     "output_type": "stream",
     "text": [
      "        64.12     using 58 bins.\n",
      " Null hypothesis probability of 2.13e-01 with 56 degrees of freedom\n",
      "*** Parameter 1 is not a variable model parameter and no confidence range will be calculated.\n",
      " Parameter   Confidence Range (2.706)\n",
      "*** Parameter 2 is not a variable model parameter and no confidence range will be calculated.\n",
      " Parameter   Confidence Range (2.706)\n",
      " Parameter   Confidence Range (2.706)\n",
      "***Warning: Negative alpha-matrix diagonal element for parameter 4\n",
      " Parameter 4 is pegged at 7.5317 due to zero or negative pivot element, likely\n",
      " caused by the fit being insensitive to the parameter.\n",
      "\n",
      " Fit error occurred during lower bound error calculation.\n",
      "***Warning: Negative alpha-matrix diagonal element for parameter 4\n",
      " Parameter 4 is pegged at 7.5317 due to zero or negative pivot element, likely\n",
      " caused by the fit being insensitive to the parameter.\n",
      "***Warning: Negative alpha-matrix diagonal element for parameter 4\n",
      " Parameter 4 is pegged at 7.5317 due to zero or negative pivot element, likely\n",
      " caused by the fit being insensitive to the parameter.\n",
      "***Warning: Negative alpha-matrix diagonal element for parameter 4\n",
      " Parameter 4 is pegged at 7.5317 due to zero or negative pivot element, likely\n",
      " caused by the fit being insensitive to the parameter.\n",
      "***Warning: Negative alpha-matrix diagonal element for parameter 4\n",
      " Parameter 4 is pegged at 7.5317 due to zero or negative pivot element, likely\n",
      " caused by the fit being insensitive to the parameter.\n",
      " Warning: renorm - no variable model to allow  renormalization\n",
      "                                   Parameters\n",
      "C-Statistic  |beta|/N    Lvl    3:lg10Flux    4:PhoIndex\n",
      "***Warning: Negative alpha-matrix diagonal element for parameter 4\n",
      " Parameter 4 is pegged at 5.72316 due to zero or negative pivot element, likely\n",
      " caused by the fit being insensitive to the parameter.\n",
      "2.17267      0.0920701    -3      -10.8421       5.72316\n",
      "2.066        0.0647349    -4      -10.4912       5.72316\n",
      "1.97902      0.0434174    -5      -10.2056       5.72316\n",
      "1.93071      0.0127667    -6      -10.0460       5.72316\n",
      "***Warning: Negative alpha-matrix diagonal element for parameter 3\n",
      " Parameter 3 is pegged at -10.046 due to zero or negative pivot element, likely\n",
      " caused by the fit being insensitive to the parameter.\n",
      "\n",
      " Fit error occurred during upper bound error calculation.\n",
      " Warning: renorm - no variable model to allow  renormalization\n",
      "                                   Parameters\n",
      "C-Statistic  |beta|/N    Lvl    3:lg10Flux    4:PhoIndex\n",
      "***Warning: Negative alpha-matrix diagonal element for parameter 4\n",
      " Parameter 4 is pegged at 7.5317 due to zero or negative pivot element, likely\n",
      " caused by the fit being insensitive to the parameter.\n",
      "2.39283      4.71165e-34  30      -20.4980       7.53170\n",
      "***Warning: Negative alpha-matrix diagonal element for parameter 4\n",
      " Parameter 4 is pegged at 7.5317 due to zero or negative pivot element, likely\n",
      " caused by the fit being insensitive to the parameter.\n",
      "1.84918      1.02441e-10   7      -9.73868       7.53170\n",
      "1.84918      0.0198032     6      -9.73868       7.53170\n",
      "***Warning: Negative alpha-matrix diagonal element for parameter 4\n",
      " Parameter 4 is pegged at 7.5317 due to zero or negative pivot element, likely\n",
      " caused by the fit being insensitive to the parameter.\n",
      "1.79743      0.0198032    -3      -9.56019       7.53170\n",
      "1.79743      0.00804071   14      -9.56019       7.53170\n",
      "***Warning: Negative alpha-matrix diagonal element for parameter 4\n",
      " Parameter 4 is pegged at 7.5317 due to zero or negative pivot element, likely\n",
      " caused by the fit being insensitive to the parameter.\n",
      "1.79743      0.00804071   14      -9.56019       7.53170\n",
      "====================\n",
      " Variances and Principal Axes\n",
      "                 3  \n",
      " 3.1926E+01|  1.0000  \n",
      "--------------------\n",
      "     3            0            0    (9.56019,9.56019)\n",
      " Parameter   Confidence Range (2.706)\n",
      " Warning: renorm - no variable model to allow  renormalization\n",
      "                                   Parameters\n",
      "C-Statistic  |beta|/N    Lvl    3:lg10Flux    4:PhoIndex\n",
      "***Warning: Negative alpha-matrix diagonal element for parameter 4\n",
      " Parameter 4 is pegged at 9.11134 due to zero or negative pivot element, likely\n",
      " caused by the fit being insensitive to the parameter.\n",
      "1.71299      0.00307639   13      -9.18209       9.11134\n",
      "***Warning: Negative alpha-matrix diagonal element for parameter 4\n",
      " Parameter 4 is pegged at 9.11134 due to zero or negative pivot element, likely\n",
      " caused by the fit being insensitive to the parameter.\n",
      "1.71299      0.00307639   13      -9.18209       9.11134\n",
      "====================\n",
      " Variances and Principal Axes\n",
      "                 3  \n",
      " 1.0003E+01|  1.0000  \n",
      "--------------------\n",
      "\n",
      "============\n",
      "  Covariance Matrix\n",
      "        1   \n",
      "   1.000e+01\n",
      "------------\n",
      "\n",
      "========================================================================\n",
      "Model cflux<1>*powerlaw<2> Source No.: 1   Active/On\n",
      "Model Model Component  Parameter  Unit     Value\n",
      " par  comp\n",
      "   1    1   cflux      Emin       keV      15.0000      frozen\n",
      "   2    1   cflux      Emax       keV      150.000      frozen\n",
      "   3    1   cflux      lg10Flux   cgs      -9.18209     +/-  3.16279      \n",
      "   4    2   powerlaw   PhoIndex            9.11134      +/-  -1.00000     \n",
      "   5    2   powerlaw   norm                1.00000E-03  frozen\n",
      "________________________________________________________________________\n",
      "\n",
      "\n",
      "Fit statistic  : C-Statistic                    1.71     using 58 bins.\n",
      "\n",
      "Warning: cstat statistic is only valid for Poisson data.\n",
      "    Source file is not Poisson for spectrum 1\n",
      "\n",
      "\n",
      "Test statistic : Chi-Squared                   63.94     using 58 bins.\n",
      " Null hypothesis probability of 2.18e-01 with 56 degrees of freedom\n",
      "***Warning: New best fit found, fit parameters will be set to new values.\n",
      " Warning: renorm - no variable model to allow  renormalization\n",
      "                                   Parameters\n",
      "C-Statistic  |beta|/N    Lvl    3:lg10Flux    4:PhoIndex\n",
      "***Warning: Negative alpha-matrix diagonal element for parameter 4\n",
      " Parameter 4 is pegged at 9.6804 due to zero or negative pivot element, likely\n",
      " caused by the fit being insensitive to the parameter.\n",
      "1.69425      0.00118337   13      -9.07482       9.68040\n",
      "***Warning: Negative alpha-matrix diagonal element for parameter 4\n",
      " Parameter 4 is pegged at 9.6804 due to zero or negative pivot element, likely\n",
      " caused by the fit being insensitive to the parameter.\n",
      "1.69425      0.00118337   13      -9.07482       9.68040\n",
      "====================\n",
      " Variances and Principal Axes\n",
      "                 3  \n",
      " 8.0775E+00|  1.0000  \n",
      "--------------------\n",
      "\n",
      "============\n",
      "  Covariance Matrix\n",
      "        1   \n",
      "   8.077e+00\n",
      "------------\n",
      "\n",
      "========================================================================\n",
      "Model cflux<1>*powerlaw<2> Source No.: 1   Active/On\n",
      "Model Model Component  Parameter  Unit     Value\n",
      " par  comp\n",
      "   1    1   cflux      Emin       keV      15.0000      frozen\n",
      "   2    1   cflux      Emax       keV      150.000      frozen\n",
      "   3    1   cflux      lg10Flux   cgs      -9.07482     +/-  2.84209      \n",
      "   4    2   powerlaw   PhoIndex            9.68040      +/-  -1.00000     \n",
      "   5    2   powerlaw   norm                1.00000E-03  frozen\n",
      "________________________________________________________________________\n",
      "\n",
      "\n",
      "Fit statistic  : C-Statistic                    1.69     using 58 bins.\n",
      "\n",
      "Warning: cstat statistic is only valid for Poisson data.\n",
      "    Source file is not Poisson for spectrum 1\n",
      "\n",
      "\n",
      "Test statistic : Chi-Squared                   63.99     using 58 bins.\n",
      " Null hypothesis probability of 2.17e-01 with 56 degrees of freedom\n",
      "***Warning: New best fit found, fit parameters will be set to new values.\n",
      "\n",
      "***Warning: Number of trials exceeded before bracketing of delta fit-stat.\n",
      "Last attempt: 10, with delta statistic: 0\n",
      "\n",
      "\n",
      "*** Parameter lower bound is INVALID.\n",
      "\n",
      "***Warning: Negative alpha-matrix diagonal element for parameter 4\n",
      " Parameter 4 is pegged at 9.6804 due to zero or negative pivot element, likely\n",
      " caused by the fit being insensitive to the parameter.\n",
      "***Warning: Negative alpha-matrix diagonal element for parameter 4\n",
      " Parameter 4 is pegged at 9.6804 due to zero or negative pivot element, likely\n",
      " caused by the fit being insensitive to the parameter.\n",
      " Warning: renorm - no variable model to allow  renormalization\n",
      "                                   Parameters\n",
      "C-Statistic  |beta|/N    Lvl    3:lg10Flux    4:PhoIndex\n",
      "***Warning: Negative alpha-matrix diagonal element for parameter 4\n",
      " Parameter 4 is pegged at 7.5317 due to zero or negative pivot element, likely\n",
      " caused by the fit being insensitive to the parameter.\n",
      "1.66303      0.0368113    15      -9.07482       7.53170\n",
      "***Warning: Negative alpha-matrix diagonal element for parameter 4\n",
      " Parameter 4 is pegged at 7.5317 due to zero or negative pivot element, likely\n",
      " caused by the fit being insensitive to the parameter.\n",
      "1.66303      0.0368113    15      -9.07482       7.53170\n",
      "====================\n",
      " Variances and Principal Axes\n",
      "                 3  \n",
      " 5.6808E+01|  1.0000  \n",
      "--------------------\n",
      "\n",
      "============\n",
      "  Covariance Matrix\n",
      "        1   \n",
      "   5.681e+01\n",
      "------------\n",
      "\n",
      "========================================================================\n",
      "Model cflux<1>*powerlaw<2> Source No.: 1   Active/On\n",
      "Model Model Component  Parameter  Unit     Value\n",
      " par  comp\n",
      "   1    1   cflux      Emin       keV      15.0000      frozen\n",
      "   2    1   cflux      Emax       keV      150.000      frozen\n",
      "   3    1   cflux      lg10Flux   cgs      -9.07482     +/-  7.53711      \n",
      "   4    2   powerlaw   PhoIndex            7.53170      +/-  -1.00000     \n",
      "   5    2   powerlaw   norm                1.00000E-03  frozen\n",
      "________________________________________________________________________\n",
      "\n",
      "\n",
      "Fit statistic  : C-Statistic                    1.66     using 58 bins.\n",
      "\n",
      "Warning: cstat statistic is only valid for Poisson data.\n",
      "    Source file is not Poisson for spectrum 1\n",
      "\n",
      "\n",
      "Test statistic : Chi-Squared                   63.81     using 58 bins.\n",
      " Null hypothesis probability of 2.21e-01 with 56 degrees of freedom\n",
      "***Warning: New best fit found, fit parameters will be set to new values.\n",
      "\n",
      "***Warning: Number of trials exceeded before bracketing of delta fit-stat.\n",
      "Last attempt: 10, with delta statistic: 0.0223396\n",
      "\n",
      "\n",
      "*** Parameter lower bound is INVALID.\n",
      "\n",
      "***Warning: Negative alpha-matrix diagonal element for parameter 4\n",
      " Parameter 4 is pegged at 7.5317 due to zero or negative pivot element, likely\n",
      " caused by the fit being insensitive to the parameter.\n",
      "***Warning: Negative alpha-matrix diagonal element for parameter 4\n",
      " Parameter 4 is pegged at 7.5317 due to zero or negative pivot element, likely\n",
      " caused by the fit being insensitive to the parameter.\n",
      "***Warning: Negative alpha-matrix diagonal element for parameter 3\n",
      " Parameter 3 is pegged at -9.07482 due to zero or negative pivot element, likely\n",
      " caused by the fit being insensitive to the parameter.\n",
      "\n",
      " Fit error occurred during upper bound error calculation.\n",
      "***Warning: Negative alpha-matrix diagonal element for parameter 4\n",
      " Parameter 4 is pegged at 7.5317 due to zero or negative pivot element, likely\n",
      " caused by the fit being insensitive to the parameter.\n",
      "***Warning: Negative alpha-matrix diagonal element for parameter 4\n",
      " Parameter 4 is pegged at 7.5317 due to zero or negative pivot element, likely\n",
      " caused by the fit being insensitive to the parameter.\n",
      "     4            0            0    (-7.5317,-7.5317)\n",
      "*** Parameter 5 is not a variable model parameter and no confidence range will be calculated.\n",
      " Parameter   Confidence Range (2.706)\n"
     ]
    },
    {
     "data": {
      "image/png": "[encoded data removed]",
      "text/plain": [
       "<Figure size 640x480 with 1 Axes>"
      ]
     },
     "metadata": {},
     "output_type": "display_data"
    }
   ],
   "source": [
    "ba.fit_spectrum(spectrum)"
   ]
  },
  {
   "cell_type": "markdown",
   "id": "335b4cca",
   "metadata": {},
   "source": [
    "Then, we pass the spectrum to the `calculate_detection` function which will confirm that we have no detection of the FRB and it will compute the 5$\\sigma$ upper limit spectrum for us based on the background variation counts. The upper limit spectrum will be fitted with a powerlaw model to obtain the flux upperlimit of the FRB.  "
   ]
  },
  {
   "cell_type": "code",
   "execution_count": 17,
   "id": "3a003f38",
   "metadata": {},
   "outputs": [
    {
     "name": "stdout",
     "output_type": "stream",
     "text": [
      "The condition here is 2.7530492649974766e-10 [1.0, 1.0] 3 0.0 2.7530492649974766e-10\n",
      "No detection, just upperlimits for the spectrum: t_727203935.410081-727203945.410081_80chan.pha\n",
      "\n",
      "1 spectrum  in use\n",
      " \n",
      "Spectral Data File: t_727203935.410081-727203945.410081_80chan_bkgnsigma_5_upperlim.pha  Spectrum 1\n",
      "Net count rate (cts/s) for Spectrum:1  3.457e-01 +/- 1.985e-02\n",
      " Assigned to Data Group 1 and Plot Group 1\n",
      "  Noticed Channels:  1-80\n",
      "  Telescope: SWIFT Instrument: BAT  Channel Type: PI\n",
      "  Exposure Time: 10 sec\n",
      " Using fit statistic: cstat\n",
      " Using Response (RMF) File            t_727203935.410081-727203945.410081_80chan.rsp for Source 1\n",
      "\n",
      "\n",
      "Fit statistic  : C-Statistic                   39.54     using 80 bins.\n",
      "\n",
      "Warning: cstat statistic is only valid for Poisson data.\n",
      "    Source file is not Poisson for spectrum 1\n",
      "\n",
      "\n",
      "Test statistic : Chi-Squared                44846.80     using 80 bins.\n",
      " Null hypothesis probability of 0.00e+00 with 78 degrees of freedom\n",
      " Current data and model not fit yet.\n",
      "\n",
      "========================================================================\n",
      "Model powerlaw<1> Source No.: 1   Active/On\n",
      "Model Model Component  Parameter  Unit     Value\n",
      " par  comp\n",
      "   1    1   powerlaw   PhoIndex            1.00000      +/-  0.0          \n",
      "   2    1   powerlaw   norm                1.00000      +/-  0.0          \n",
      "________________________________________________________________________\n",
      "\n",
      "\n",
      "Fit statistic  : C-Statistic                    0.66     using 80 bins.\n",
      "\n",
      "Warning: cstat statistic is only valid for Poisson data.\n",
      "    Source file is not Poisson for spectrum 1\n",
      "\n",
      "\n",
      "Test statistic : Chi-Squared                 7660.08     using "
     ]
    }
   ],
   "source": [
    "upperlim_spect=ba.calculate_detection(spectrum, pl_index=1)"
   ]
  },
  {
   "cell_type": "markdown",
   "id": "ef02f6e4",
   "metadata": {},
   "source": [
    "With the upper limit spectrum constructed and fitted with a simple powerlaw with a photon index of 1, we can see how the fit looks. "
   ]
  },
  {
   "cell_type": "code",
   "execution_count": 18,
   "id": "faf485b9",
   "metadata": {},
   "outputs": [
    {
     "name": "stdout",
     "output_type": "stream",
     "text": [
      "80 bins.\n",
      " Null hypothesis probability of 0.00e+00 with 78 degrees of freedom\n",
      " Current data and model not fit yet.\n",
      "\n",
      "Fit statistic  : C-Statistic                   41.98     using 80 bins.\n",
      "\n",
      "Warning: cstat statistic is only valid for Poisson data.\n",
      "    Source file is not Poisson for spectrum 1\n",
      "\n",
      "\n",
      "Test statistic : Chi-Squared                44832.85     using 80 bins.\n",
      " Null hypothesis probability of 0.00e+00 with 79 degrees of freedom\n",
      " Current data and model not fit yet.\n",
      "\n",
      "========================================================================\n",
      "Model powerlaw<1> Source No.: 1   Active/On\n",
      "Model Model Component  Parameter  Unit     Value\n",
      " par  comp\n",
      "   1    1   powerlaw   PhoIndex            1.00000      frozen\n",
      "   2    1   powerlaw   norm                1.00000E-03  +/-  0.0          \n",
      "________________________________________________________________________\n",
      "\n",
      "Default fit statistic is set to: C-Statistic\n",
      "   This will apply to all current and newly loaded spectra.\n",
      "\n",
      "Fit statistic  : C-Statistic      "
     ]
    },
    {
     "data": {
      "text/plain": [
       "(<Figure size 640x480 with 1 Axes>,\n",
       " <Axes: xlabel='E (keV)', ylabel='Count Rate (ct/s)'>)"
      ]
     },
     "execution_count": 18,
     "metadata": {},
     "output_type": "execute_result"
    },
    {
     "name": "stdout",
     "output_type": "stream",
     "text": [
      "             41.98     using 80 bins.\n",
      "\n",
      "Warning: cstat statistic is only valid for Poisson data.\n",
      "    Source file is not Poisson for spectrum 1\n",
      "\n",
      "\n",
      "Test statistic : Chi-Squared                44832.85     using 80 bins.\n",
      " Null hypothesis probability of 0.00e+00 with 79 degrees of freedom\n",
      " Current data and model not fit yet.\n",
      "     4 channels (1-4) ignored in spectrum #     1\n",
      "    18 channels (63-80) ignored in spectrum #     1\n",
      "\n",
      "Fit statistic  : C-Statistic                   31.74     using 58 bins.\n",
      "\n",
      "Warning: cstat statistic is only valid for Poisson data.\n",
      "    Source file is not Poisson for spectrum 1\n",
      "\n",
      "\n",
      "Test statistic : Chi-Squared                34278.37     using 58 bins.\n",
      " Null hypothesis probability of 0.00e+00 with 57 degrees of freedom\n",
      " Current data and model not fit yet.\n",
      "\n",
      "\n",
      "Fit statistic  : C-Statistic                    0.14     using 58 bins.\n",
      "\n",
      "Warning: cstat statistic is only valid for Poisson data.\n",
      "    Source file is not Poisson for spectrum 1\n",
      "\n",
      "\n",
      "Test statistic : Chi-Squared                 2257.50     using 58 bins.\n",
      " Null hypothesis probability of 0.00e+00 with 57 degrees of freedom\n",
      " Current data and model not fit yet.\n",
      "                                   Parameters\n",
      "C-Statistic  |beta|/N    Lvl        2:norm\n",
      "0.142488     1.42247e-15   0       1.01464\n",
      "====================\n",
      " Variances and Principal Axes\n",
      "                 2  \n",
      " 3.8588E-01|  1.0000  \n",
      "--------------------\n",
      "\n",
      "============\n",
      "  Covariance Matrix\n",
      "        1   \n",
      "   3.859e-01\n",
      "------------\n",
      "\n",
      "========================================================================\n",
      "Model powerlaw<1> Source No.: 1   Active/On\n",
      "Model Model Component  Parameter  Unit     Value\n",
      " par  comp\n",
      "   1    1   powerlaw   PhoIndex            1.00000      frozen\n",
      "   2    1   powerlaw   norm                1.01464      +/-  0.621189     \n",
      "________________________________________________________________________\n",
      "\n",
      "\n",
      "Fit statistic  : C-Statistic                    0.14     using 58 bins.\n",
      "\n",
      "Warning: cstat statistic is only valid for Poisson data.\n",
      "    Source file is not Poisson for spectrum 1\n",
      "\n",
      "\n",
      "Test statistic : Chi-Squared                 2257.50     using 58 bins.\n",
      " Null hypothesis probability of 0.00e+00 with 57 degrees of freedom\n",
      "\n",
      "Parameters defined:\n",
      "========================================================================\n",
      "Model powerlaw<1> Source No.: 1   Active/On\n",
      "Model Model Component  Parameter  Unit     Value\n",
      " par  comp\n",
      "   1    1   powerlaw   PhoIndex            1.00000      frozen\n",
      "   2    1   powerlaw   norm                1.01464      +/-  0.621189     \n",
      "________________________________________________________________________\n",
      "\n",
      "\n",
      "Fit statistic  : C-Statistic                    0.14     using 58 bins.\n",
      "\n",
      "Warning: cstat statistic is only valid for Poisson data.\n",
      "    Source file is not Poisson for spectrum 1\n",
      "\n",
      "\n",
      "Test statistic : Chi-Squared                 2257.50     using 58 bins.\n",
      " Null hypothesis probability of 0.00e+00 with 57 degrees of freedom\n",
      "*** Parameter 1 is not a variable model parameter and no confidence range will be calculated.\n",
      " Parameter   Confidence Range (2.706)\n",
      " Parameter   Confidence Range (2.706)\n",
      "     2     0.303154      2.40473    (-0.711487,1.39008)\n",
      " Model Flux    2.3363 photons (2.1946e-07 ergs/cm^2/s) range (15.000 - 150.00 keV)\n"
     ]
    },
    {
     "data": {
      "image/png": "[encoded data removed]",
      "text/plain": [
       "<Figure size 640x480 with 1 Axes>"
      ]
     },
     "metadata": {},
     "output_type": "display_data"
    }
   ],
   "source": [
    "upperlim_spect.plot()"
   ]
  },
  {
   "cell_type": "markdown",
   "id": "b13247fa",
   "metadata": {},
   "source": [
    "Lets plot the lightcurve as well as the flux upper limit that we have calculated:"
   ]
  },
  {
   "cell_type": "code",
   "execution_count": 25,
   "id": "b13b4688",
   "metadata": {},
   "outputs": [
    {
     "data": {
      "image/png": "[encoded data removed]",
      "text/plain": [
       "<Figure size 640x480 with 3 Axes>"
      ]
     },
     "metadata": {},
     "output_type": "display_data"
    }
   ],
   "source": [
    "fig, axes = ba.plot_TTE_lightcurve(lc, [upperlim_spect], plot_relative=True, T0=triggertime.met)\n",
    "\n",
    "axes[0].set_xlim([-25,25])\n",
    "\n",
    "axes[0].set_ylabel(\"Rate (ct/s)\", fontsize=12)\n",
    "axes[1].set_ylabel(\"Flux (erg/s/cm$^2$)\", fontsize=12)\n",
    "axes[2].set_ylabel(r\"$\\Gamma$\", fontsize=12)\n",
    "\n",
    "for a, l in zip(axes, [\"a\", \"b\", \"c\", \"d\"]):\n",
    "    a.text(\n",
    "        0.99, 0.95, f\"({l})\", ha=\"right\", va=\"top\", transform=a.transAxes, fontsize=14\n",
    "    )\n",
    "    a.axvspan(-5,5, color='b',alpha=0.2)\n",
    "\n",
    "\n",
    "fig.tight_layout()\n",
    "fig.savefig(f'{event.result_dir.joinpath(\"FRB_lightcurve_upperlim.pdf\")}')"
   ]
  },
  {
   "cell_type": "code",
   "execution_count": null,
   "id": "d717f88a",
   "metadata": {},
   "outputs": [],
   "source": []
  },
  {
   "cell_type": "code",
   "execution_count": null,
   "id": "6be57164",
   "metadata": {},
   "outputs": [],
   "source": []
  }
 ],
 "metadata": {
  "kernelspec": {
   "display_name": "Python 3 (ipykernel)",
   "language": "python",
   "name": "python3"
  },
  "language_info": {
   "codemirror_mode": {
    "name": "ipython",
    "version": 3
   },
   "file_extension": ".py",
   "mimetype": "text/x-python",
   "name": "python",
   "nbconvert_exporter": "python",
   "pygments_lexer": "ipython3",
   "version": "3.12.5"
  }
 },
 "nbformat": 4,
 "nbformat_minor": 5
}
