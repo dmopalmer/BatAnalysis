{
 "cells": [
  {
   "cell_type": "code",
   "execution_count": null,
   "id": "26ed7d2b",
   "metadata": {},
   "outputs": [],
   "source": [
    "import xspec\n",
    "import batanalysis as ba\n",
    "from swifttools.swift_too import GUANO, ObsQuery, Clock\n",
    "import swiftbat\n",
    "\n",
    "import matplotlib.pyplot as plt\n",
    "import numpy as np\n",
    "import scipy as sp\n",
    "from pathlib import Path\n",
    "from astropy.io import fits\n",
    "from astropy.time import Time, TimeDelta\n",
    "import astropy.units as u\n",
    "from astropy.coordinates import SkyCoord\n",
    "import datetime\n",
    "import os\n",
    "tmp_download_dir=\"/tmp/batdata/download_examples\"\n",
    "\n",
    "ba.datadir(tmp_download_dir, mkdir=True)\n",
    "t=Time(\"2024-07-29T12:05:16\")\n",
    "result = ba.download_swift_trigger_data(triggertime=t.datetime, timewindow=400)\n",
    "event=ba.BatEvent(result[1245446][0].obsid, obs_dir=result[1245446][0].entries[0].outdir)\n",
    "eresolved_skyview=event.create_skyview(energybins=[15,25,50,100,350]*u.keV)\n",
    "eresolved_sources = eresolved_skyview.detect_sources()\n",
    "c=eresolved_sources[\"SKYCOORD\"][0]\n",
    "event.apply_mask_weighting(ra=c.ra, dec=c.dec)\n",
    "event.ra\n",
    "event.dec\n",
    "c\n",
    "event.ra=117.13879907*u.deg\n",
    "event.ra\n",
    "lc=event.create_lightcurve()\n",
    "plt.ion()\n",
    "lc.plot()\n",
    "lc.plot(energybins=[15,350]*u.keV)\n",
    "t=Time(\"2024-07-29T12:05:16\")\n",
    "Clock(utctime=t)\n",
    "swiftclock=Clock(utctime=t)\n",
    "swiftclock.utctime\n",
    "lc.plot(energybins=[15,350]*u.keV, plot_relative=True, T0=swiftclock.mettime)\n",
    "lc.plot(energybins=[15,25]*u.keV, plot_relative=True, T0=swiftclock.mettime)\n",
    "lc.set_timebins(timebinalg=\"uniform\", timedelta=np.timedelta64(1, 's'))\n",
    "lc.plot(energybins=[15,25]*u.keV, plot_relative=True, T0=swiftclock.mettime)\n",
    "lc.plot(energybins=[15,350]*u.keV, plot_relative=True, T0=swiftclock.mettime)\n",
    "result = ba.download_swift_trigger_data(triggertime=t.datetime, timewindow=400)\n"
   ]
  }
 ],
 "metadata": {
  "kernelspec": {
   "display_name": "Python 3 (ipykernel)",
   "language": "python",
   "name": "python3"
  },
  "language_info": {
   "codemirror_mode": {
    "name": "ipython",
    "version": 3
   },
   "file_extension": ".py",
   "mimetype": "text/x-python",
   "name": "python",
   "nbconvert_exporter": "python",
   "pygments_lexer": "ipython3",
   "version": "3.11.3"
  }
 },
 "nbformat": 4,
 "nbformat_minor": 5
}
